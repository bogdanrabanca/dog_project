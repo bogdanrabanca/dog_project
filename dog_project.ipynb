{
 "cells": [
  {
   "cell_type": "markdown",
   "metadata": {},
   "source": [
    "### Data Gathering"
   ]
  },
  {
   "cell_type": "markdown",
   "metadata": {},
   "source": [
    "I import 'twitter-archive-enhanced.csv' into a dataframe:"
   ]
  },
  {
   "cell_type": "code",
   "execution_count": 149,
   "metadata": {},
   "outputs": [],
   "source": [
    "import pandas as pd\n",
    "import numpy as np\n",
    "\n",
    "twitter=pd.read_csv('twitter-archive-enhanced.csv')"
   ]
  },
  {
   "cell_type": "markdown",
   "metadata": {},
   "source": [
    "I download the 'image predictions' file, save it into a .csv file and then import that file into a dataframe:"
   ]
  },
  {
   "cell_type": "code",
   "execution_count": 150,
   "metadata": {},
   "outputs": [],
   "source": [
    "import requests\n",
    "\n",
    "predictions=requests.get('https://d17h27t6h515a5.cloudfront.net/topher/2017/August/599fd2ad_image-predictions/image-predictions.tsv')"
   ]
  },
  {
   "cell_type": "code",
   "execution_count": 151,
   "metadata": {},
   "outputs": [],
   "source": [
    "open('image_predictions.csv','wb').write(predictions.content)"
   ]
  },
  {
   "cell_type": "code",
   "execution_count": 152,
   "metadata": {},
   "outputs": [],
   "source": [
    "prediction=pd.read_csv('image_predictions.csv',sep='\\t',error_bad_lines=False)"
   ]
  },
  {
   "cell_type": "markdown",
   "metadata": {},
   "source": [
    "I download the twitter data into a json .txt file, and then import the data into a dataframe:"
   ]
  },
  {
   "cell_type": "code",
   "execution_count": 153,
   "metadata": {},
   "outputs": [],
   "source": [
    "# import tweepy\n",
    "\n",
    "# consumer_key = 'XXXXXXXXXXXXXXXXXX'\n",
    "# consumer_secret = 'XXXXXXXXXXXXXXXXXX'\n",
    "# access_token = 'XXXXXXXXXXXXXXXXXX'\n",
    "# access_secret = 'XXXXXXXXXXXXXXXXXX'\n",
    "\n",
    "# auth = tweepy.OAuthHandler(consumer_key, consumer_secret)\n",
    "# auth.set_access_token(access_token, access_secret)\n",
    "\n",
    "# api = tweepy.API(auth,wait_on_rate_limit=True,wait_on_rate_limit_notify=True)"
   ]
  },
  {
   "cell_type": "code",
   "execution_count": 154,
   "metadata": {},
   "outputs": [],
   "source": [
    "import json\n",
    "tweets=[]\n",
    "for line in open('tweet_json.txt','r'):\n",
    "    try:\n",
    "        tweets.append(json.loads(line))\n",
    "    except ValueError:\n",
    "        pass"
   ]
  },
  {
   "cell_type": "code",
   "execution_count": 155,
   "metadata": {},
   "outputs": [],
   "source": [
    "import pandas as pd\n",
    "\n",
    "tweets=pd.DataFrame(tweets)"
   ]
  },
  {
   "cell_type": "markdown",
   "metadata": {},
   "source": [
    "This concludes the gathering part of the project. I move on to the next part, which is assessing the data."
   ]
  },
  {
   "cell_type": "markdown",
   "metadata": {},
   "source": [
    "## Assessing the data"
   ]
  },
  {
   "cell_type": "markdown",
   "metadata": {},
   "source": [
    "I start by looking at the `tweets` dataframe, because I need to decide what I want to keep from it. Then I join the data I want to keep from it, together with the `prediction` dataframe, to the `twitter` dataframe, and then I just assess and clean the latter dataframe. Before I start doing this, however, I will create copies for each dataframe. "
   ]
  },
  {
   "cell_type": "code",
   "execution_count": 156,
   "metadata": {},
   "outputs": [],
   "source": [
    "twitter_df=twitter.copy()\n",
    "tweets_df=tweets.copy()\n",
    "predictions_df=prediction.copy()"
   ]
  },
  {
   "cell_type": "code",
   "execution_count": 157,
   "metadata": {
    "scrolled": false
   },
   "outputs": [
    {
     "name": "stdout",
     "output_type": "stream",
     "text": [
      "  contributors coordinates                      created_at display_text_range  \\\n",
      "0         None        None  Tue Aug 01 16:23:56 +0000 2017            [0, 85]   \n",
      "1         None        None  Tue Aug 01 00:17:27 +0000 2017           [0, 138]   \n",
      "2         None        None  Mon Jul 31 00:18:03 +0000 2017           [0, 121]   \n",
      "\n",
      "                                            entities  \\\n",
      "0  {u'symbols': [], u'user_mentions': [], u'hasht...   \n",
      "1  {u'symbols': [], u'user_mentions': [], u'hasht...   \n",
      "2  {u'symbols': [], u'user_mentions': [], u'hasht...   \n",
      "\n",
      "                                   extended_entities  favorite_count  \\\n",
      "0  {u'media': [{u'expanded_url': u'https://twitte...           38256   \n",
      "1  {u'media': [{u'expanded_url': u'https://twitte...           32795   \n",
      "2  {u'media': [{u'expanded_url': u'https://twitte...           24696   \n",
      "\n",
      "   favorited                                          full_text   geo  \\\n",
      "0      False  This is Phineas. He's a mystical boy. Only eve...  None   \n",
      "1      False  This is Tilly. She's just checking pup on you....  None   \n",
      "2      False  This is Archie. He is a rare Norwegian Pouncin...  None   \n",
      "\n",
      "                         ...                          quoted_status  \\\n",
      "0                        ...                                    NaN   \n",
      "1                        ...                                    NaN   \n",
      "2                        ...                                    NaN   \n",
      "\n",
      "  quoted_status_id quoted_status_id_str  quoted_status_permalink  \\\n",
      "0              NaN                  NaN                      NaN   \n",
      "1              NaN                  NaN                      NaN   \n",
      "2              NaN                  NaN                      NaN   \n",
      "\n",
      "  retweet_count  retweeted retweeted_status  \\\n",
      "0          8380      False              NaN   \n",
      "1          6188      False              NaN   \n",
      "2          4093      False              NaN   \n",
      "\n",
      "                                              source truncated  \\\n",
      "0  <a href=\"http://twitter.com/download/iphone\" r...     False   \n",
      "1  <a href=\"http://twitter.com/download/iphone\" r...     False   \n",
      "2  <a href=\"http://twitter.com/download/iphone\" r...     False   \n",
      "\n",
      "                                                user  \n",
      "0  {u'follow_request_sent': False, u'has_extended...  \n",
      "1  {u'follow_request_sent': False, u'has_extended...  \n",
      "2  {u'follow_request_sent': False, u'has_extended...  \n",
      "\n",
      "[3 rows x 32 columns]\n"
     ]
    }
   ],
   "source": [
    "print tweets_df.head(3)"
   ]
  },
  {
   "cell_type": "code",
   "execution_count": 158,
   "metadata": {
    "scrolled": false
   },
   "outputs": [
    {
     "name": "stdout",
     "output_type": "stream",
     "text": [
      "<class 'pandas.core.frame.DataFrame'>\n",
      "RangeIndex: 2340 entries, 0 to 2339\n",
      "Data columns (total 32 columns):\n",
      "contributors                     0 non-null object\n",
      "coordinates                      0 non-null object\n",
      "created_at                       2340 non-null object\n",
      "display_text_range               2340 non-null object\n",
      "entities                         2340 non-null object\n",
      "extended_entities                2066 non-null object\n",
      "favorite_count                   2340 non-null int64\n",
      "favorited                        2340 non-null bool\n",
      "full_text                        2340 non-null object\n",
      "geo                              0 non-null object\n",
      "id                               2340 non-null int64\n",
      "id_str                           2340 non-null object\n",
      "in_reply_to_screen_name          78 non-null object\n",
      "in_reply_to_status_id            78 non-null float64\n",
      "in_reply_to_status_id_str        78 non-null object\n",
      "in_reply_to_user_id              78 non-null float64\n",
      "in_reply_to_user_id_str          78 non-null object\n",
      "is_quote_status                  2340 non-null bool\n",
      "lang                             2340 non-null object\n",
      "place                            1 non-null object\n",
      "possibly_sensitive               2204 non-null object\n",
      "possibly_sensitive_appealable    2204 non-null object\n",
      "quoted_status                    24 non-null object\n",
      "quoted_status_id                 26 non-null float64\n",
      "quoted_status_id_str             26 non-null object\n",
      "quoted_status_permalink          26 non-null object\n",
      "retweet_count                    2340 non-null int64\n",
      "retweeted                        2340 non-null bool\n",
      "retweeted_status                 168 non-null object\n",
      "source                           2340 non-null object\n",
      "truncated                        2340 non-null bool\n",
      "user                             2340 non-null object\n",
      "dtypes: bool(4), float64(3), int64(3), object(22)\n",
      "memory usage: 521.1+ KB\n"
     ]
    }
   ],
   "source": [
    "tweets_df.info()"
   ]
  },
  {
   "cell_type": "markdown",
   "metadata": {},
   "source": [
    "I take a look at the `twitter_df` table as well, to see what data I have in it:"
   ]
  },
  {
   "cell_type": "code",
   "execution_count": 159,
   "metadata": {},
   "outputs": [
    {
     "name": "stdout",
     "output_type": "stream",
     "text": [
      "             tweet_id  in_reply_to_status_id  in_reply_to_user_id  \\\n",
      "0  892420643555336193                    NaN                  NaN   \n",
      "1  892177421306343426                    NaN                  NaN   \n",
      "2  891815181378084864                    NaN                  NaN   \n",
      "\n",
      "                   timestamp  \\\n",
      "0  2017-08-01 16:23:56 +0000   \n",
      "1  2017-08-01 00:17:27 +0000   \n",
      "2  2017-07-31 00:18:03 +0000   \n",
      "\n",
      "                                              source  \\\n",
      "0  <a href=\"http://twitter.com/download/iphone\" r...   \n",
      "1  <a href=\"http://twitter.com/download/iphone\" r...   \n",
      "2  <a href=\"http://twitter.com/download/iphone\" r...   \n",
      "\n",
      "                                                text  retweeted_status_id  \\\n",
      "0  This is Phineas. He's a mystical boy. Only eve...                  NaN   \n",
      "1  This is Tilly. She's just checking pup on you....                  NaN   \n",
      "2  This is Archie. He is a rare Norwegian Pouncin...                  NaN   \n",
      "\n",
      "   retweeted_status_user_id retweeted_status_timestamp  \\\n",
      "0                       NaN                        NaN   \n",
      "1                       NaN                        NaN   \n",
      "2                       NaN                        NaN   \n",
      "\n",
      "                                       expanded_urls  rating_numerator  \\\n",
      "0  https://twitter.com/dog_rates/status/892420643...                13   \n",
      "1  https://twitter.com/dog_rates/status/892177421...                13   \n",
      "2  https://twitter.com/dog_rates/status/891815181...                12   \n",
      "\n",
      "   rating_denominator     name doggo floofer pupper puppo  \n",
      "0                  10  Phineas  None    None   None  None  \n",
      "1                  10    Tilly  None    None   None  None  \n",
      "2                  10   Archie  None    None   None  None  \n"
     ]
    }
   ],
   "source": [
    "print twitter_df.head(3)"
   ]
  },
  {
   "cell_type": "code",
   "execution_count": 160,
   "metadata": {},
   "outputs": [
    {
     "name": "stdout",
     "output_type": "stream",
     "text": [
      "<class 'pandas.core.frame.DataFrame'>\n",
      "RangeIndex: 2356 entries, 0 to 2355\n",
      "Data columns (total 17 columns):\n",
      "tweet_id                      2356 non-null int64\n",
      "in_reply_to_status_id         78 non-null float64\n",
      "in_reply_to_user_id           78 non-null float64\n",
      "timestamp                     2356 non-null object\n",
      "source                        2356 non-null object\n",
      "text                          2356 non-null object\n",
      "retweeted_status_id           181 non-null float64\n",
      "retweeted_status_user_id      181 non-null float64\n",
      "retweeted_status_timestamp    181 non-null object\n",
      "expanded_urls                 2297 non-null object\n",
      "rating_numerator              2356 non-null int64\n",
      "rating_denominator            2356 non-null int64\n",
      "name                          2356 non-null object\n",
      "doggo                         2356 non-null object\n",
      "floofer                       2356 non-null object\n",
      "pupper                        2356 non-null object\n",
      "puppo                         2356 non-null object\n",
      "dtypes: float64(4), int64(3), object(10)\n",
      "memory usage: 313.0+ KB\n"
     ]
    }
   ],
   "source": [
    "twitter_df.info()"
   ]
  },
  {
   "cell_type": "markdown",
   "metadata": {},
   "source": [
    "And I take a look at the predictions_df dataframe:"
   ]
  },
  {
   "cell_type": "code",
   "execution_count": 161,
   "metadata": {},
   "outputs": [
    {
     "data": {
      "text/html": [
       "<div>\n",
       "<style scoped>\n",
       "    .dataframe tbody tr th:only-of-type {\n",
       "        vertical-align: middle;\n",
       "    }\n",
       "\n",
       "    .dataframe tbody tr th {\n",
       "        vertical-align: top;\n",
       "    }\n",
       "\n",
       "    .dataframe thead th {\n",
       "        text-align: right;\n",
       "    }\n",
       "</style>\n",
       "<table border=\"1\" class=\"dataframe\">\n",
       "  <thead>\n",
       "    <tr style=\"text-align: right;\">\n",
       "      <th></th>\n",
       "      <th>tweet_id</th>\n",
       "      <th>jpg_url</th>\n",
       "      <th>img_num</th>\n",
       "      <th>p1</th>\n",
       "      <th>p1_conf</th>\n",
       "      <th>p1_dog</th>\n",
       "      <th>p2</th>\n",
       "      <th>p2_conf</th>\n",
       "      <th>p2_dog</th>\n",
       "      <th>p3</th>\n",
       "      <th>p3_conf</th>\n",
       "      <th>p3_dog</th>\n",
       "    </tr>\n",
       "  </thead>\n",
       "  <tbody>\n",
       "    <tr>\n",
       "      <th>0</th>\n",
       "      <td>666020888022790149</td>\n",
       "      <td>https://pbs.twimg.com/media/CT4udn0WwAA0aMy.jpg</td>\n",
       "      <td>1</td>\n",
       "      <td>Welsh_springer_spaniel</td>\n",
       "      <td>0.465074</td>\n",
       "      <td>True</td>\n",
       "      <td>collie</td>\n",
       "      <td>0.156665</td>\n",
       "      <td>True</td>\n",
       "      <td>Shetland_sheepdog</td>\n",
       "      <td>0.061428</td>\n",
       "      <td>True</td>\n",
       "    </tr>\n",
       "    <tr>\n",
       "      <th>1</th>\n",
       "      <td>666029285002620928</td>\n",
       "      <td>https://pbs.twimg.com/media/CT42GRgUYAA5iDo.jpg</td>\n",
       "      <td>1</td>\n",
       "      <td>redbone</td>\n",
       "      <td>0.506826</td>\n",
       "      <td>True</td>\n",
       "      <td>miniature_pinscher</td>\n",
       "      <td>0.074192</td>\n",
       "      <td>True</td>\n",
       "      <td>Rhodesian_ridgeback</td>\n",
       "      <td>0.072010</td>\n",
       "      <td>True</td>\n",
       "    </tr>\n",
       "    <tr>\n",
       "      <th>2</th>\n",
       "      <td>666033412701032449</td>\n",
       "      <td>https://pbs.twimg.com/media/CT4521TWwAEvMyu.jpg</td>\n",
       "      <td>1</td>\n",
       "      <td>German_shepherd</td>\n",
       "      <td>0.596461</td>\n",
       "      <td>True</td>\n",
       "      <td>malinois</td>\n",
       "      <td>0.138584</td>\n",
       "      <td>True</td>\n",
       "      <td>bloodhound</td>\n",
       "      <td>0.116197</td>\n",
       "      <td>True</td>\n",
       "    </tr>\n",
       "    <tr>\n",
       "      <th>3</th>\n",
       "      <td>666044226329800704</td>\n",
       "      <td>https://pbs.twimg.com/media/CT5Dr8HUEAA-lEu.jpg</td>\n",
       "      <td>1</td>\n",
       "      <td>Rhodesian_ridgeback</td>\n",
       "      <td>0.408143</td>\n",
       "      <td>True</td>\n",
       "      <td>redbone</td>\n",
       "      <td>0.360687</td>\n",
       "      <td>True</td>\n",
       "      <td>miniature_pinscher</td>\n",
       "      <td>0.222752</td>\n",
       "      <td>True</td>\n",
       "    </tr>\n",
       "    <tr>\n",
       "      <th>4</th>\n",
       "      <td>666049248165822465</td>\n",
       "      <td>https://pbs.twimg.com/media/CT5IQmsXIAAKY4A.jpg</td>\n",
       "      <td>1</td>\n",
       "      <td>miniature_pinscher</td>\n",
       "      <td>0.560311</td>\n",
       "      <td>True</td>\n",
       "      <td>Rottweiler</td>\n",
       "      <td>0.243682</td>\n",
       "      <td>True</td>\n",
       "      <td>Doberman</td>\n",
       "      <td>0.154629</td>\n",
       "      <td>True</td>\n",
       "    </tr>\n",
       "  </tbody>\n",
       "</table>\n",
       "</div>"
      ],
      "text/plain": [
       "             tweet_id                                          jpg_url  \\\n",
       "0  666020888022790149  https://pbs.twimg.com/media/CT4udn0WwAA0aMy.jpg   \n",
       "1  666029285002620928  https://pbs.twimg.com/media/CT42GRgUYAA5iDo.jpg   \n",
       "2  666033412701032449  https://pbs.twimg.com/media/CT4521TWwAEvMyu.jpg   \n",
       "3  666044226329800704  https://pbs.twimg.com/media/CT5Dr8HUEAA-lEu.jpg   \n",
       "4  666049248165822465  https://pbs.twimg.com/media/CT5IQmsXIAAKY4A.jpg   \n",
       "\n",
       "   img_num                      p1   p1_conf  p1_dog                  p2  \\\n",
       "0        1  Welsh_springer_spaniel  0.465074    True              collie   \n",
       "1        1                 redbone  0.506826    True  miniature_pinscher   \n",
       "2        1         German_shepherd  0.596461    True            malinois   \n",
       "3        1     Rhodesian_ridgeback  0.408143    True             redbone   \n",
       "4        1      miniature_pinscher  0.560311    True          Rottweiler   \n",
       "\n",
       "    p2_conf  p2_dog                   p3   p3_conf  p3_dog  \n",
       "0  0.156665    True    Shetland_sheepdog  0.061428    True  \n",
       "1  0.074192    True  Rhodesian_ridgeback  0.072010    True  \n",
       "2  0.138584    True           bloodhound  0.116197    True  \n",
       "3  0.360687    True   miniature_pinscher  0.222752    True  \n",
       "4  0.243682    True             Doberman  0.154629    True  "
      ]
     },
     "execution_count": 161,
     "metadata": {},
     "output_type": "execute_result"
    }
   ],
   "source": [
    "predictions_df.head()"
   ]
  },
  {
   "cell_type": "code",
   "execution_count": 162,
   "metadata": {},
   "outputs": [
    {
     "name": "stdout",
     "output_type": "stream",
     "text": [
      "<class 'pandas.core.frame.DataFrame'>\n",
      "RangeIndex: 2075 entries, 0 to 2074\n",
      "Data columns (total 12 columns):\n",
      "tweet_id    2075 non-null int64\n",
      "jpg_url     2075 non-null object\n",
      "img_num     2075 non-null int64\n",
      "p1          2075 non-null object\n",
      "p1_conf     2075 non-null float64\n",
      "p1_dog      2075 non-null bool\n",
      "p2          2075 non-null object\n",
      "p2_conf     2075 non-null float64\n",
      "p2_dog      2075 non-null bool\n",
      "p3          2075 non-null object\n",
      "p3_conf     2075 non-null float64\n",
      "p3_dog      2075 non-null bool\n",
      "dtypes: bool(3), float64(3), int64(2), object(4)\n",
      "memory usage: 152.0+ KB\n"
     ]
    }
   ],
   "source": [
    "predictions_df.info()"
   ]
  },
  {
   "cell_type": "markdown",
   "metadata": {},
   "source": [
    "I join the `twitter_df` dataframe with the `tweets_df` dataframe. I use a left join, so that all the rows in `twitter_df` are preserved, but the tweet_ids that are not in `twitter_df` are removed. I only added the following columns from `tweets_df`: `retweet_count`, `favorite_count`, `entities`."
   ]
  },
  {
   "cell_type": "code",
   "execution_count": 163,
   "metadata": {},
   "outputs": [],
   "source": [
    "temporary_df=tweets_df[['id','retweet_count','favorite_count','entities']]\n",
    "tweet_df=twitter_df.join(temporary_df.set_index('id'), on='tweet_id')  #joins the columns i want from tweets_df to twitter_df"
   ]
  },
  {
   "cell_type": "markdown",
   "metadata": {},
   "source": [
    "I check to see the results of the join:"
   ]
  },
  {
   "cell_type": "code",
   "execution_count": 164,
   "metadata": {},
   "outputs": [
    {
     "name": "stdout",
     "output_type": "stream",
     "text": [
      "             tweet_id  in_reply_to_status_id  in_reply_to_user_id  \\\n",
      "0  892420643555336193                    NaN                  NaN   \n",
      "1  892177421306343426                    NaN                  NaN   \n",
      "\n",
      "                   timestamp  \\\n",
      "0  2017-08-01 16:23:56 +0000   \n",
      "1  2017-08-01 00:17:27 +0000   \n",
      "\n",
      "                                              source  \\\n",
      "0  <a href=\"http://twitter.com/download/iphone\" r...   \n",
      "1  <a href=\"http://twitter.com/download/iphone\" r...   \n",
      "\n",
      "                                                text  retweeted_status_id  \\\n",
      "0  This is Phineas. He's a mystical boy. Only eve...                  NaN   \n",
      "1  This is Tilly. She's just checking pup on you....                  NaN   \n",
      "\n",
      "   retweeted_status_user_id retweeted_status_timestamp  \\\n",
      "0                       NaN                        NaN   \n",
      "1                       NaN                        NaN   \n",
      "\n",
      "                                       expanded_urls  rating_numerator  \\\n",
      "0  https://twitter.com/dog_rates/status/892420643...                13   \n",
      "1  https://twitter.com/dog_rates/status/892177421...                13   \n",
      "\n",
      "   rating_denominator     name doggo floofer pupper puppo  retweet_count  \\\n",
      "0                  10  Phineas  None    None   None  None         8380.0   \n",
      "1                  10    Tilly  None    None   None  None         6188.0   \n",
      "\n",
      "   favorite_count                                           entities  \n",
      "0         38256.0  {u'symbols': [], u'user_mentions': [], u'hasht...  \n",
      "1         32795.0  {u'symbols': [], u'user_mentions': [], u'hasht...  \n"
     ]
    }
   ],
   "source": [
    "print tweet_df.head(2)"
   ]
  },
  {
   "cell_type": "code",
   "execution_count": 165,
   "metadata": {
    "scrolled": true
   },
   "outputs": [
    {
     "name": "stdout",
     "output_type": "stream",
     "text": [
      "<class 'pandas.core.frame.DataFrame'>\n",
      "RangeIndex: 2356 entries, 0 to 2355\n",
      "Data columns (total 20 columns):\n",
      "tweet_id                      2356 non-null int64\n",
      "in_reply_to_status_id         78 non-null float64\n",
      "in_reply_to_user_id           78 non-null float64\n",
      "timestamp                     2356 non-null object\n",
      "source                        2356 non-null object\n",
      "text                          2356 non-null object\n",
      "retweeted_status_id           181 non-null float64\n",
      "retweeted_status_user_id      181 non-null float64\n",
      "retweeted_status_timestamp    181 non-null object\n",
      "expanded_urls                 2297 non-null object\n",
      "rating_numerator              2356 non-null int64\n",
      "rating_denominator            2356 non-null int64\n",
      "name                          2356 non-null object\n",
      "doggo                         2356 non-null object\n",
      "floofer                       2356 non-null object\n",
      "pupper                        2356 non-null object\n",
      "puppo                         2356 non-null object\n",
      "retweet_count                 2340 non-null float64\n",
      "favorite_count                2340 non-null float64\n",
      "entities                      2340 non-null object\n",
      "dtypes: float64(6), int64(3), object(11)\n",
      "memory usage: 368.2+ KB\n"
     ]
    }
   ],
   "source": [
    "tweet_df.info()"
   ]
  },
  {
   "cell_type": "markdown",
   "metadata": {},
   "source": [
    "Right away we notice some small things that need cleaning: \n",
    "    \n",
    "The `retweet_count` and `favorite_count` columns are float. I'll cast them as integer (**QUALITY ISSUE \\#1**)\n",
    "\n",
    "The `tweet_id` column is also float, but this shouldn't be a number at all, since it functions more like a name. Therefore I'll cast it as a string. (**QUALITY ISSUE \\#2**)\n",
    "\n",
    "I also need to change the `timestamp` column to a datetime format. (**QUALITY ISSUE \\#3**)"
   ]
  },
  {
   "cell_type": "markdown",
   "metadata": {},
   "source": [
    "I want to take a closer look at the `text` column, and at the `expanded_urls` column."
   ]
  },
  {
   "cell_type": "code",
   "execution_count": 166,
   "metadata": {},
   "outputs": [
    {
     "name": "stdout",
     "output_type": "stream",
     "text": [
      "This is Phineas. He's a mystical boy. Only ever appears in the hole of a donut. 13/10 https://t.co/MgUWQ76dJU\n",
      "https://twitter.com/dog_rates/status/892420643555336193/photo/1\n",
      "\n",
      "This is Tilly. She's just checking pup on you. Hopes you're doing ok. If not, she's available for pats, snugs, boops, the whole bit. 13/10 https://t.co/0Xxu71qeIV\n",
      "https://twitter.com/dog_rates/status/892177421306343426/photo/1\n",
      "\n",
      "This is Archie. He is a rare Norwegian Pouncing Corgo. Lives in the tall grass. You never know when one may strike. 12/10 https://t.co/wUnZnhtVJB\n",
      "https://twitter.com/dog_rates/status/891815181378084864/photo/1\n",
      "\n",
      "This is Darla. She commenced a snooze mid meal. 13/10 happens to the best of us https://t.co/tD36da7qLQ\n",
      "https://twitter.com/dog_rates/status/891689557279858688/photo/1\n",
      "\n",
      "This is Franklin. He would like you to stop calling him \"cute.\" He is a very fierce shark and should be respected as such. 12/10 #BarkWeek https://t.co/AtUZn91f7f\n",
      "https://twitter.com/dog_rates/status/891327558926688256/photo/1,https://twitter.com/dog_rates/status/891327558926688256/photo/1\n",
      "\n",
      "Here we have a majestic great white breaching off South Africa's coast. Absolutely h*ckin breathtaking. 13/10 (IG: tucker_marlo) #BarkWeek https://t.co/kQ04fDDRmh\n",
      "https://twitter.com/dog_rates/status/891087950875897856/photo/1\n",
      "\n",
      "Meet Jax. He enjoys ice cream so much he gets nervous around it. 13/10 help Jax enjoy more things by clicking below\n",
      "\n",
      "https://t.co/Zr4hWfAs1H https://t.co/tVJBRMnhxl\n",
      "https://gofundme.com/ydvmve-surgery-for-jax,https://twitter.com/dog_rates/status/890971913173991426/photo/1\n",
      "\n",
      "When you watch your owner call another dog a good boy but then they turn back to you and say you're a great boy. 13/10 https://t.co/v0nONBcwxq\n",
      "https://twitter.com/dog_rates/status/890729181411237888/photo/1,https://twitter.com/dog_rates/status/890729181411237888/photo/1\n",
      "\n",
      "This is Zoey. She doesn't want to be one of the scary sharks. Just wants to be a snuggly pettable boatpet. 13/10 #BarkWeek https://t.co/9TwLuAGH0b\n",
      "https://twitter.com/dog_rates/status/890609185150312448/photo/1\n",
      "\n",
      "This is Cassie. She is a college pup. Studying international doggo communication and stick theory. 14/10 so elegant much sophisticate https://t.co/t1bfwz5S2A\n",
      "https://twitter.com/dog_rates/status/890240255349198849/photo/1\n",
      "\n",
      "This is Koda. He is a South Australian deckshark. Deceptively deadly. Frighteningly majestic. 13/10 would risk a petting #BarkWeek https://t.co/dVPW0B0Mme\n",
      "https://twitter.com/dog_rates/status/890006608113172480/photo/1,https://twitter.com/dog_rates/status/890006608113172480/photo/1\n",
      "\n",
      "This is Bruno. He is a service shark. Only gets out of the water to assist you. 13/10 terrifyingly good boy https://t.co/u1XPQMl29g\n",
      "https://twitter.com/dog_rates/status/889880896479866881/photo/1\n",
      "\n",
      "Here's a puppo that seems to be on the fence about something haha no but seriously someone help her. 13/10 https://t.co/BxvuXk0UCm\n",
      "https://twitter.com/dog_rates/status/889665388333682689/photo/1\n",
      "\n",
      "This is Ted. He does his best. Sometimes that's not enough. But it's ok. 12/10 would assist https://t.co/f8dEDcrKSR\n",
      "https://twitter.com/dog_rates/status/889638837579907072/photo/1,https://twitter.com/dog_rates/status/889638837579907072/photo/1\n",
      "\n",
      "This is Stuart. He's sporting his favorite fanny pack. Secretly filled with bones only. 13/10 puppared puppo #BarkWeek https://t.co/y70o6h3isq\n",
      "https://twitter.com/dog_rates/status/889531135344209921/photo/1\n",
      "\n",
      "This is Oliver. You're witnessing one of his many brutal attacks. Seems to be playing with his victim. 13/10 fr*ckin frightening #BarkWeek https://t.co/WpHvrQedPb\n",
      "https://twitter.com/dog_rates/status/889278841981685760/video/1\n",
      "\n",
      "This is Jim. He found a fren. Taught him how to sit like the good boys. 12/10 for both https://t.co/chxruIOUJN\n",
      "https://twitter.com/dog_rates/status/888917238123831296/photo/1\n",
      "\n",
      "This is Zeke. He has a new stick. Very proud of it. Would like you to throw it for him without taking it. 13/10 would do my best https://t.co/HTQ77yNQ5K\n",
      "https://twitter.com/dog_rates/status/888804989199671297/photo/1,https://twitter.com/dog_rates/status/888804989199671297/photo/1\n",
      "\n",
      "This is Ralphus. He's powering up. Attempting maximum borkdrive. 13/10 inspirational af https://t.co/YnYAFCTTiK\n",
      "https://twitter.com/dog_rates/status/888554962724278272/photo/1,https://twitter.com/dog_rates/status/888554962724278272/photo/1,https://twitter.com/dog_rates/status/888554962724278272/photo/1,https://twitter.com/dog_rates/status/888554962724278272/photo/1\n",
      "\n",
      "RT @dog_rates: This is Canela. She attempted some fancy porch pics. They were unsuccessful. 13/10 someone help her https://t.co/cLyzpcUcMX\n",
      "https://twitter.com/dog_rates/status/887473957103951883/photo/1,https://twitter.com/dog_rates/status/887473957103951883/photo/1,https://twitter.com/dog_rates/status/887473957103951883/photo/1,https://twitter.com/dog_rates/status/887473957103951883/photo/1\n",
      "\n",
      "This is Gerald. He was just told he didn't get the job he interviewed for. A h*ckin injustice. 12/10 didn't want the job anyway https://t.co/DK7iDPfuRX\n",
      "https://twitter.com/dog_rates/status/888078434458587136/photo/1,https://twitter.com/dog_rates/status/888078434458587136/photo/1\n",
      "\n",
      "This is Jeffrey. He has a monopoly on the pool noodles. Currently running a 'boop for two' midweek sale. 13/10 h*ckin strategic https://t.co/PhrUk20Q64\n",
      "https://twitter.com/dog_rates/status/887705289381826560/photo/1\n",
      "\n",
      "I've yet to rate a Venezuelan Hover Wiener. This is such an honor. 14/10 paw-inspiring af (IG: roxy.thedoxy) https://t.co/20VrLAA8ba\n",
      "https://twitter.com/dog_rates/status/887517139158093824/video/1\n",
      "\n",
      "This is Canela. She attempted some fancy porch pics. They were unsuccessful. 13/10 someone help her https://t.co/cLyzpcUcMX\n",
      "https://twitter.com/dog_rates/status/887473957103951883/photo/1,https://twitter.com/dog_rates/status/887473957103951883/photo/1\n",
      "\n",
      "You may not have known you needed to see this today. 13/10 please enjoy (IG: emmylouroo) https://t.co/WZqNqygEyV\n",
      "https://twitter.com/dog_rates/status/887343217045368832/video/1\n",
      "\n",
      "This... is a Jubilant Antarctic House Bear. We only rate dogs. Please only send dogs. Thank you... 12/10 would suffocate in floof https://t.co/4Ad1jzJSdp\n",
      "https://twitter.com/dog_rates/status/887101392804085760/photo/1\n",
      "\n",
      "This is Maya. She's very shy. Rarely leaves her cup. 13/10 would find her an environment to thrive in https://t.co/I6oNy0CgiT\n",
      "https://twitter.com/dog_rates/status/886983233522544640/photo/1,https://twitter.com/dog_rates/status/886983233522544640/photo/1\n",
      "\n",
      "This is Mingus. He's a wonderful father to his smol pup. Confirmed 13/10, but he needs your help\n",
      "\n",
      "https://t.co/bVi0Yr4Cff https://t.co/ISvKOSkd5b\n",
      "https://www.gofundme.com/mingusneedsus,https://twitter.com/dog_rates/status/886736880519319552/photo/1,https://twitter.com/dog_rates/status/886736880519319552/photo/1\n",
      "\n",
      "This is Derek. He's late for a dog meeting. 13/10 pet...al to the metal https://t.co/BCoWue0abA\n",
      "https://twitter.com/dog_rates/status/886680336477933568/photo/1\n",
      "\n",
      "This is Roscoe. Another pupper fallen victim to spontaneous tongue ejections. Get the BlepiPen immediate. 12/10 deep breaths Roscoe https://t.co/RGE08MIJox\n",
      "https://twitter.com/dog_rates/status/886366144734445568/photo/1,https://twitter.com/dog_rates/status/886366144734445568/photo/1\n",
      "\n",
      "@NonWhiteHat @MayhewMayhem omg hello tanner you are a scary good boy 12/10 would pet with extreme caution\n",
      "nan\n",
      "\n",
      "This is Waffles. His doggles are pupside down. Unsure how to fix. 13/10 someone assist Waffles https://t.co/xZDA9Qsq1O\n",
      "https://twitter.com/dog_rates/status/886258384151887873/photo/1\n",
      "\n",
      "RT @Athletics: 12/10 #BATP https://t.co/WxwJmvjfxo\n",
      "https://twitter.com/dog_rates/status/886053434075471873,https://twitter.com/dog_rates/status/886053434075471873\n",
      "\n",
      "Viewer discretion advised. This is Jimbo. He will rip ur finger right h*ckin off. Other dog clearly an accessory. 12/10 pls pet with caution https://t.co/BuveP0uMF1\n",
      "https://twitter.com/dog_rates/status/885984800019947520/photo/1\n",
      "\n",
      "This is Maisey. She fell asleep mid-excavation. Happens to the best of us. 13/10 would pat noggin approvingly https://t.co/tp1kQ8i9JF\n",
      "https://twitter.com/dog_rates/status/885528943205470208/photo/1\n",
      "\n",
      "I have a new hero and his name is Howard. 14/10 https://t.co/gzLHboL7Sk\n",
      "https://twitter.com/4bonds2carbon/status/885517367337512960\n",
      "\n",
      "RT @dog_rates: This is Lilly. She just parallel barked. Kindly requests a reward now. 13/10 would pet so well https://t.co/SATN4If5H5\n",
      "https://twitter.com/dog_rates/status/830583320585068544/photo/1,https://twitter.com/dog_rates/status/830583320585068544/photo/1,https://twitter.com/dog_rates/status/830583320585068544/photo/1,https://twitter.com/dog_rates/status/830583320585068544/photo/1\n",
      "\n",
      "Here we have a corgi undercover as a malamute. Pawbably doing important investigative work. Zero control over tongue happenings. 13/10 https://t.co/44ItaMubBf\n",
      "https://twitter.com/dog_rates/status/885167619883638784/photo/1,https://twitter.com/dog_rates/status/885167619883638784/photo/1,https://twitter.com/dog_rates/status/885167619883638784/photo/1,https://twitter.com/dog_rates/status/885167619883638784/photo/1\n",
      "\n",
      "This is Earl. He found a hat. Nervous about what you think of it. 12/10 it's delightful, Earl https://t.co/MYJvdlNRVa\n",
      "https://twitter.com/dog_rates/status/884925521741709313/photo/1\n",
      "\n",
      "This is Lola. It's her first time outside. Must test the earth and taste the atmosphere. 13/10 you're doing great Lola https://t.co/74TKAUsLkO\n",
      "https://twitter.com/dog_rates/status/884876753390489601/photo/1,https://twitter.com/dog_rates/status/884876753390489601/photo/1,https://twitter.com/dog_rates/status/884876753390489601/photo/1,https://twitter.com/dog_rates/status/884876753390489601/photo/1\n",
      "\n",
      "This is Kevin. He's just so happy. 13/10 what is your secret Kevin https://t.co/1r4MFCbCX5\n",
      "https://twitter.com/dog_rates/status/884562892145688576/photo/1\n",
      "\n",
      "I present to you, Pup in Hat. Pup in Hat is great for all occasions. Extremely versatile. Compact as h*ck. 14/10 (IG: itselizabethgales) https://t.co/vvBOcC2VdC\n",
      "https://twitter.com/dog_rates/status/884441805382717440/photo/1\n",
      "\n",
      "OMG HE DIDN'T MEAN TO HE WAS JUST TRYING A LITTLE BARKOUR HE'S SUPER SORRY 13/10 WOULD FORGIVE IMMEDIATE https://t.co/uF3pQ8Wubj\n",
      "https://twitter.com/kaijohnson_19/status/883965650754039809\n",
      "\n",
      "Meet Yogi. He doesn't have any important dog meetings today he just enjoys looking his best at all times. 12/10 for dangerously dapper doggo https://t.co/YSI00BzTBZ\n",
      "https://twitter.com/dog_rates/status/884162670584377345/photo/1\n",
      "\n",
      "This is Noah. He can't believe someone made this mess. Got the vacuum out for you though. Offered to help clean pup. 12/10 super good boy https://t.co/V85xujjDDY\n",
      "https://twitter.com/dog_rates/status/883838122936631299/photo/1\n",
      "\n",
      "This is Bella. She hopes her smile made you smile. If not, she is also offering you her favorite monkey. 13.5/10 https://t.co/qjrljjt948\n",
      "https://twitter.com/dog_rates/status/883482846933004288/photo/1,https://twitter.com/dog_rates/status/883482846933004288/photo/1\n",
      "\n",
      "Meet Grizzwald. He may be the floofiest floofer I ever did see. Lost eyes saving a schoolbus from a volcano erpuption. 13/10 heroic as h*ck https://t.co/rf661IFEYP\n",
      "https://twitter.com/dog_rates/status/883360690899218434/photo/1\n",
      "\n",
      "Please only send dogs. We don't rate mechanics, no matter how h*ckin good. Thank you... 13/10 would sneak a pat https://t.co/Se5fZ9wp5E\n",
      "https://twitter.com/dog_rates/status/883117836046086144/photo/1,https://twitter.com/dog_rates/status/883117836046086144/photo/1\n",
      "\n",
      "This is Rusty. He wasn't ready for the first pic. Clearly puppared for the second. 13/10 confirmed great boy https://t.co/tyER0KpdXj\n",
      "https://twitter.com/dog_rates/status/882992080364220416/photo/1,https://twitter.com/dog_rates/status/882992080364220416/photo/1\n",
      "\n",
      "This is Gus. He's quite the cheeky pupper. Already perfected the disinterested wink. 12/10 would let steal my girl https://t.co/D43I96SlVu\n",
      "https://twitter.com/dog_rates/status/882762694511734784/photo/1\n",
      "\n",
      "This is Stanley. He has his first swim lesson today. Doggle straps adjusted. Ready to go. 13/10 Phelps is nervous (IG: stanleythe_corgi) https://t.co/Nx52PGwH94\n",
      "https://twitter.com/dog_rates/status/882627270321602560/photo/1\n",
      "\n",
      "This is Alfy. You're witnessing his first watermelon experience. I think it was a success. 13/10 happy 4th Alfy 🇺🇸 https://t.co/fYP5RlutfA\n",
      "https://twitter.com/dog_rates/status/882268110199369728/photo/1,https://twitter.com/dog_rates/status/882268110199369728/photo/1,https://twitter.com/dog_rates/status/882268110199369728/photo/1\n",
      "\n",
      "This is Koko. Her owner, inspired by Barney, recently built a cart for her to use during walks if she got tired. 13/10 rest easy Koko https://t.co/zeDpnsKX7w\n",
      "https://twitter.com/dog_rates/status/882045870035918850/photo/1,https://twitter.com/dog_rates/status/882045870035918850/photo/1,https://twitter.com/dog_rates/status/882045870035918850/photo/1,https://twitter.com/dog_rates/status/882045870035918850/photo/1\n",
      "\n",
      "This is Rey. He's a Benebop Cumberfloof. 12/10 dangerously pettable https://t.co/503CgWbhxQ\n",
      "https://twitter.com/dog_rates/status/881906580714921986/photo/1\n",
      "\n",
      "This is Gary. He couldn't miss this puppertunity for a selfie. Flawless focusing skills. 13/10 would boop intensely https://t.co/7CSWCl8I6s\n",
      "https://twitter.com/dog_rates/status/881666595344535552/photo/1\n",
      "\n",
      "@roushfenway These are good dogs but 17/10 is an emotional impulse rating. More like 13/10s\n",
      "nan\n",
      "\n",
      "Here is a pupper approaching maximum borkdrive. Zooming at never before seen speeds. 14/10 paw-inspiring af \n",
      "(IG: puffie_the_chow) https://t.co/ghXBIIeQZF\n",
      "https://twitter.com/dog_rates/status/881536004380872706/video/1\n",
      "\n",
      "Meet Elliot. He's a Canadian Forrest Pup. Unusual number of antlers for a dog. Sneaky tongue slip to celebrate #Canada150. 12/10 would pet https://t.co/cgwJwowTMC\n",
      "https://twitter.com/dog_rates/status/881268444196462592/photo/1\n",
      "\n",
      "This is Louis. He's crossing. It's a big deal. 13/10 h*ckin breathtaking https://t.co/D0wb1GlKAt\n",
      "https://twitter.com/dog_rates/status/880935762899988482/photo/1\n",
      "\n",
      "Ugh not again. We only rate dogs. Please don't send in well-dressed  floppy-tongued street penguins. Dogs only please. Thank you... 12/10 https://t.co/WiAMbTkDPf\n",
      "https://twitter.com/dog_rates/status/880872448815771648/photo/1\n",
      "\n",
      "This is Bella. She had her first beach experience this morning. Complete success. 12/10 would perform a sandy boop https://t.co/4VsFysDmiw\n",
      "https://twitter.com/dog_rates/status/880465832366813184/photo/1,https://twitter.com/dog_rates/status/880465832366813184/photo/1,https://twitter.com/dog_rates/status/880465832366813184/photo/1,https://twitter.com/dog_rates/status/880465832366813184/photo/1\n",
      "\n",
      "Meet Jesse. He's a Fetty Woof. His tongue ejects without warning. A true bleptomaniac. 12/10 would snug well https://t.co/fUod0tVmvK\n",
      "https://twitter.com/dog_rates/status/880221127280381952/photo/1,https://twitter.com/dog_rates/status/880221127280381952/photo/1\n",
      "\n",
      "Please don't send in photos without dogs in them. We're not @porch_rates. Insubordinate and churlish. Pretty good porch tho 11/10 https://t.co/HauE8M3Bu4\n",
      "https://twitter.com/dog_rates/status/880095782870896641/photo/1\n",
      "\n",
      "This is Romeo. He would like to do an entrance. Requesting your immediate assistance. 13/10 https://t.co/Qh5aEkRQm9\n",
      "https://twitter.com/dog_rates/status/879862464715927552/photo/1,https://twitter.com/dog_rates/status/879862464715927552/photo/1,https://twitter.com/dog_rates/status/879862464715927552/photo/1\n",
      "\n",
      "@RealKentMurphy 14/10 confirmed\n",
      "nan\n",
      "\n",
      "This is Bailey. He thinks you should measure ear length for signs of growth instead. 12/10 https://t.co/IxM9IMKQq8\n",
      "https://twitter.com/dog_rates/status/879492040517615616/photo/1\n",
      "\n",
      "This is Duddles. He did an attempt. 13/10 someone help him (vid by Georgia Felici) https://t.co/UDT7ZkcTgY\n",
      "https://twitter.com/dog_rates/status/879415818425184262/video/1\n",
      "\n",
      "This is Jack AKA Stephen Furry. You're not scoring on him. Unless he slips down the slide. 12/10 would happily get blocked by https://t.co/0gOi601EAa\n",
      "https://twitter.com/dog_rates/status/879376492567855104/photo/1\n",
      "\n",
      "RT @dog_rates: This is Emmy. She was adopted today. Massive round of pupplause for Emmy and her new family. 14/10 for all involved https://…\n",
      "https://twitter.com/dog_rates/status/878057613040115712/photo/1,https://twitter.com/dog_rates/status/878057613040115712/photo/1\n",
      "\n",
      "This is Steven. He has trouble relating to other dogs. Quite shy. Neck longer than average. Tropical probably. 11/10 would still pet https://t.co/2mJCDEJWdD\n",
      "https://twitter.com/dog_rates/status/879050749262655488/photo/1\n",
      "\n",
      "This is Beau. That is Beau's balloon. He takes it everywhere. 13/10 would protect at all costs https://t.co/YDtpCjIPKN\n",
      "https://twitter.com/dog_rates/status/879008229531029506/photo/1\n",
      "\n",
      "This is Snoopy. He's a proud #PrideMonthPuppo. Impeccable handwriting for not having thumbs. 13/10 would love back #PrideMonth https://t.co/lNZwgNO4gS\n",
      "https://twitter.com/dog_rates/status/878776093423087618/photo/1,https://twitter.com/dog_rates/status/878776093423087618/photo/1\n",
      "\n",
      "Martha is stunning how h*ckin dare you. 13/10 https://t.co/9uABQXgjwa\n",
      "https://twitter.com/bbcworld/status/878599868507402241\n",
      "\n",
      "RT @dog_rates: Meet Shadow. In an attempt to reach maximum zooming borkdrive, he tore his ACL. Still 13/10 tho. Help him out below\n",
      "\n",
      "https:/…\n",
      "https://www.gofundme.com/3yd6y1c,https://twitter.com/dog_rates/status/878281511006478336/photo/1\n",
      "\n",
      "RT @dog_rates: Meet Terrance. He's being yelled at because he stapled the wrong stuff together. 11/10 hang in there Terrance https://t.co/i…\n",
      "https://twitter.com/dog_rates/status/669000397445533696/photo/1\n",
      "\n",
      "Meet Shadow. In an attempt to reach maximum zooming borkdrive, he tore his ACL. Still 13/10 tho. Help him out below\n",
      "\n",
      "https://t.co/245xJJElsY https://t.co/lUiQH219v6\n",
      "https://www.gofundme.com/3yd6y1c,https://twitter.com/dog_rates/status/878281511006478336/photo/1\n",
      "\n",
      "This is Emmy. She was adopted today. Massive round of pupplause for Emmy and her new family. 14/10 for all involved https://t.co/cwtWnHMVpe\n",
      "https://twitter.com/dog_rates/status/878057613040115712/photo/1,https://twitter.com/dog_rates/status/878057613040115712/photo/1\n",
      "\n",
      "This is Aja. She was just told she's a good dog. Suspicions confirmed. 13/10 would tell again https://t.co/lsPyyAiF1r\n",
      "https://twitter.com/dog_rates/status/877736472329191424/photo/1,https://twitter.com/dog_rates/status/877736472329191424/photo/1\n",
      "\n",
      "RT @rachel2195: @dog_rates the boyfriend and his soaking wet pupper h*cking love his new hat 14/10 https://t.co/dJx4Gzc50G\n",
      "https://twitter.com/rachel2195/status/876850772322988033/photo/1,https://twitter.com/rachel2195/status/876850772322988033/photo/1,https://twitter.com/rachel2195/status/876850772322988033/photo/1,https://twitter.com/rachel2195/status/876850772322988033/photo/1\n",
      "\n",
      "This is Penny. She's both pupset and fired pup. Not pleased w your barbaric attempts at cleanliness. 12/10 would enjoy more shampoo options https://t.co/OYdDlfOGXP\n"
     ]
    },
    {
     "name": "stdout",
     "output_type": "stream",
     "text": [
      "https://twitter.com/dog_rates/status/877556246731214848/photo/1\n",
      "\n",
      "Meet Dante. At first he wasn't a fan of his new raincoat, then he saw his reflection. H*ckin handsome. 13/10 for water resistant good boy https://t.co/SHRTIo5pxc\n",
      "https://twitter.com/dog_rates/status/877316821321428993/photo/1,https://twitter.com/dog_rates/status/877316821321428993/photo/1\n",
      "\n",
      "This is Nelly. He graduated with his dogtorate today. Wants to know if you're proud of him. 12/10 would give congratulatory boop https://t.co/4g4cfj3P4Y\n",
      "https://twitter.com/dog_rates/status/877201837425926144/photo/1,https://twitter.com/dog_rates/status/877201837425926144/photo/1\n",
      "\n",
      "This is Ginger. She's having a ruff Monday. Too many pupper things going on. H*ckin exhausting. 12/10 would snug passionately https://t.co/j211oCDRs6\n",
      "https://twitter.com/dog_rates/status/876838120628539392/photo/1,https://twitter.com/dog_rates/status/876838120628539392/photo/1\n",
      "\n",
      "I can say with the pupmost confidence that the doggos who assisted with this search are heroic as h*ck. 14/10 for all https://t.co/8yoc1CNTsu\n",
      "https://twitter.com/mpstowerham/status/876162994446753793\n",
      "\n",
      "This is Benedict. He wants to thank you for this delightful urban walk. Hopes you know he loves you. 13/10 super duper good boy https://t.co/26BXueUgbs\n",
      "https://twitter.com/dog_rates/status/876484053909872640/photo/1\n",
      "\n",
      "Meet Venti, a seemingly caffeinated puppoccino. She was just informed the weekend would include walks, pats and scritches. 13/10 much excite https://t.co/ejExJFq3ek\n",
      "https://twitter.com/dog_rates/status/876120275196170240/photo/1\n",
      "\n",
      "This is Goose. He's a womanizer. Cheeky as h*ck, but also deep. Tongue slip game on another level. 13/10 will steal your girl https://t.co/V2WlACRJCN\n",
      "https://twitter.com/dog_rates/status/875747767867523072/photo/1\n",
      "\n",
      "Meet Nugget and Hank. Nugget took Hank's bone. Hank is wondering if you would please return it to him. Both 13/10 would not intervene https://t.co/ogith9ejNj\n",
      "https://twitter.com/dog_rates/status/875144289856114688/video/1\n",
      "\n",
      "You'll get your package when that precious man is done appreciating the pups. 13/10 for everyone https://t.co/PFp4MghzBW\n",
      "https://twitter.com/drboondoc/status/874413398133547008\n",
      "\n",
      "Guys please stop sending pictures without any dogs in th- oh never mind hello excuse me sir. 12/10 stealthy as h*ck https://t.co/brCQoqc8AW\n",
      "https://twitter.com/dog_rates/status/875021211251597312/photo/1,https://twitter.com/dog_rates/status/875021211251597312/photo/1\n",
      "\n",
      "Meet Cash. He hath acquired a stick. A very good stick tbh. 12/10 would pat head approvingly https://t.co/lZhtizkURD\n",
      "https://twitter.com/dog_rates/status/874680097055178752/photo/1\n",
      "\n",
      "RT @dog_rates: This is Coco. At first I thought she was a cloud but clouds don't bork with such passion. 12/10 would hug softly https://t.c…\n",
      "https://twitter.com/dog_rates/status/866334964761202691/photo/1,https://twitter.com/dog_rates/status/866334964761202691/photo/1\n",
      "\n",
      "This is Jed. He may be the fanciest pupper in the game right now. Knows it too. 13/10 would sign modeling contract https://t.co/0YplNnSMEm\n",
      "https://twitter.com/dog_rates/status/874296783580663808/photo/1\n",
      "\n",
      "I can't believe this keeps happening. This, is a birb taking a bath. We only rate dogs. Please only send dogs. Thank you... 12/10 https://t.co/pwY9PQhtP2\n",
      "https://twitter.com/dog_rates/status/874057562936811520/photo/1\n",
      "\n",
      "This is Sebastian. He can't see all the colors of the rainbow, but he can see that this flag makes his human happy. 13/10 #PrideMonth puppo https://t.co/XBE0evJZ6V\n",
      "https://twitter.com/dog_rates/status/874012996292530176/photo/1,https://twitter.com/dog_rates/status/874012996292530176/photo/1\n",
      "\n",
      "RT @dog_rates: This is Walter. He won't start hydrotherapy without his favorite floatie. 14/10 keep it pup Walter https://t.co/r28jFx9uyF\n",
      "https://twitter.com/dog_rates/status/868880397819494401/photo/1,https://twitter.com/dog_rates/status/868880397819494401/photo/1\n",
      "\n",
      "We usually don't rate Deck-bound Saskatoon Black Bears, but this one is h*ckin flawless. Sneaky tongue slip too. 13/10 would hug firmly https://t.co/mNuMH9400n\n",
      "https://twitter.com/dog_rates/status/873580283840344065/photo/1\n",
      "\n",
      "RT @dog_rates: This is Sierra. She's one precious pupper. Absolute 12/10. Been in and out of ICU her whole life. Help Sierra below\n",
      "\n",
      "https:/…\n",
      "https://www.gofundme.com/help-my-baby-sierra-get-better,https://twitter.com/dog_rates/status/873213775632977920/photo/1,https://twitter.com/dog_rates/status/873213775632977920/photo/1\n",
      "\n",
      "This is Sierra. She's one precious pupper. Absolute 12/10. Been in and out of ICU her whole life. Help Sierra below\n",
      "\n",
      "https://t.co/Xp01EU3qyD https://t.co/V5lkvrGLdQ\n",
      "https://www.gofundme.com/help-my-baby-sierra-get-better,https://twitter.com/dog_rates/status/873213775632977920/photo/1,https://twitter.com/dog_rates/status/873213775632977920/photo/1\n",
      "\n",
      "Here's a very large dog. He has a date later. Politely asked this water person to check if his breath is bad. 12/10 good to go doggo https://t.co/EMYIdoblMR\n",
      "https://twitter.com/dog_rates/status/872967104147763200/photo/1,https://twitter.com/dog_rates/status/872967104147763200/photo/1\n",
      "\n"
     ]
    }
   ],
   "source": [
    "for i in range(0,100):\n",
    "    print tweet_df.loc[i,'text']\n",
    "    print tweet_df.loc[i,'expanded_urls']\n",
    "    print \"\""
   ]
  },
  {
   "cell_type": "markdown",
   "metadata": {},
   "source": [
    "It looks like there are some retweets and replies in the data. The retweets' `text` column starts with 'RT' and the replies starts with '@'. I remove these rows from the table. (**QUALITY ISSUE \\#4**)\n",
    "\n",
    "I will also remove rows without an image, by removing rows where `expanded_urls` is nan. (Note: I don't really see the point of this change, but it is required in the project instructions.)(**QUALITY ISSUE \\#5**)"
   ]
  },
  {
   "cell_type": "markdown",
   "metadata": {},
   "source": [
    "Let's look next at dog names. First I'll check to see how many dogs have no name. Second, it's likely that having used a regular expression to extract dog names might have selected also some words that are not dog names - so I'll check for 'names' that start with a lower-case letter."
   ]
  },
  {
   "cell_type": "code",
   "execution_count": 167,
   "metadata": {},
   "outputs": [
    {
     "data": {
      "text/plain": [
       "745"
      ]
     },
     "execution_count": 167,
     "metadata": {},
     "output_type": "execute_result"
    }
   ],
   "source": [
    "tweet_df[tweet_df['name']=='None']['name'].count()"
   ]
  },
  {
   "cell_type": "code",
   "execution_count": 168,
   "metadata": {},
   "outputs": [
    {
     "data": {
      "text/plain": [
       "109"
      ]
     },
     "execution_count": 168,
     "metadata": {},
     "output_type": "execute_result"
    }
   ],
   "source": [
    "tweet_df[tweet_df['name'].str.islower()]['name'].count()"
   ]
  },
  {
   "cell_type": "markdown",
   "metadata": {},
   "source": [
    "Let's see some of the entries where the dog names start with lower case. I'll print the `text` and `name` columns for each:"
   ]
  },
  {
   "cell_type": "code",
   "execution_count": 169,
   "metadata": {
    "scrolled": true
   },
   "outputs": [
    {
     "name": "stdout",
     "output_type": "stream",
     "text": [
      "I've yet to rate a Venezuelan Hover Wiener. This is such an honor. 14/10 paw-inspiring af (IG: roxy.thedoxy) https://t.co/20VrLAA8ba\n",
      "such\n",
      "\n",
      "Here is a pupper approaching maximum borkdrive. Zooming at never before seen speeds. 14/10 paw-inspiring af \n",
      "(IG: puffie_the_chow) https://t.co/ghXBIIeQZF\n",
      "a\n",
      "\n",
      "RT @dog_rates: We only rate dogs. This is quite clearly a smol broken polar bear. We'd appreciate if you only send dogs. Thank you... 12/10…\n",
      "quite\n",
      "\n",
      "We only rate dogs. This is quite clearly a smol broken polar bear. We'd appreciate if you only send dogs. Thank you... 12/10 https://t.co/g2nSyGenG9\n",
      "quite\n",
      "\n",
      "Guys, we only rate dogs. This is quite clearly a bulbasaur. Please only send dogs. Thank you... 12/10 human used pet, it's super effective https://t.co/Xc7uj1C64x\n",
      "quite\n",
      "\n",
      "There's going to be a dog terminal at JFK Airport. This is not a drill. 10/10  \n",
      "https://t.co/dp5h9bCwU7\n",
      "not\n",
      "\n",
      "Occasionally, we're sent fantastic stories. This is one of them. 14/10 for Grace https://t.co/bZ4axuH6OK\n",
      "one\n",
      "\n",
      "We only rate dogs. Please stop sending in non-canines like this Freudian Poof Lion. This is incredibly frustrating... 11/10 https://t.co/IZidSrBvhi\n",
      "incredibly\n",
      "\n",
      "Here is a perfect example of someone who has their priorities in order. 13/10 for both owner and Forrest https://t.co/LRyMrU7Wfq\n",
      "a\n",
      "\n",
      "RT @dog_rates: Say hello to mad pupper. You know what you did. 13/10 would pet until no longer furustrated https://t.co/u1ulQ5heLX\n",
      "mad\n",
      "\n",
      "RT @dog_rates: This is an East African Chalupa Seal. We only rate dogs. Please only send in dogs. Thank you... 10/10 https://t.co/iHe6liLwWR\n",
      "an\n",
      "\n",
      "RT @dog_rates: We only rate dogs. Pls stop sending in non-canines like this Mongolian grass snake. This is very frustrating. 11/10 https://…\n",
      "very\n",
      "\n",
      "Guys this is getting so out of hand. We only rate dogs. This is a Galapagos Speed Panda. Pls only send dogs... 10/10 https://t.co/8lpAGaZRFn\n",
      "a\n",
      "\n",
      "We only rate dogs. Pls stop sending in non-canines like this Arctic Floof Kangaroo. This is very frustrating. 11/10 https://t.co/qlUDuPoE3d\n",
      "very\n",
      "\n",
      "RT @dog_rates: This is just downright precious af. 12/10 for both pupper and doggo https://t.co/o5J479bZUC\n",
      "just\n",
      "\n",
      "This is my dog. Her name is Zoey. She knows I've been rating other dogs. She's not happy. 13/10 no bias at all https://t.co/ep1NkYoiwB\n",
      "my\n",
      "\n",
      "This is one of the most inspirational stories I've ever come across. I have no words. 14/10 for both doggo and owner https://t.co/I5ld3eKD5k\n",
      "one\n",
      "\n",
      "What jokester sent in a pic without a dog in it? This is not @rock_rates. This is @dog_rates. Thank you ...10/10 https://t.co/nDPaYHrtNX\n",
      "not\n",
      "\n",
      "That is Quizno. This is his beach. He does not tolerate human shenanigans on his beach. 10/10 reclaim ur land doggo https://t.co/vdr7DaRSa7\n",
      "his\n",
      "\n",
      "This is one of the most reckless puppers I've ever seen. How she got a license in the first place is beyond me. 6/10 https://t.co/z5bAdtn9kd\n",
      "one\n",
      "\n",
      "This is a mighty rare blue-tailed hammer sherk. Human almost lost a limb trying to take these. Be careful guys. 8/10 https://t.co/TGenMeXreW\n",
      "a\n",
      "\n",
      "Viewer discretion is advised. This is a terrible attack in progress. Not even in water (tragic af). 4/10 bad sherk https://t.co/L3U0j14N5R\n",
      "a\n",
      "\n",
      "This is a carrot. We only rate dogs. Please only send in dogs. You all really should know this by now ...11/10 https://t.co/9e48aPrBm2\n",
      "a\n",
      "\n",
      "This is an Iraqi Speed Kangaroo. It is not a dog. Please only send in dogs. I'm very angry with all of you ...9/10 https://t.co/5qpBTTpgUt\n",
      "an\n",
      "\n",
      "We only rate dogs. Pls stop sending in non-canines like this Jamaican Flop Seal. This is very very frustrating. 9/10 https://t.co/nc53zEN0hZ\n",
      "very\n",
      "\n",
      "This is actually a pupper and I'd pet it so well. 12/10\n",
      "https://t.co/RNqS7C4Y4N\n",
      "actually\n",
      "\n",
      "This is a very rare Great Alaskan Bush Pupper. Hard to stumble upon without spooking. 12/10 would pet passionately https://t.co/xOBKCdpzaa\n",
      "a\n",
      "\n",
      "This is just downright precious af. 12/10 for both pupper and doggo https://t.co/o5J479bZUC\n",
      "just\n",
      "\n",
      "This is getting incredibly frustrating. This is a Mexican Golden Beaver. We only rate dogs. Only send dogs ...10/10 https://t.co/0yolOOyD3X\n",
      "getting\n",
      "\n",
      "Say hello to mad pupper. You know what you did. 13/10 would pet until no longer furustrated https://t.co/u1ulQ5heLX\n",
      "mad\n",
      "\n",
      "We only rate dogs. Please stop sending in non-canines like this Alaskan Flop Turtle. This is very frustrating. 10/10 https://t.co/qXteK6Atxc\n",
      "very\n",
      "\n",
      "Say hello to this unbelievably well behaved squad of doggos. 204/170 would try to pet all at once https://t.co/yGQI3He3xv\n",
      "this\n",
      "\n",
      "We only rate dogs. Pls stop sending non-canines like this Bulgarian Eyeless Porch Bear. This is unacceptable... 9/10 https://t.co/2yctWAUZ3Z\n",
      "unacceptable\n",
      "\n",
      "This is all I want in my life. 12/10 for super sleepy pupper https://t.co/4RlLA5ObMh\n",
      "all\n",
      "\n",
      "People please. This is a Deadly Mediterranean Plop T-Rex. We only rate dogs. Only send in dogs. Thanks you... 11/10 https://t.co/2ATDsgHD4n\n",
      "a\n",
      "\n",
      "This is old now but it's absolutely heckin fantastic and I can't not share it with you all. 13/10  https://t.co/wJX74TSgzP\n",
      "old\n",
      "\n",
      "This is a taco. We only rate dogs. Please only send in dogs. Dogs are what we rate. Not tacos. Thank you... 10/10 https://t.co/cxl6xGY8B9\n",
      "a\n",
      "\n",
      "We 👏🏻 only 👏🏻 rate 👏🏻 dogs. Pls stop sending in non-canines like this Dutch Panda Worm. This is infuriating. 11/10 https://t.co/odfLzBonG2\n",
      "infuriating\n",
      "\n",
      "Here is a heartbreaking scene of an incredible pupper being laid to rest. 10/10 RIP pupper https://t.co/81mvJ0rGRu\n",
      "a\n",
      "\n",
      "Here is a whole flock of puppers.  60/50 I'll take the lot https://t.co/9dpcw6MdWa\n",
      "a\n",
      "\n",
      "This is a Butternut Cumberfloof. It's not windy they just look like that. 11/10 back at it again with the red socks https://t.co/hMjzhdUHaW\n",
      "a\n",
      "\n",
      "This is an East African Chalupa Seal. We only rate dogs. Please only send in dogs. Thank you... 10/10 https://t.co/iHe6liLwWR\n",
      "an\n",
      "\n",
      "This is a Wild Tuscan Poofwiggle. Careful not to startle. Rare tongue slip. One eye magical. 12/10 would def pet https://t.co/4EnShAQjv6\n",
      "a\n",
      "\n",
      "\"Pupper is a present to world. Here is a bow for pupper.\" 12/10 precious as hell https://t.co/ItSsE92gCW\n",
      "a\n",
      "\n",
      "We only rate dogs. Pls stop sending in non-canines like this Mongolian grass snake. This is very frustrating. 11/10 https://t.co/22x9SbCYCU\n",
      "very\n",
      "\n",
      "Please stop sending in saber-toothed tigers. This is getting ridiculous. We only rate dogs.\n",
      "...8/10 https://t.co/iAeQNueou8\n",
      "getting\n",
      "\n",
      "This is just a beautiful pupper good shit evolution. 12/10 https://t.co/2L8pI0Z2Ib\n",
      "just\n",
      "\n",
      "This is a rare Arctic Wubberfloof. Unamused by the happenings. No longer has the appetites. 12/10 would totally hug https://t.co/krvbacIX0N\n",
      "a\n",
      "\n",
      "Stop sending in lobsters. This is the final warning. We only rate dogs. Thank you... 9/10 https://t.co/B9ZXXKJYNx\n",
      "the\n",
      "\n",
      "This is the newly formed pupper a capella group. They're just starting out but I see tons of potential. 8/10 for all https://t.co/wbAcvFoNtn\n",
      "the\n",
      "\n",
      "This is actually a lion. We only rate dogs. For the last time please only send dogs. Thank u.\n",
      "12/10 would still pet https://t.co/Pp26dMQxap\n",
      "actually\n",
      "\n",
      "This is by far the most coordinated series of pictures I was sent. Downright impressive in every way. 12/10 for all https://t.co/etzLo3sdZE\n",
      "by\n",
      "\n",
      "Guys this really needs to stop. We've been over this way too many times. This is a giraffe. We only rate dogs.. 7/10 https://t.co/yavgkHYPOC\n",
      "a\n",
      "\n",
      "This is officially the greatest yawn of all time. 12/10 https://t.co/4R0Cc0sLVE\n",
      "officially\n",
      "\n",
      "This is a dog swinging. I really enjoyed it so I hope you all do as well. 11/10 https://t.co/Ozo9KHTRND\n",
      "a\n",
      "\n",
      "This is the happiest pupper I've ever seen. 10/10 would trade lives with https://t.co/ep8ATEJwRb\n",
      "the\n",
      "\n",
      "This is the saddest/sweetest/best picture I've been sent. 12/10 😢🐶 https://t.co/vQ2Lw1BLBF\n",
      "the\n",
      "\n",
      "This is a Sizzlin Menorah spaniel from Brooklyn named Wylie. Lovable eyes. Chiller as hell. 10/10 and I'm out.. poof https://t.co/7E0AiJXPmI\n",
      "a\n",
      "\n",
      "Seriously guys?! Only send in dogs. I only rate dogs. This is a baby black bear... 11/10 https://t.co/H7kpabTfLj\n",
      "a\n",
      "\n",
      "C'mon guys. We've been over this. We only rate dogs. This is a cow. Please only submit dogs. Thank you...... 9/10 https://t.co/WjcELNEqN2\n",
      "a\n",
      "\n",
      "This is a fluffy albino Bacardi Columbia mix. Excellent at the tweets. 11/10 would hug gently https://t.co/diboDRUuEI\n",
      "a\n",
      "\n",
      "This is life-changing. 12/10 https://t.co/SroTpI6psB\n",
      "life\n",
      "\n",
      "This is a Sagitariot Baklava mix. Loves her new hat. 11/10 radiant pup https://t.co/Bko5kFJYUU\n",
      "a\n",
      "\n",
      "This is one esteemed pupper. Just graduated college. 10/10 what a champ https://t.co/nyReCVRiyd\n",
      "one\n",
      "\n",
      "This is a heavily opinionated dog. Loves walls. Nobody knows how the hair works. Always ready for a kiss. 4/10 https://t.co/dFiaKZ9cDl\n",
      "a\n",
      "\n",
      "This is a Lofted Aphrodisiac Terrier named Kip. Big fan of bed n breakfasts. Fits perfectly. 10/10 would pet firmly https://t.co/gKlLpNzIl3\n",
      "a\n",
      "\n",
      "This is a baby Rand Paul. Curls for days. 11/10 would cuddle the hell out of https://t.co/xHXNaPAYRe\n",
      "a\n",
      "\n",
      "This is light saber pup. Ready to fight off evil with light saber. 10/10 true hero https://t.co/LPPa3btIIt\n",
      "light\n",
      "\n",
      "This is just impressive I have nothing else to say. 11/10 https://t.co/LquQZiZjJP\n",
      "just\n",
      "\n",
      "This is space pup. He's very confused. Tries to moonwalk at one point. Super spiffy uniform. 13/10 I love space pup https://t.co/SfPQ2KeLdq\n",
      "space\n",
      "\n",
      "This is a Tuscaloosa Alcatraz named Jacob (Yacōb). Loves to sit in swing. Stellar tongue. 11/10 look at his feet https://t.co/2IslQ8ZSc7\n",
      "a\n",
      "\n",
      "This is the best thing I've ever seen so spread it like wildfire &amp; maybe we'll find the genius who created it. 13/10 https://t.co/q6RsuOVYwU\n",
      "the\n",
      "\n",
      "This is a Helvetica Listerine named Rufus. This time Rufus will be ready for the UPS guy. He'll never expect it 9/10 https://t.co/34OhVhMkVr\n",
      "a\n",
      "\n",
      "This is a Deciduous Trimester mix named Spork. Only 1 ear works. No seat belt. Incredibly reckless. 9/10 still cute https://t.co/CtuJoLHiDo\n",
      "a\n",
      "\n",
      "This is a Rich Mahogany Seltzer named Cherokee. Just got destroyed by a snowball. Isn't very happy about it. 9/10 https://t.co/98ZBi6o4dj\n",
      "a\n",
      "\n",
      "This is a Speckled Cauliflower Yosemite named Hemry. He's terrified of intruder dog. Not one bit comfortable. 9/10 https://t.co/yV3Qgjh8iN\n",
      "a\n",
      "\n",
      "This is a spotted Lipitor Rumpelstiltskin named Alphred. He can't wait for the Turkey. 10/10 would pet really well https://t.co/6GUGO7azNX\n",
      "a\n",
      "\n",
      "This is a brave dog. Excellent free climber. Trying to get closer to God. Not very loyal though. Doesn't bark. 5/10 https://t.co/ODnILTr4QM\n",
      "a\n",
      "\n",
      "This is a Coriander Baton Rouge named Alfredo. Loves to cuddle with smaller well-dressed dog. 10/10 would hug lots https://t.co/eCRdwouKCl\n",
      "a\n",
      "\n",
      "This is a Slovakian Helter Skelter Feta named Leroi. Likes to skip on roofs. Good traction. Much balance. 10/10 wow! https://t.co/Dmy2mY2Qj5\n",
      "a\n",
      "\n",
      "This is a wild Toblerone from Papua New Guinea. Mouth always open. Addicted to hay. Acts blind. 7/10 handsome dog https://t.co/IGmVbz07tZ\n",
      "a\n",
      "\n",
      "This is an Irish Rigatoni terrier named Berta. Completely made of rope. No eyes. Quite large. Loves to dance. 10/10 https://t.co/EM5fDykrJg\n",
      "an\n",
      "\n",
      "Here is a horned dog. Much grace. Can jump over moons (dam!). Paws not soft. Bad at barking. 7/10 can still pet tho https://t.co/2Su7gmsnZm\n",
      "a\n",
      "\n",
      "Never forget this vine. You will not stop watching for at least 15 minutes. This is the second coveted.. 13/10 https://t.co/roqIxCvEB3\n",
      "the\n",
      "\n",
      "This is a Birmingham Quagmire named Chuk. Loves to relax and watch the game while sippin on that iced mocha. 10/10 https://t.co/HvNg9JWxFt\n",
      "a\n",
      "\n",
      "Here is a mother dog caring for her pups. Snazzy red mohawk. Doesn't wag tail. Pups look confused. Overall 4/10 https://t.co/YOHe6lf09m\n",
      "a\n",
      "\n",
      "This is a Trans Siberian Kellogg named Alfonso. Huge ass eyeballs. Actually Dobby from Harry Potter. 7/10 https://t.co/XpseHBlAAb\n",
      "a\n",
      "\n",
      "This is a Shotokon Macadamia mix named Cheryl. Sophisticated af. Looks like a disappointed librarian. Shh (lol) 9/10 https://t.co/J4GnJ5Swba\n",
      "a\n",
      "\n",
      "This is a rare Hungarian Pinot named Jessiga. She is either mid-stroke or got stuck in the washing machine. 8/10 https://t.co/ZU0i0KJyqD\n",
      "a\n",
      "\n",
      "This is a southwest Coriander named Klint. Hat looks expensive. Still on house arrest :(\n",
      "9/10 https://t.co/IQTOMqDUIe\n",
      "a\n",
      "\n",
      "This is a northern Wahoo named Kohl. He runs this town. Chases tumbleweeds. Draws gun wicked fast. 11/10 legendary https://t.co/J4vn2rOYFk\n",
      "a\n",
      "\n",
      "This is a Dasani Kingfisher from Maine. His name is Daryl. Daryl doesn't like being swallowed by a panda. 8/10 https://t.co/jpaeu6LNmW\n",
      "a\n",
      "\n",
      "This is a curly Ticonderoga named Pepe. No feet. Loves to jet ski. 11/10 would hug until forever https://t.co/cyDfaK8NBc\n",
      "a\n",
      "\n",
      "This is a purebred Bacardi named Octaviath. Can shoot spaghetti out of mouth. 10/10 https://t.co/uEvsGLOFHa\n",
      "a\n",
      "\n",
      "This is a golden Buckminsterfullerene named Johm. Drives trucks. Lumberjack (?). Enjoys wall. 8/10 would hug softly https://t.co/uQbZJM2DQB\n",
      "a\n",
      "\n",
      "This is quite the dog. Gets really excited when not in water. Not very soft tho. Bad at fetch. Can't do tricks. 2/10 https://t.co/aMCTNWO94t\n",
      "quite\n",
      "\n",
      "This is a southern Vesuvius bumblegruff. Can drive a truck (wow). Made friends with 5 other nifty dogs (neat). 7/10 https://t.co/LopTBkKa8h\n",
      "a\n",
      "\n",
      "This is an extremely rare horned Parthenon. Not amused. Wears shoes. Overall very nice. 9/10 would pet aggressively https://t.co/QpRjllzWAL\n",
      "an\n",
      "\n",
      "This is a funny dog. Weird toes. Won't come down. Loves branch. Refuses to eat his food. Hard to cuddle with. 3/10 https://t.co/IIXis0zta0\n",
      "a\n",
      "\n",
      "This is an Albanian 3 1/2 legged  Episcopalian. Loves well-polished hardwood flooring. Penis on the collar. 9/10 https://t.co/d9NcXFKwLv\n",
      "an\n",
      "\n",
      "This is the happiest dog you will ever see. Very committed owner. Nice couch. 10/10 https://t.co/RhUEAloehK\n",
      "the\n",
      "\n",
      "Here is the Rand Paul of retrievers folks! He's probably good at poker. Can drink beer (lol rad). 8/10 good dog https://t.co/pYAJkAe76p\n",
      "the\n",
      "\n",
      "My oh my. This is a rare blond Canadian terrier on wheels. Only $8.98. Rather docile. 9/10 very rare https://t.co/yWBqbrzy8O\n",
      "a\n",
      "\n",
      "Here is a Siberian heavily armored polar bear mix. Strong owner. 10/10 I would do unspeakable things to pet this dog https://t.co/rdivxLiqEt\n",
      "a\n",
      "\n",
      "This is an odd dog. Hard on the outside but loving on the inside. Petting still fun. Doesn't play catch well. 2/10 https://t.co/v5A4vzSDdc\n",
      "an\n",
      "\n",
      "This is a truly beautiful English Wilson Staff retriever. Has a nice phone. Privileged. 10/10 would trade lives with https://t.co/fvIbQfHjIe\n",
      "a\n",
      "\n",
      "This is a purebred Piers Morgan. Loves to Netflix and chill. Always looks like he forgot to unplug the iron. 6/10 https://t.co/DWnyCjf2mx\n",
      "a\n",
      "\n",
      "Here is a very happy pup. Big fan of well-maintained decks. Just look at that tongue. 9/10 would cuddle af https://t.co/y671yMhoiR\n",
      "a\n",
      "\n",
      "This is a western brown Mitsubishi terrier. Upset about leaf. Actually 2 dogs here. 7/10 would walk the shit out of https://t.co/r7mOb2m0UI\n",
      "a\n",
      "\n"
     ]
    }
   ],
   "source": [
    "for i in tweet_df[tweet_df['name'].str.islower()].index:\n",
    "    print tweet_df.loc[i,'text']\n",
    "    print tweet_df.loc[i,'name']\n",
    "    print ''"
   ]
  },
  {
   "cell_type": "markdown",
   "metadata": {},
   "source": [
    "It looks like the regex used picked up the first word after 'This is' or 'Here is' and so on. In many of these cases, the `text` column doesn't contain any name whatsoever, so the `name` column should be empty. However, in some of these cases, the `text` column does contain a dog name. I'll try to build some regular expressions to capture the names, and for the rest I will just replace `name` value with 'None'. **QUALITY ISSUE \\#6**"
   ]
  },
  {
   "cell_type": "markdown",
   "metadata": {},
   "source": [
    "Next I look at the ratings. Although it's ok for the numerator to be higher than 10, the denominator should always be 10. Let's check:"
   ]
  },
  {
   "cell_type": "code",
   "execution_count": 170,
   "metadata": {
    "scrolled": true
   },
   "outputs": [
    {
     "name": "stdout",
     "output_type": "stream",
     "text": [
      "0\n",
      "@jonnysun @Lin_Manuel ok jomny I know you're excited but 960/00 isn't a valid rating, 13/10 is tho\n",
      "\n",
      "15\n",
      "@docmisterio account started on 11/15/15\n",
      "\n",
      "70\n",
      "The floofs have been released I repeat the floofs have been released. 84/70 https://t.co/NIYC820tmd\n",
      "\n",
      "7\n",
      "Meet Sam. She smiles 24/7 &amp; secretly aspires to be a reindeer. \n",
      "Keep Sam smiling by clicking and sharing this link:\n",
      "https://t.co/98tB8y7y7t https://t.co/LouL5vdvxx\n",
      "\n",
      "11\n",
      "RT @dog_rates: After so many requests, this is Bretagne. She was the last surviving 9/11 search dog, and our second ever 14/10. RIP https:/…\n",
      "\n",
      "150\n",
      "Why does this never happen at my front door... 165/150 https://t.co/HmwrdfEfUE\n",
      "\n",
      "11\n",
      "After so many requests, this is Bretagne. She was the last surviving 9/11 search dog, and our second ever 14/10. RIP https://t.co/XAVDNDaVgQ\n",
      "\n",
      "170\n",
      "Say hello to this unbelievably well behaved squad of doggos. 204/170 would try to pet all at once https://t.co/yGQI3He3xv\n",
      "\n",
      "20\n",
      "Happy 4/20 from the squad! 13/10 for all https://t.co/eV1diwds8a\n",
      "\n",
      "50\n",
      "This is Bluebert. He just saw that both #FinalFur match ups are split 50/50. Amazed af. 11/10 https://t.co/Kky1DPG4iq\n",
      "\n",
      "90\n",
      "Happy Saturday here's 9 puppers on a bench. 99/90 good work everybody https://t.co/mpvaVxKmc1\n",
      "\n",
      "80\n",
      "Here's a brigade of puppers. All look very prepared for whatever happens next. 80/80 https://t.co/0eb7R1Om12\n",
      "\n",
      "50\n",
      "From left to right:\n",
      "Cletus, Jerome, Alejandro, Burp, &amp; Titson\n",
      "None know where camera is. 45/50 would hug all at once https://t.co/sedre1ivTK\n",
      "\n",
      "50\n",
      "Here is a whole flock of puppers.  60/50 I'll take the lot https://t.co/9dpcw6MdWa\n",
      "\n",
      "40\n",
      "Happy Wednesday here's a bucket of pups. 44/40 would pet all at once https://t.co/HppvrYuamZ\n",
      "\n",
      "20\n",
      "Yes I do realize a rating of 4/20 would've been fitting. However, it would be unjust to give these cooperative pups that low of a rating\n",
      "\n",
      "130\n",
      "Two sneaky puppers were not initially seen, moving the rating to 143/130. Please forgive us. Thank you https://t.co/kRK51Y5ac3\n",
      "\n",
      "110\n",
      "Someone help the girl is being mugged. Several are distracting her while two steal her shoes. Clever puppers 121/110 https://t.co/1zfnTJLt55\n",
      "\n",
      "11\n",
      "This is Darrel. He just robbed a 7/11 and is in a high speed police chase. Was just spotted by the helicopter 10/10 https://t.co/7EsP8LmSp5\n",
      "\n",
      "16\n",
      "I'm aware that I could've said 20/16, but here at WeRateDogs we are very professional. An inconsistent rating scale is simply irresponsible\n",
      "\n",
      "120\n",
      "IT'S PUPPERGEDDON. Total of 144/120 ...I think https://t.co/ZanVtAtvIq\n",
      "\n",
      "80\n",
      "Here we have an entire platoon of puppers. Total score: 88/80 would pet all at once https://t.co/y93p6FLvVw\n",
      "\n",
      "2\n",
      "This is an Albanian 3 1/2 legged  Episcopalian. Loves well-polished hardwood flooring. Penis on the collar. 9/10 https://t.co/d9NcXFKwLv\n",
      "\n"
     ]
    }
   ],
   "source": [
    "for i in tweet_df[tweet_df['rating_denominator']!=10].index:\n",
    "    print tweet_df.loc[i,'rating_denominator']\n",
    "    print tweet_df.loc[i,'text']\n",
    "    print ''"
   ]
  },
  {
   "cell_type": "markdown",
   "metadata": {},
   "source": [
    "There are three problems: first, when the denominator is 10\\*n, that's a rating for n dogs. Second, when the denominator is different than that, the regex used picked the wrong ratio ('7/11' refers to the store, for example, and it's not a rating). Third, there are cases when even if the denominator is 10, the numerator is identified incorrectly: '7.26/10' is identified as having a numerator of value '26'.\n",
    "\n",
    "To fix this column, I will address the above issues in reverse order: first I construct a regex that only picks ratios that have a multiple of 10 as denominator. Then, for the ones whose denominator is different than 10, I normalize them. (**QUALITY ISSUE \\#7**)"
   ]
  },
  {
   "cell_type": "markdown",
   "metadata": {},
   "source": [
    "Let's take a look at what is in the 'entities' column:"
   ]
  },
  {
   "cell_type": "code",
   "execution_count": 171,
   "metadata": {
    "scrolled": true
   },
   "outputs": [
    {
     "data": {
      "text/plain": [
       "{u'hashtags': [],\n",
       " u'media': [{u'display_url': u'pic.twitter.com/MgUWQ76dJU',\n",
       "   u'expanded_url': u'https://twitter.com/dog_rates/status/892420643555336193/photo/1',\n",
       "   u'id': 892420639486877696,\n",
       "   u'id_str': u'892420639486877696',\n",
       "   u'indices': [86, 109],\n",
       "   u'media_url': u'http://pbs.twimg.com/media/DGKD1-bXoAAIAUK.jpg',\n",
       "   u'media_url_https': u'https://pbs.twimg.com/media/DGKD1-bXoAAIAUK.jpg',\n",
       "   u'sizes': {u'large': {u'h': 528, u'resize': u'fit', u'w': 540},\n",
       "    u'medium': {u'h': 528, u'resize': u'fit', u'w': 540},\n",
       "    u'small': {u'h': 528, u'resize': u'fit', u'w': 540},\n",
       "    u'thumb': {u'h': 150, u'resize': u'crop', u'w': 150}},\n",
       "   u'type': u'photo',\n",
       "   u'url': u'https://t.co/MgUWQ76dJU'}],\n",
       " u'symbols': [],\n",
       " u'urls': [],\n",
       " u'user_mentions': []}"
      ]
     },
     "execution_count": 171,
     "metadata": {},
     "output_type": "execute_result"
    }
   ],
   "source": [
    "tweet_df['entities'][0]"
   ]
  },
  {
   "cell_type": "markdown",
   "metadata": {},
   "source": [
    "I will extract some data from the `entities` column. To begin with, I want to extract `hashtags`, `symbols`, and `urls`. I'll decide what to keep from these after I take a look at the data. \n",
    "\n",
    "(**NOTE TO REVIEWER:** Although it has been recommended to keep the assessing and the cleaning sections separate, I don't think that's always possible, and this is a case in point: at this time, I cannot assess the `entities` column in more detail than what I did above without more cleaning the data. But after I clean the data, it will need to be assessed again and probably cleaned further. So trying to keep the sections separate seems like an impossible task. My solution in this case was to include only the first, superficial assessment in this section, and then move on to clean-assess-clean further in the 'Cleaning the data' section. However, I do mention the further cleaning tasks in the summary section below, even if they have not been highlighted in the data yet)\n",
    "\n",
    "Finally, the four columns that indicate dog stage are all instances of the same variable, namely dog stage. So we can collapse these into a single column. (**TIDINESS ISSUE \\#1**)"
   ]
  },
  {
   "cell_type": "markdown",
   "metadata": {},
   "source": [
    "Let's look at the prediction data:"
   ]
  },
  {
   "cell_type": "code",
   "execution_count": 172,
   "metadata": {},
   "outputs": [
    {
     "data": {
      "text/html": [
       "<div>\n",
       "<style scoped>\n",
       "    .dataframe tbody tr th:only-of-type {\n",
       "        vertical-align: middle;\n",
       "    }\n",
       "\n",
       "    .dataframe tbody tr th {\n",
       "        vertical-align: top;\n",
       "    }\n",
       "\n",
       "    .dataframe thead th {\n",
       "        text-align: right;\n",
       "    }\n",
       "</style>\n",
       "<table border=\"1\" class=\"dataframe\">\n",
       "  <thead>\n",
       "    <tr style=\"text-align: right;\">\n",
       "      <th></th>\n",
       "      <th>tweet_id</th>\n",
       "      <th>jpg_url</th>\n",
       "      <th>img_num</th>\n",
       "      <th>p1</th>\n",
       "      <th>p1_conf</th>\n",
       "      <th>p1_dog</th>\n",
       "      <th>p2</th>\n",
       "      <th>p2_conf</th>\n",
       "      <th>p2_dog</th>\n",
       "      <th>p3</th>\n",
       "      <th>p3_conf</th>\n",
       "      <th>p3_dog</th>\n",
       "    </tr>\n",
       "  </thead>\n",
       "  <tbody>\n",
       "    <tr>\n",
       "      <th>0</th>\n",
       "      <td>666020888022790149</td>\n",
       "      <td>https://pbs.twimg.com/media/CT4udn0WwAA0aMy.jpg</td>\n",
       "      <td>1</td>\n",
       "      <td>Welsh_springer_spaniel</td>\n",
       "      <td>0.465074</td>\n",
       "      <td>True</td>\n",
       "      <td>collie</td>\n",
       "      <td>0.156665</td>\n",
       "      <td>True</td>\n",
       "      <td>Shetland_sheepdog</td>\n",
       "      <td>0.061428</td>\n",
       "      <td>True</td>\n",
       "    </tr>\n",
       "    <tr>\n",
       "      <th>1</th>\n",
       "      <td>666029285002620928</td>\n",
       "      <td>https://pbs.twimg.com/media/CT42GRgUYAA5iDo.jpg</td>\n",
       "      <td>1</td>\n",
       "      <td>redbone</td>\n",
       "      <td>0.506826</td>\n",
       "      <td>True</td>\n",
       "      <td>miniature_pinscher</td>\n",
       "      <td>0.074192</td>\n",
       "      <td>True</td>\n",
       "      <td>Rhodesian_ridgeback</td>\n",
       "      <td>0.072010</td>\n",
       "      <td>True</td>\n",
       "    </tr>\n",
       "    <tr>\n",
       "      <th>2</th>\n",
       "      <td>666033412701032449</td>\n",
       "      <td>https://pbs.twimg.com/media/CT4521TWwAEvMyu.jpg</td>\n",
       "      <td>1</td>\n",
       "      <td>German_shepherd</td>\n",
       "      <td>0.596461</td>\n",
       "      <td>True</td>\n",
       "      <td>malinois</td>\n",
       "      <td>0.138584</td>\n",
       "      <td>True</td>\n",
       "      <td>bloodhound</td>\n",
       "      <td>0.116197</td>\n",
       "      <td>True</td>\n",
       "    </tr>\n",
       "    <tr>\n",
       "      <th>3</th>\n",
       "      <td>666044226329800704</td>\n",
       "      <td>https://pbs.twimg.com/media/CT5Dr8HUEAA-lEu.jpg</td>\n",
       "      <td>1</td>\n",
       "      <td>Rhodesian_ridgeback</td>\n",
       "      <td>0.408143</td>\n",
       "      <td>True</td>\n",
       "      <td>redbone</td>\n",
       "      <td>0.360687</td>\n",
       "      <td>True</td>\n",
       "      <td>miniature_pinscher</td>\n",
       "      <td>0.222752</td>\n",
       "      <td>True</td>\n",
       "    </tr>\n",
       "    <tr>\n",
       "      <th>4</th>\n",
       "      <td>666049248165822465</td>\n",
       "      <td>https://pbs.twimg.com/media/CT5IQmsXIAAKY4A.jpg</td>\n",
       "      <td>1</td>\n",
       "      <td>miniature_pinscher</td>\n",
       "      <td>0.560311</td>\n",
       "      <td>True</td>\n",
       "      <td>Rottweiler</td>\n",
       "      <td>0.243682</td>\n",
       "      <td>True</td>\n",
       "      <td>Doberman</td>\n",
       "      <td>0.154629</td>\n",
       "      <td>True</td>\n",
       "    </tr>\n",
       "  </tbody>\n",
       "</table>\n",
       "</div>"
      ],
      "text/plain": [
       "             tweet_id                                          jpg_url  \\\n",
       "0  666020888022790149  https://pbs.twimg.com/media/CT4udn0WwAA0aMy.jpg   \n",
       "1  666029285002620928  https://pbs.twimg.com/media/CT42GRgUYAA5iDo.jpg   \n",
       "2  666033412701032449  https://pbs.twimg.com/media/CT4521TWwAEvMyu.jpg   \n",
       "3  666044226329800704  https://pbs.twimg.com/media/CT5Dr8HUEAA-lEu.jpg   \n",
       "4  666049248165822465  https://pbs.twimg.com/media/CT5IQmsXIAAKY4A.jpg   \n",
       "\n",
       "   img_num                      p1   p1_conf  p1_dog                  p2  \\\n",
       "0        1  Welsh_springer_spaniel  0.465074    True              collie   \n",
       "1        1                 redbone  0.506826    True  miniature_pinscher   \n",
       "2        1         German_shepherd  0.596461    True            malinois   \n",
       "3        1     Rhodesian_ridgeback  0.408143    True             redbone   \n",
       "4        1      miniature_pinscher  0.560311    True          Rottweiler   \n",
       "\n",
       "    p2_conf  p2_dog                   p3   p3_conf  p3_dog  \n",
       "0  0.156665    True    Shetland_sheepdog  0.061428    True  \n",
       "1  0.074192    True  Rhodesian_ridgeback  0.072010    True  \n",
       "2  0.138584    True           bloodhound  0.116197    True  \n",
       "3  0.360687    True   miniature_pinscher  0.222752    True  \n",
       "4  0.243682    True             Doberman  0.154629    True  "
      ]
     },
     "execution_count": 172,
     "metadata": {},
     "output_type": "execute_result"
    }
   ],
   "source": [
    "predictions_df.head()"
   ]
  },
  {
   "cell_type": "code",
   "execution_count": 173,
   "metadata": {},
   "outputs": [
    {
     "name": "stdout",
     "output_type": "stream",
     "text": [
      "<class 'pandas.core.frame.DataFrame'>\n",
      "RangeIndex: 2075 entries, 0 to 2074\n",
      "Data columns (total 12 columns):\n",
      "tweet_id    2075 non-null int64\n",
      "jpg_url     2075 non-null object\n",
      "img_num     2075 non-null int64\n",
      "p1          2075 non-null object\n",
      "p1_conf     2075 non-null float64\n",
      "p1_dog      2075 non-null bool\n",
      "p2          2075 non-null object\n",
      "p2_conf     2075 non-null float64\n",
      "p2_dog      2075 non-null bool\n",
      "p3          2075 non-null object\n",
      "p3_conf     2075 non-null float64\n",
      "p3_dog      2075 non-null bool\n",
      "dtypes: bool(3), float64(3), int64(2), object(4)\n",
      "memory usage: 152.0+ KB\n"
     ]
    }
   ],
   "source": [
    "predictions_df.info()"
   ]
  },
  {
   "cell_type": "markdown",
   "metadata": {},
   "source": [
    "The most serious issue with this table seems to be that most columns represent values and not variables. p1, p2, and p3 contain dog breeds. p1_conf, p2_conf, and p3_conf indicate the likelihood the image shows a dog of the respective breed. and p1_dog, p2_dog, and p3_dog indicate whether they think the image is a dog or not. We can collapse these into three variables, 'dog_breed', 'likelihood', and 'is_dog'. \n",
    "\n",
    "The order is not important and thus nothing is lost. The difference between p1, p2, and p3 seems to be that p1 is always more likely than p2, which is always more likely than p3. However, if we needed to pick up the most likely breed for a dog, we can easily do that with max(), so the information contained in the order can be easily recovered. (**TIDINESS ISSUE \\#2**)"
   ]
  },
  {
   "cell_type": "markdown",
   "metadata": {},
   "source": [
    "#### Summary of Assessment:\n",
    "\n",
    "These are then the things I need to address: \n",
    "\n",
    "(1) Recast `retweet_count` and `favorite_count` columns as integer.\n",
    "\n",
    "(2) Recast `tweet_id` as a string.\n",
    "\n",
    "(3) Change the `timestamp` column to a datetime format.\n",
    "\n",
    "(4) Remove rows where `text` column starts with 'RT' or '@' from the twitter_df.\n",
    "\n",
    "(5) Remove rows where `expanded_urls` is nan.\n",
    "\n",
    "(6) Clean up `dog_name` column: build some regular expressions to capture the names from `text` column, and when that fails I will replace name value with 'None'.\n",
    "\n",
    "(7) Clean up `rating_denominator' and 'rating_numerator` columns: construct a regex that only picks ratios that have a multiple of 10 as denominator. Then, for the ones whose denominator is different than 10, I normalize them\n",
    "\n",
    "(8) I collapse the following columns: `doggo`,`floofer`,`pupper`,`puppo` into a single column, `dog_stage`\n",
    "\n",
    "(9) Collapse p1, p2, and p3 into `breed`; p1_conf, p2_conf, and p3_conf into `likelihood`; and p1_dog, p2_dog, and p3_dog into `is_dog` \n",
    "\n",
    "Further, I will make the following changes (the reason for these will only become apparent once we start cleaning the data in the next section):\n",
    "\n",
    "(10) Extract `hashtags`, `urls` and `symbols` columns from (json-formatted) `entities` column\n",
    "\n",
    "(11) Delete `urls` and `symbols` columns, along with the `entities` column\n",
    "\n",
    "(12) Create a `hashtag_df` dataframe to record hashtags for each tweet_id (**TIDINESS ISSUE \\#3**)"
   ]
  },
  {
   "cell_type": "code",
   "execution_count": 174,
   "metadata": {},
   "outputs": [
    {
     "name": "stdout",
     "output_type": "stream",
     "text": [
      "<class 'pandas.core.frame.DataFrame'>\n",
      "RangeIndex: 2356 entries, 0 to 2355\n",
      "Data columns (total 20 columns):\n",
      "tweet_id                      2356 non-null int64\n",
      "in_reply_to_status_id         78 non-null float64\n",
      "in_reply_to_user_id           78 non-null float64\n",
      "timestamp                     2356 non-null object\n",
      "source                        2356 non-null object\n",
      "text                          2356 non-null object\n",
      "retweeted_status_id           181 non-null float64\n",
      "retweeted_status_user_id      181 non-null float64\n",
      "retweeted_status_timestamp    181 non-null object\n",
      "expanded_urls                 2297 non-null object\n",
      "rating_numerator              2356 non-null int64\n",
      "rating_denominator            2356 non-null int64\n",
      "name                          2356 non-null object\n",
      "doggo                         2356 non-null object\n",
      "floofer                       2356 non-null object\n",
      "pupper                        2356 non-null object\n",
      "puppo                         2356 non-null object\n",
      "retweet_count                 2340 non-null float64\n",
      "favorite_count                2340 non-null float64\n",
      "entities                      2340 non-null object\n",
      "dtypes: float64(6), int64(3), object(11)\n",
      "memory usage: 368.2+ KB\n"
     ]
    }
   ],
   "source": [
    "tweet_df.info()"
   ]
  },
  {
   "cell_type": "markdown",
   "metadata": {},
   "source": [
    "## Cleaning the data"
   ]
  },
  {
   "cell_type": "markdown",
   "metadata": {},
   "source": [
    "**Issue**\n",
    "\n",
    "Columns with wrong types\n",
    "\n",
    "**Define**\n",
    "\n",
    "Recast `retweet_count` and `favorite_count` columns as integer.\n",
    "\n",
    "Recast `tweet_id` as a string.\n",
    "\n",
    "Change the `timestamp` column to a datetime format.\n",
    "\n",
    "**Code**"
   ]
  },
  {
   "cell_type": "code",
   "execution_count": 175,
   "metadata": {},
   "outputs": [],
   "source": [
    "tweet_df['retweet_count']=tweet_df['retweet_count'].fillna(0.0).astype(int)\n",
    "\n",
    "tweet_df['favorite_count']=tweet_df['favorite_count'].fillna(0.0).astype(int)\n",
    "\n",
    "tweet_df['tweet_id']=tweet_df['tweet_id'].astype(str)\n",
    "\n",
    "tweet_df['timestamp']=pd.to_datetime(tweet_df['timestamp'])"
   ]
  },
  {
   "cell_type": "markdown",
   "metadata": {},
   "source": [
    "**Test**"
   ]
  },
  {
   "cell_type": "code",
   "execution_count": 176,
   "metadata": {},
   "outputs": [
    {
     "name": "stdout",
     "output_type": "stream",
     "text": [
      "<class 'pandas.core.frame.DataFrame'>\n",
      "RangeIndex: 2356 entries, 0 to 2355\n",
      "Data columns (total 20 columns):\n",
      "tweet_id                      2356 non-null object\n",
      "in_reply_to_status_id         78 non-null float64\n",
      "in_reply_to_user_id           78 non-null float64\n",
      "timestamp                     2356 non-null datetime64[ns]\n",
      "source                        2356 non-null object\n",
      "text                          2356 non-null object\n",
      "retweeted_status_id           181 non-null float64\n",
      "retweeted_status_user_id      181 non-null float64\n",
      "retweeted_status_timestamp    181 non-null object\n",
      "expanded_urls                 2297 non-null object\n",
      "rating_numerator              2356 non-null int64\n",
      "rating_denominator            2356 non-null int64\n",
      "name                          2356 non-null object\n",
      "doggo                         2356 non-null object\n",
      "floofer                       2356 non-null object\n",
      "pupper                        2356 non-null object\n",
      "puppo                         2356 non-null object\n",
      "retweet_count                 2356 non-null int64\n",
      "favorite_count                2356 non-null int64\n",
      "entities                      2340 non-null object\n",
      "dtypes: datetime64[ns](1), float64(4), int64(4), object(11)\n",
      "memory usage: 368.2+ KB\n"
     ]
    }
   ],
   "source": [
    "tweet_df.info()"
   ]
  },
  {
   "cell_type": "markdown",
   "metadata": {},
   "source": [
    "**Issue**\n",
    "\n",
    "Remove retweets and replies from twitter_df\n",
    "\n",
    "**Define**\n",
    "\n",
    "Remove rows where `text` column starts with 'RT' or '@' from the twitter_df\n",
    "\n",
    "**Code**"
   ]
  },
  {
   "cell_type": "code",
   "execution_count": 177,
   "metadata": {},
   "outputs": [],
   "source": [
    "import re\n",
    "\n",
    "for i in tweet_df.index:\n",
    "    condition=(re.search(\"^RT\",tweet_df.loc[i,'text']) is not None) or (re.search(\"^@\",tweet_df.loc[i,'text']) is not None)\n",
    "    if condition:\n",
    "        tweet_df.drop(i, axis=0,inplace=True)\n",
    "        \n",
    "tweet_df.dropna(axis=0,subset=['expanded_urls'],inplace=True)"
   ]
  },
  {
   "cell_type": "markdown",
   "metadata": {},
   "source": [
    "**Test**"
   ]
  },
  {
   "cell_type": "code",
   "execution_count": 178,
   "metadata": {},
   "outputs": [
    {
     "name": "stdout",
     "output_type": "stream",
     "text": [
      "All retweets and replies have been dropped\n"
     ]
    }
   ],
   "source": [
    "lst=[]\n",
    "k=1\n",
    "for i in tweet_df.index:\n",
    "    try:\n",
    "        condition=(re.search(\"^RT\",tweet_df.loc[i,'text']) is not None) or (re.search(\"^@\",tweet_df.loc[i,'text']) is not None)\n",
    "        if condition:\n",
    "            k=0\n",
    "            lst.append(i)\n",
    "    except TypeError:\n",
    "        print i\n",
    "if k==0:\n",
    "    print \"There are still some retweets and/or replies in the tweet data. Please take a look at the following rows:\"\n",
    "    print lst\n",
    "else:\n",
    "    print \"All retweets and replies have been dropped\""
   ]
  },
  {
   "cell_type": "markdown",
   "metadata": {},
   "source": [
    "**Issue**\n",
    "\n",
    "Fix dog names\n",
    "\n",
    "**Define**\n",
    "\n",
    "Clean up `dog_name` column: build some regular expressions to capture the names from `text` column, and when that fails I will replace name value with 'None'.\n",
    "\n",
    "**Code**"
   ]
  },
  {
   "cell_type": "code",
   "execution_count": 179,
   "metadata": {},
   "outputs": [],
   "source": [
    "test=tweet_df[tweet_df['name'].str.islower()]\n",
    "for i in test.index:\n",
    "    if re.search(\"named\\s[A-Z]\\w*\",test.loc[i,'text']) is not None:\n",
    "        expression=re.search(\"named\\s[A-Z]\\w*\",test.loc[i,'text']).group()\n",
    "        test.loc[i,'name']=expression.split(' ')[1]\n",
    "    elif re.search('That\\sis\\s[A-Z]\\w*',test.loc[i,'text']) is not None:\n",
    "        expression=re.search(\"That\\sis\\s[A-Z]\\w*\",test.loc[i,'text']).group()\n",
    "        test.loc[i,'name']=expression.split(' ')[2]\n",
    "    elif re.search('name\\sis\\s[A-Z]\\w*',test.loc[i,'text']) is not None:\n",
    "        expression=re.search(\"name\\sis\\s[A-Z]\\w*\",test.loc[i,'text']).group()\n",
    "        test.loc[i,'name']=expression.split(' ')[2]\n",
    "    else:\n",
    "        test.loc[i,'name']=None\n",
    "        \n",
    "for i in test.index:\n",
    "    tweet_df.loc[i,'name']=test.loc[i,'name']"
   ]
  },
  {
   "cell_type": "markdown",
   "metadata": {},
   "source": [
    "**Test**"
   ]
  },
  {
   "cell_type": "code",
   "execution_count": 180,
   "metadata": {},
   "outputs": [
    {
     "data": {
      "text/plain": [
       "0"
      ]
     },
     "execution_count": 180,
     "metadata": {},
     "output_type": "execute_result"
    }
   ],
   "source": [
    "tweet_df['name'].str.islower().sum()"
   ]
  },
  {
   "cell_type": "markdown",
   "metadata": {},
   "source": [
    "**Issue**\n",
    "\n",
    "Fix rating columns.\n",
    "\n",
    "**Define**\n",
    "\n",
    "Construct a regex that only picks ratios that have a multiple of 10 as denominator. Then, for the ones whose denominator is different than 10, I normalize them\n",
    "\n",
    "**Code**"
   ]
  },
  {
   "cell_type": "code",
   "execution_count": 181,
   "metadata": {},
   "outputs": [],
   "source": [
    "for i in tweet_df.index:\n",
    "    if re.search('\\d+\\.\\d+/\\d0',tweet_df.loc[i,'text']) is not None:\n",
    "        tweet_df.loc[i,'rating_denominator']=int(re.search('\\d+\\.\\d+/\\d0',tweet_df.loc[i,'text']).group().split('/')[1])\n",
    "        tweet_df.loc[i,'rating_numerator']=re.search('\\d+\\.\\d+/\\d0',tweet_df.loc[i,'text']).group().split('/')[0]\n",
    "    elif re.search('\\d+/\\d+0',tweet_df.loc[i,'text']) is not None:\n",
    "        tweet_df.loc[i,'rating_denominator']=int(re.search('\\d+/\\d+0',tweet_df.loc[i,'text']).group().split('/')[1])\n",
    "        tweet_df.loc[i,'rating_numerator']=re.search('\\d+/\\d+0',tweet_df.loc[i,'text']).group().split('/')[0]\n",
    "    else:\n",
    "        tweet_df.loc[i,'rating_denominator']=10\n",
    "        tweet_df.loc[i,'rating_numerator']=0\n",
    "\n",
    "tweet_df['rating_numerator']=tweet_df['rating_numerator'].astype(float)\n",
    "tweet_df['rating_denominator']=tweet_df['rating_denominator'].astype(float)\n",
    "tweet_df['rating']=tweet_df['rating_numerator']/tweet_df['rating_denominator']"
   ]
  },
  {
   "cell_type": "markdown",
   "metadata": {},
   "source": [
    "**Test**"
   ]
  },
  {
   "cell_type": "code",
   "execution_count": 182,
   "metadata": {},
   "outputs": [
    {
     "data": {
      "text/plain": [
       "0"
      ]
     },
     "execution_count": 182,
     "metadata": {},
     "output_type": "execute_result"
    }
   ],
   "source": [
    "tweet_df['rating_denominator'].isnull().sum()"
   ]
  },
  {
   "cell_type": "markdown",
   "metadata": {},
   "source": [
    "**Issue**\n",
    "\n",
    "Extract data from 'entities' column\n",
    "\n",
    "**Define**\n",
    "\n",
    "Extract `hashtags`, `urls` and `symbols` columns from (json-formatted) `entities` column\n",
    "\n",
    "**Code**"
   ]
  },
  {
   "cell_type": "code",
   "execution_count": 183,
   "metadata": {},
   "outputs": [],
   "source": [
    "def value_to_string(value,dic):\n",
    "    st=''\n",
    "    for element in dic[value]:\n",
    "        st+=str(element)+'|'\n",
    "    return st\n",
    "\n",
    "def update_df(value):\n",
    "    i=0\n",
    "    for i in range (0,tweet_df.shape[0]):\n",
    "        try:\n",
    "            tweet_df.loc[i,value]=value_to_string(value,tweet_df.loc[i,'entities'])\n",
    "            i=i+1\n",
    "        except TypeError: # entities column is nan\n",
    "            tweet_df.loc[i,value]=''\n",
    "        except KeyError:\n",
    "            tweet_df.loc[i,value]=''\n",
    "            \n",
    "update_df('urls')\n",
    "update_df('hashtags')\n",
    "update_df('symbols')"
   ]
  },
  {
   "cell_type": "code",
   "execution_count": 184,
   "metadata": {},
   "outputs": [
    {
     "data": {
      "text/html": [
       "<div>\n",
       "<style scoped>\n",
       "    .dataframe tbody tr th:only-of-type {\n",
       "        vertical-align: middle;\n",
       "    }\n",
       "\n",
       "    .dataframe tbody tr th {\n",
       "        vertical-align: top;\n",
       "    }\n",
       "\n",
       "    .dataframe thead th {\n",
       "        text-align: right;\n",
       "    }\n",
       "</style>\n",
       "<table border=\"1\" class=\"dataframe\">\n",
       "  <thead>\n",
       "    <tr style=\"text-align: right;\">\n",
       "      <th></th>\n",
       "      <th>tweet_id</th>\n",
       "      <th>in_reply_to_status_id</th>\n",
       "      <th>in_reply_to_user_id</th>\n",
       "      <th>timestamp</th>\n",
       "      <th>source</th>\n",
       "      <th>text</th>\n",
       "      <th>retweeted_status_id</th>\n",
       "      <th>retweeted_status_user_id</th>\n",
       "      <th>retweeted_status_timestamp</th>\n",
       "      <th>expanded_urls</th>\n",
       "      <th>...</th>\n",
       "      <th>floofer</th>\n",
       "      <th>pupper</th>\n",
       "      <th>puppo</th>\n",
       "      <th>retweet_count</th>\n",
       "      <th>favorite_count</th>\n",
       "      <th>entities</th>\n",
       "      <th>rating</th>\n",
       "      <th>urls</th>\n",
       "      <th>hashtags</th>\n",
       "      <th>symbols</th>\n",
       "    </tr>\n",
       "  </thead>\n",
       "  <tbody>\n",
       "    <tr>\n",
       "      <th>0</th>\n",
       "      <td>892420643555336193</td>\n",
       "      <td>NaN</td>\n",
       "      <td>NaN</td>\n",
       "      <td>2017-08-01 16:23:56</td>\n",
       "      <td>&lt;a href=\"http://twitter.com/download/iphone\" r...</td>\n",
       "      <td>This is Phineas. He's a mystical boy. Only eve...</td>\n",
       "      <td>NaN</td>\n",
       "      <td>NaN</td>\n",
       "      <td>NaN</td>\n",
       "      <td>https://twitter.com/dog_rates/status/892420643...</td>\n",
       "      <td>...</td>\n",
       "      <td>None</td>\n",
       "      <td>None</td>\n",
       "      <td>None</td>\n",
       "      <td>8380.0</td>\n",
       "      <td>38256.0</td>\n",
       "      <td>{u'symbols': [], u'user_mentions': [], u'hasht...</td>\n",
       "      <td>1.3</td>\n",
       "      <td></td>\n",
       "      <td></td>\n",
       "      <td></td>\n",
       "    </tr>\n",
       "    <tr>\n",
       "      <th>1</th>\n",
       "      <td>892177421306343426</td>\n",
       "      <td>NaN</td>\n",
       "      <td>NaN</td>\n",
       "      <td>2017-08-01 00:17:27</td>\n",
       "      <td>&lt;a href=\"http://twitter.com/download/iphone\" r...</td>\n",
       "      <td>This is Tilly. She's just checking pup on you....</td>\n",
       "      <td>NaN</td>\n",
       "      <td>NaN</td>\n",
       "      <td>NaN</td>\n",
       "      <td>https://twitter.com/dog_rates/status/892177421...</td>\n",
       "      <td>...</td>\n",
       "      <td>None</td>\n",
       "      <td>None</td>\n",
       "      <td>None</td>\n",
       "      <td>6188.0</td>\n",
       "      <td>32795.0</td>\n",
       "      <td>{u'symbols': [], u'user_mentions': [], u'hasht...</td>\n",
       "      <td>1.3</td>\n",
       "      <td></td>\n",
       "      <td></td>\n",
       "      <td></td>\n",
       "    </tr>\n",
       "    <tr>\n",
       "      <th>2</th>\n",
       "      <td>891815181378084864</td>\n",
       "      <td>NaN</td>\n",
       "      <td>NaN</td>\n",
       "      <td>2017-07-31 00:18:03</td>\n",
       "      <td>&lt;a href=\"http://twitter.com/download/iphone\" r...</td>\n",
       "      <td>This is Archie. He is a rare Norwegian Pouncin...</td>\n",
       "      <td>NaN</td>\n",
       "      <td>NaN</td>\n",
       "      <td>NaN</td>\n",
       "      <td>https://twitter.com/dog_rates/status/891815181...</td>\n",
       "      <td>...</td>\n",
       "      <td>None</td>\n",
       "      <td>None</td>\n",
       "      <td>None</td>\n",
       "      <td>4093.0</td>\n",
       "      <td>24696.0</td>\n",
       "      <td>{u'symbols': [], u'user_mentions': [], u'hasht...</td>\n",
       "      <td>1.2</td>\n",
       "      <td></td>\n",
       "      <td></td>\n",
       "      <td></td>\n",
       "    </tr>\n",
       "    <tr>\n",
       "      <th>3</th>\n",
       "      <td>891689557279858688</td>\n",
       "      <td>NaN</td>\n",
       "      <td>NaN</td>\n",
       "      <td>2017-07-30 15:58:51</td>\n",
       "      <td>&lt;a href=\"http://twitter.com/download/iphone\" r...</td>\n",
       "      <td>This is Darla. She commenced a snooze mid meal...</td>\n",
       "      <td>NaN</td>\n",
       "      <td>NaN</td>\n",
       "      <td>NaN</td>\n",
       "      <td>https://twitter.com/dog_rates/status/891689557...</td>\n",
       "      <td>...</td>\n",
       "      <td>None</td>\n",
       "      <td>None</td>\n",
       "      <td>None</td>\n",
       "      <td>8522.0</td>\n",
       "      <td>41579.0</td>\n",
       "      <td>{u'symbols': [], u'user_mentions': [], u'hasht...</td>\n",
       "      <td>1.3</td>\n",
       "      <td></td>\n",
       "      <td></td>\n",
       "      <td></td>\n",
       "    </tr>\n",
       "    <tr>\n",
       "      <th>4</th>\n",
       "      <td>891327558926688256</td>\n",
       "      <td>NaN</td>\n",
       "      <td>NaN</td>\n",
       "      <td>2017-07-29 16:00:24</td>\n",
       "      <td>&lt;a href=\"http://twitter.com/download/iphone\" r...</td>\n",
       "      <td>This is Franklin. He would like you to stop ca...</td>\n",
       "      <td>NaN</td>\n",
       "      <td>NaN</td>\n",
       "      <td>NaN</td>\n",
       "      <td>https://twitter.com/dog_rates/status/891327558...</td>\n",
       "      <td>...</td>\n",
       "      <td>None</td>\n",
       "      <td>None</td>\n",
       "      <td>None</td>\n",
       "      <td>9230.0</td>\n",
       "      <td>39762.0</td>\n",
       "      <td>{u'symbols': [], u'user_mentions': [], u'hasht...</td>\n",
       "      <td>1.2</td>\n",
       "      <td></td>\n",
       "      <td>{u'indices': [129, 138], u'text': u'BarkWeek'}|</td>\n",
       "      <td></td>\n",
       "    </tr>\n",
       "  </tbody>\n",
       "</table>\n",
       "<p>5 rows × 24 columns</p>\n",
       "</div>"
      ],
      "text/plain": [
       "             tweet_id  in_reply_to_status_id  in_reply_to_user_id  \\\n",
       "0  892420643555336193                    NaN                  NaN   \n",
       "1  892177421306343426                    NaN                  NaN   \n",
       "2  891815181378084864                    NaN                  NaN   \n",
       "3  891689557279858688                    NaN                  NaN   \n",
       "4  891327558926688256                    NaN                  NaN   \n",
       "\n",
       "            timestamp                                             source  \\\n",
       "0 2017-08-01 16:23:56  <a href=\"http://twitter.com/download/iphone\" r...   \n",
       "1 2017-08-01 00:17:27  <a href=\"http://twitter.com/download/iphone\" r...   \n",
       "2 2017-07-31 00:18:03  <a href=\"http://twitter.com/download/iphone\" r...   \n",
       "3 2017-07-30 15:58:51  <a href=\"http://twitter.com/download/iphone\" r...   \n",
       "4 2017-07-29 16:00:24  <a href=\"http://twitter.com/download/iphone\" r...   \n",
       "\n",
       "                                                text  retweeted_status_id  \\\n",
       "0  This is Phineas. He's a mystical boy. Only eve...                  NaN   \n",
       "1  This is Tilly. She's just checking pup on you....                  NaN   \n",
       "2  This is Archie. He is a rare Norwegian Pouncin...                  NaN   \n",
       "3  This is Darla. She commenced a snooze mid meal...                  NaN   \n",
       "4  This is Franklin. He would like you to stop ca...                  NaN   \n",
       "\n",
       "   retweeted_status_user_id retweeted_status_timestamp  \\\n",
       "0                       NaN                        NaN   \n",
       "1                       NaN                        NaN   \n",
       "2                       NaN                        NaN   \n",
       "3                       NaN                        NaN   \n",
       "4                       NaN                        NaN   \n",
       "\n",
       "                                       expanded_urls   ...    floofer  pupper  \\\n",
       "0  https://twitter.com/dog_rates/status/892420643...   ...       None    None   \n",
       "1  https://twitter.com/dog_rates/status/892177421...   ...       None    None   \n",
       "2  https://twitter.com/dog_rates/status/891815181...   ...       None    None   \n",
       "3  https://twitter.com/dog_rates/status/891689557...   ...       None    None   \n",
       "4  https://twitter.com/dog_rates/status/891327558...   ...       None    None   \n",
       "\n",
       "  puppo retweet_count favorite_count  \\\n",
       "0  None        8380.0        38256.0   \n",
       "1  None        6188.0        32795.0   \n",
       "2  None        4093.0        24696.0   \n",
       "3  None        8522.0        41579.0   \n",
       "4  None        9230.0        39762.0   \n",
       "\n",
       "                                            entities rating  urls  \\\n",
       "0  {u'symbols': [], u'user_mentions': [], u'hasht...    1.3         \n",
       "1  {u'symbols': [], u'user_mentions': [], u'hasht...    1.3         \n",
       "2  {u'symbols': [], u'user_mentions': [], u'hasht...    1.2         \n",
       "3  {u'symbols': [], u'user_mentions': [], u'hasht...    1.3         \n",
       "4  {u'symbols': [], u'user_mentions': [], u'hasht...    1.2         \n",
       "\n",
       "                                          hashtags symbols  \n",
       "0                                                           \n",
       "1                                                           \n",
       "2                                                           \n",
       "3                                                           \n",
       "4  {u'indices': [129, 138], u'text': u'BarkWeek'}|          \n",
       "\n",
       "[5 rows x 24 columns]"
      ]
     },
     "execution_count": 184,
     "metadata": {},
     "output_type": "execute_result"
    }
   ],
   "source": [
    "tweet_df.head()"
   ]
  },
  {
   "cell_type": "code",
   "execution_count": 185,
   "metadata": {},
   "outputs": [
    {
     "name": "stdout",
     "output_type": "stream",
     "text": [
      "<class 'pandas.core.frame.DataFrame'>\n",
      "Int64Index: 2356 entries, 0 to 2298\n",
      "Data columns (total 24 columns):\n",
      "tweet_id                      2115 non-null object\n",
      "in_reply_to_status_id         23 non-null float64\n",
      "in_reply_to_user_id           23 non-null float64\n",
      "timestamp                     2115 non-null datetime64[ns]\n",
      "source                        2115 non-null object\n",
      "text                          2115 non-null object\n",
      "retweeted_status_id           0 non-null float64\n",
      "retweeted_status_user_id      0 non-null float64\n",
      "retweeted_status_timestamp    0 non-null object\n",
      "expanded_urls                 2115 non-null object\n",
      "rating_numerator              2115 non-null float64\n",
      "rating_denominator            2115 non-null float64\n",
      "name                          2034 non-null object\n",
      "doggo                         2115 non-null object\n",
      "floofer                       2115 non-null object\n",
      "pupper                        2115 non-null object\n",
      "puppo                         2115 non-null object\n",
      "retweet_count                 2115 non-null float64\n",
      "favorite_count                2115 non-null float64\n",
      "entities                      2112 non-null object\n",
      "rating                        2115 non-null float64\n",
      "urls                          2115 non-null object\n",
      "hashtags                      2351 non-null object\n",
      "symbols                       2356 non-null object\n",
      "dtypes: datetime64[ns](1), float64(9), object(14)\n",
      "memory usage: 540.2+ KB\n"
     ]
    }
   ],
   "source": [
    "tweet_df.info()"
   ]
  },
  {
   "cell_type": "markdown",
   "metadata": {},
   "source": [
    "#### Interlude: More Assessment\n",
    "\n",
    "Having cleaned up the data in the `entities` column, we need to look at what we should keep from this data. What follows is a brief assessment of the data we extracted, after which we go back to cleaning it. \n",
    "\n",
    "Let's look at what the `hashtags` column contains:"
   ]
  },
  {
   "cell_type": "code",
   "execution_count": 186,
   "metadata": {},
   "outputs": [
    {
     "data": {
      "text/html": [
       "<div>\n",
       "<style scoped>\n",
       "    .dataframe tbody tr th:only-of-type {\n",
       "        vertical-align: middle;\n",
       "    }\n",
       "\n",
       "    .dataframe tbody tr th {\n",
       "        vertical-align: top;\n",
       "    }\n",
       "\n",
       "    .dataframe thead th {\n",
       "        text-align: right;\n",
       "    }\n",
       "</style>\n",
       "<table border=\"1\" class=\"dataframe\">\n",
       "  <thead>\n",
       "    <tr style=\"text-align: right;\">\n",
       "      <th></th>\n",
       "      <th>tweet_id</th>\n",
       "      <th>in_reply_to_status_id</th>\n",
       "      <th>in_reply_to_user_id</th>\n",
       "      <th>timestamp</th>\n",
       "      <th>source</th>\n",
       "      <th>text</th>\n",
       "      <th>retweeted_status_id</th>\n",
       "      <th>retweeted_status_user_id</th>\n",
       "      <th>retweeted_status_timestamp</th>\n",
       "      <th>expanded_urls</th>\n",
       "      <th>...</th>\n",
       "      <th>floofer</th>\n",
       "      <th>pupper</th>\n",
       "      <th>puppo</th>\n",
       "      <th>retweet_count</th>\n",
       "      <th>favorite_count</th>\n",
       "      <th>entities</th>\n",
       "      <th>rating</th>\n",
       "      <th>urls</th>\n",
       "      <th>hashtags</th>\n",
       "      <th>symbols</th>\n",
       "    </tr>\n",
       "  </thead>\n",
       "  <tbody>\n",
       "    <tr>\n",
       "      <th>4</th>\n",
       "      <td>891327558926688256</td>\n",
       "      <td>NaN</td>\n",
       "      <td>NaN</td>\n",
       "      <td>2017-07-29 16:00:24</td>\n",
       "      <td>&lt;a href=\"http://twitter.com/download/iphone\" r...</td>\n",
       "      <td>This is Franklin. He would like you to stop ca...</td>\n",
       "      <td>NaN</td>\n",
       "      <td>NaN</td>\n",
       "      <td>NaN</td>\n",
       "      <td>https://twitter.com/dog_rates/status/891327558...</td>\n",
       "      <td>...</td>\n",
       "      <td>None</td>\n",
       "      <td>None</td>\n",
       "      <td>None</td>\n",
       "      <td>9230.0</td>\n",
       "      <td>39762.0</td>\n",
       "      <td>{u'symbols': [], u'user_mentions': [], u'hasht...</td>\n",
       "      <td>1.2</td>\n",
       "      <td></td>\n",
       "      <td>{u'indices': [129, 138], u'text': u'BarkWeek'}|</td>\n",
       "      <td></td>\n",
       "    </tr>\n",
       "    <tr>\n",
       "      <th>5</th>\n",
       "      <td>891087950875897856</td>\n",
       "      <td>NaN</td>\n",
       "      <td>NaN</td>\n",
       "      <td>2017-07-29 00:08:17</td>\n",
       "      <td>&lt;a href=\"http://twitter.com/download/iphone\" r...</td>\n",
       "      <td>Here we have a majestic great white breaching ...</td>\n",
       "      <td>NaN</td>\n",
       "      <td>NaN</td>\n",
       "      <td>NaN</td>\n",
       "      <td>https://twitter.com/dog_rates/status/891087950...</td>\n",
       "      <td>...</td>\n",
       "      <td>None</td>\n",
       "      <td>None</td>\n",
       "      <td>None</td>\n",
       "      <td>3070.0</td>\n",
       "      <td>19958.0</td>\n",
       "      <td>{u'symbols': [], u'user_mentions': [], u'hasht...</td>\n",
       "      <td>1.3</td>\n",
       "      <td></td>\n",
       "      <td>{u'indices': [129, 138], u'text': u'BarkWeek'}|</td>\n",
       "      <td></td>\n",
       "    </tr>\n",
       "    <tr>\n",
       "      <th>8</th>\n",
       "      <td>890609185150312448</td>\n",
       "      <td>NaN</td>\n",
       "      <td>NaN</td>\n",
       "      <td>2017-07-27 16:25:51</td>\n",
       "      <td>&lt;a href=\"http://twitter.com/download/iphone\" r...</td>\n",
       "      <td>This is Zoey. She doesn't want to be one of th...</td>\n",
       "      <td>NaN</td>\n",
       "      <td>NaN</td>\n",
       "      <td>NaN</td>\n",
       "      <td>https://twitter.com/dog_rates/status/890609185...</td>\n",
       "      <td>...</td>\n",
       "      <td>None</td>\n",
       "      <td>None</td>\n",
       "      <td>None</td>\n",
       "      <td>4213.0</td>\n",
       "      <td>27428.0</td>\n",
       "      <td>{u'symbols': [], u'user_mentions': [], u'hasht...</td>\n",
       "      <td>1.3</td>\n",
       "      <td></td>\n",
       "      <td>{u'indices': [113, 122], u'text': u'BarkWeek'}|</td>\n",
       "      <td></td>\n",
       "    </tr>\n",
       "    <tr>\n",
       "      <th>10</th>\n",
       "      <td>890006608113172480</td>\n",
       "      <td>NaN</td>\n",
       "      <td>NaN</td>\n",
       "      <td>2017-07-26 00:31:25</td>\n",
       "      <td>&lt;a href=\"http://twitter.com/download/iphone\" r...</td>\n",
       "      <td>This is Koda. He is a South Australian decksha...</td>\n",
       "      <td>NaN</td>\n",
       "      <td>NaN</td>\n",
       "      <td>NaN</td>\n",
       "      <td>https://twitter.com/dog_rates/status/890006608...</td>\n",
       "      <td>...</td>\n",
       "      <td>None</td>\n",
       "      <td>None</td>\n",
       "      <td>None</td>\n",
       "      <td>7230.0</td>\n",
       "      <td>30250.0</td>\n",
       "      <td>{u'symbols': [], u'user_mentions': [], u'hasht...</td>\n",
       "      <td>1.3</td>\n",
       "      <td></td>\n",
       "      <td>{u'indices': [121, 130], u'text': u'BarkWeek'}|</td>\n",
       "      <td></td>\n",
       "    </tr>\n",
       "    <tr>\n",
       "      <th>14</th>\n",
       "      <td>889531135344209921</td>\n",
       "      <td>NaN</td>\n",
       "      <td>NaN</td>\n",
       "      <td>2017-07-24 17:02:04</td>\n",
       "      <td>&lt;a href=\"http://twitter.com/download/iphone\" r...</td>\n",
       "      <td>This is Stuart. He's sporting his favorite fan...</td>\n",
       "      <td>NaN</td>\n",
       "      <td>NaN</td>\n",
       "      <td>NaN</td>\n",
       "      <td>https://twitter.com/dog_rates/status/889531135...</td>\n",
       "      <td>...</td>\n",
       "      <td>None</td>\n",
       "      <td>None</td>\n",
       "      <td>puppo</td>\n",
       "      <td>2209.0</td>\n",
       "      <td>14902.0</td>\n",
       "      <td>{u'symbols': [], u'user_mentions': [], u'hasht...</td>\n",
       "      <td>1.3</td>\n",
       "      <td></td>\n",
       "      <td>{u'indices': [109, 118], u'text': u'BarkWeek'}|</td>\n",
       "      <td></td>\n",
       "    </tr>\n",
       "  </tbody>\n",
       "</table>\n",
       "<p>5 rows × 24 columns</p>\n",
       "</div>"
      ],
      "text/plain": [
       "              tweet_id  in_reply_to_status_id  in_reply_to_user_id  \\\n",
       "4   891327558926688256                    NaN                  NaN   \n",
       "5   891087950875897856                    NaN                  NaN   \n",
       "8   890609185150312448                    NaN                  NaN   \n",
       "10  890006608113172480                    NaN                  NaN   \n",
       "14  889531135344209921                    NaN                  NaN   \n",
       "\n",
       "             timestamp                                             source  \\\n",
       "4  2017-07-29 16:00:24  <a href=\"http://twitter.com/download/iphone\" r...   \n",
       "5  2017-07-29 00:08:17  <a href=\"http://twitter.com/download/iphone\" r...   \n",
       "8  2017-07-27 16:25:51  <a href=\"http://twitter.com/download/iphone\" r...   \n",
       "10 2017-07-26 00:31:25  <a href=\"http://twitter.com/download/iphone\" r...   \n",
       "14 2017-07-24 17:02:04  <a href=\"http://twitter.com/download/iphone\" r...   \n",
       "\n",
       "                                                 text  retweeted_status_id  \\\n",
       "4   This is Franklin. He would like you to stop ca...                  NaN   \n",
       "5   Here we have a majestic great white breaching ...                  NaN   \n",
       "8   This is Zoey. She doesn't want to be one of th...                  NaN   \n",
       "10  This is Koda. He is a South Australian decksha...                  NaN   \n",
       "14  This is Stuart. He's sporting his favorite fan...                  NaN   \n",
       "\n",
       "    retweeted_status_user_id retweeted_status_timestamp  \\\n",
       "4                        NaN                        NaN   \n",
       "5                        NaN                        NaN   \n",
       "8                        NaN                        NaN   \n",
       "10                       NaN                        NaN   \n",
       "14                       NaN                        NaN   \n",
       "\n",
       "                                        expanded_urls   ...    floofer  \\\n",
       "4   https://twitter.com/dog_rates/status/891327558...   ...       None   \n",
       "5   https://twitter.com/dog_rates/status/891087950...   ...       None   \n",
       "8   https://twitter.com/dog_rates/status/890609185...   ...       None   \n",
       "10  https://twitter.com/dog_rates/status/890006608...   ...       None   \n",
       "14  https://twitter.com/dog_rates/status/889531135...   ...       None   \n",
       "\n",
       "    pupper  puppo retweet_count favorite_count  \\\n",
       "4     None   None        9230.0        39762.0   \n",
       "5     None   None        3070.0        19958.0   \n",
       "8     None   None        4213.0        27428.0   \n",
       "10    None   None        7230.0        30250.0   \n",
       "14    None  puppo        2209.0        14902.0   \n",
       "\n",
       "                                             entities rating  urls  \\\n",
       "4   {u'symbols': [], u'user_mentions': [], u'hasht...    1.2         \n",
       "5   {u'symbols': [], u'user_mentions': [], u'hasht...    1.3         \n",
       "8   {u'symbols': [], u'user_mentions': [], u'hasht...    1.3         \n",
       "10  {u'symbols': [], u'user_mentions': [], u'hasht...    1.3         \n",
       "14  {u'symbols': [], u'user_mentions': [], u'hasht...    1.3         \n",
       "\n",
       "                                           hashtags symbols  \n",
       "4   {u'indices': [129, 138], u'text': u'BarkWeek'}|          \n",
       "5   {u'indices': [129, 138], u'text': u'BarkWeek'}|          \n",
       "8   {u'indices': [113, 122], u'text': u'BarkWeek'}|          \n",
       "10  {u'indices': [121, 130], u'text': u'BarkWeek'}|          \n",
       "14  {u'indices': [109, 118], u'text': u'BarkWeek'}|          \n",
       "\n",
       "[5 rows x 24 columns]"
      ]
     },
     "execution_count": 186,
     "metadata": {},
     "output_type": "execute_result"
    }
   ],
   "source": [
    "tweet_df[tweet_df['hashtags']!=''].head(5)"
   ]
  },
  {
   "cell_type": "markdown",
   "metadata": {},
   "source": [
    "It looks like the hashtag is buried a little deeper in the json structure, under the 'text' key. I want to keep this information, because I would like to see which hashtags are the most common. But before I do that I look at the other columns I created. Next is `symbols` column."
   ]
  },
  {
   "cell_type": "code",
   "execution_count": 187,
   "metadata": {},
   "outputs": [
    {
     "data": {
      "text/html": [
       "<div>\n",
       "<style scoped>\n",
       "    .dataframe tbody tr th:only-of-type {\n",
       "        vertical-align: middle;\n",
       "    }\n",
       "\n",
       "    .dataframe tbody tr th {\n",
       "        vertical-align: top;\n",
       "    }\n",
       "\n",
       "    .dataframe thead th {\n",
       "        text-align: right;\n",
       "    }\n",
       "</style>\n",
       "<table border=\"1\" class=\"dataframe\">\n",
       "  <thead>\n",
       "    <tr style=\"text-align: right;\">\n",
       "      <th></th>\n",
       "      <th>tweet_id</th>\n",
       "      <th>in_reply_to_status_id</th>\n",
       "      <th>in_reply_to_user_id</th>\n",
       "      <th>timestamp</th>\n",
       "      <th>source</th>\n",
       "      <th>text</th>\n",
       "      <th>retweeted_status_id</th>\n",
       "      <th>retweeted_status_user_id</th>\n",
       "      <th>retweeted_status_timestamp</th>\n",
       "      <th>expanded_urls</th>\n",
       "      <th>...</th>\n",
       "      <th>floofer</th>\n",
       "      <th>pupper</th>\n",
       "      <th>puppo</th>\n",
       "      <th>retweet_count</th>\n",
       "      <th>favorite_count</th>\n",
       "      <th>entities</th>\n",
       "      <th>rating</th>\n",
       "      <th>urls</th>\n",
       "      <th>hashtags</th>\n",
       "      <th>symbols</th>\n",
       "    </tr>\n",
       "  </thead>\n",
       "  <tbody>\n",
       "  </tbody>\n",
       "</table>\n",
       "<p>0 rows × 24 columns</p>\n",
       "</div>"
      ],
      "text/plain": [
       "Empty DataFrame\n",
       "Columns: [tweet_id, in_reply_to_status_id, in_reply_to_user_id, timestamp, source, text, retweeted_status_id, retweeted_status_user_id, retweeted_status_timestamp, expanded_urls, rating_numerator, rating_denominator, name, doggo, floofer, pupper, puppo, retweet_count, favorite_count, entities, rating, urls, hashtags, symbols]\n",
       "Index: []\n",
       "\n",
       "[0 rows x 24 columns]"
      ]
     },
     "execution_count": 187,
     "metadata": {},
     "output_type": "execute_result"
    }
   ],
   "source": [
    "tweet_df[tweet_df['symbols']!=''].head()"
   ]
  },
  {
   "cell_type": "markdown",
   "metadata": {},
   "source": [
    "**Define**\n",
    "\n",
    "This column is empty so I discard it.\n",
    "\n",
    "**Code**"
   ]
  },
  {
   "cell_type": "code",
   "execution_count": 188,
   "metadata": {},
   "outputs": [],
   "source": [
    "tweet_df.drop('symbols',axis=1,inplace=True)"
   ]
  },
  {
   "cell_type": "markdown",
   "metadata": {},
   "source": [
    "**Test**"
   ]
  },
  {
   "cell_type": "code",
   "execution_count": 189,
   "metadata": {},
   "outputs": [
    {
     "name": "stdout",
     "output_type": "stream",
     "text": [
      "<class 'pandas.core.frame.DataFrame'>\n",
      "Int64Index: 2356 entries, 0 to 2298\n",
      "Data columns (total 23 columns):\n",
      "tweet_id                      2115 non-null object\n",
      "in_reply_to_status_id         23 non-null float64\n",
      "in_reply_to_user_id           23 non-null float64\n",
      "timestamp                     2115 non-null datetime64[ns]\n",
      "source                        2115 non-null object\n",
      "text                          2115 non-null object\n",
      "retweeted_status_id           0 non-null float64\n",
      "retweeted_status_user_id      0 non-null float64\n",
      "retweeted_status_timestamp    0 non-null object\n",
      "expanded_urls                 2115 non-null object\n",
      "rating_numerator              2115 non-null float64\n",
      "rating_denominator            2115 non-null float64\n",
      "name                          2034 non-null object\n",
      "doggo                         2115 non-null object\n",
      "floofer                       2115 non-null object\n",
      "pupper                        2115 non-null object\n",
      "puppo                         2115 non-null object\n",
      "retweet_count                 2115 non-null float64\n",
      "favorite_count                2115 non-null float64\n",
      "entities                      2112 non-null object\n",
      "rating                        2115 non-null float64\n",
      "urls                          2115 non-null object\n",
      "hashtags                      2351 non-null object\n",
      "dtypes: datetime64[ns](1), float64(9), object(13)\n",
      "memory usage: 521.8+ KB\n"
     ]
    }
   ],
   "source": [
    "tweet_df.info()"
   ]
  },
  {
   "cell_type": "markdown",
   "metadata": {},
   "source": [
    "Next I look at `url` column:"
   ]
  },
  {
   "cell_type": "code",
   "execution_count": 190,
   "metadata": {},
   "outputs": [
    {
     "data": {
      "text/html": [
       "<div>\n",
       "<style scoped>\n",
       "    .dataframe tbody tr th:only-of-type {\n",
       "        vertical-align: middle;\n",
       "    }\n",
       "\n",
       "    .dataframe tbody tr th {\n",
       "        vertical-align: top;\n",
       "    }\n",
       "\n",
       "    .dataframe thead th {\n",
       "        text-align: right;\n",
       "    }\n",
       "</style>\n",
       "<table border=\"1\" class=\"dataframe\">\n",
       "  <thead>\n",
       "    <tr style=\"text-align: right;\">\n",
       "      <th></th>\n",
       "      <th>tweet_id</th>\n",
       "      <th>in_reply_to_status_id</th>\n",
       "      <th>in_reply_to_user_id</th>\n",
       "      <th>timestamp</th>\n",
       "      <th>source</th>\n",
       "      <th>text</th>\n",
       "      <th>retweeted_status_id</th>\n",
       "      <th>retweeted_status_user_id</th>\n",
       "      <th>retweeted_status_timestamp</th>\n",
       "      <th>expanded_urls</th>\n",
       "      <th>...</th>\n",
       "      <th>doggo</th>\n",
       "      <th>floofer</th>\n",
       "      <th>pupper</th>\n",
       "      <th>puppo</th>\n",
       "      <th>retweet_count</th>\n",
       "      <th>favorite_count</th>\n",
       "      <th>entities</th>\n",
       "      <th>rating</th>\n",
       "      <th>urls</th>\n",
       "      <th>hashtags</th>\n",
       "    </tr>\n",
       "  </thead>\n",
       "  <tbody>\n",
       "    <tr>\n",
       "      <th>6</th>\n",
       "      <td>890971913173991426</td>\n",
       "      <td>NaN</td>\n",
       "      <td>NaN</td>\n",
       "      <td>2017-07-28 16:27:12</td>\n",
       "      <td>&lt;a href=\"http://twitter.com/download/iphone\" r...</td>\n",
       "      <td>Meet Jax. He enjoys ice cream so much he gets ...</td>\n",
       "      <td>NaN</td>\n",
       "      <td>NaN</td>\n",
       "      <td>NaN</td>\n",
       "      <td>https://gofundme.com/ydvmve-surgery-for-jax,ht...</td>\n",
       "      <td>...</td>\n",
       "      <td>None</td>\n",
       "      <td>None</td>\n",
       "      <td>None</td>\n",
       "      <td>None</td>\n",
       "      <td>2037.0</td>\n",
       "      <td>11681.0</td>\n",
       "      <td>{u'symbols': [], u'user_mentions': [], u'hasht...</td>\n",
       "      <td>1.3</td>\n",
       "      <td>{u'url': u'https://t.co/Zr4hWfAs1H', u'indices...</td>\n",
       "      <td></td>\n",
       "    </tr>\n",
       "  </tbody>\n",
       "</table>\n",
       "<p>1 rows × 23 columns</p>\n",
       "</div>"
      ],
      "text/plain": [
       "             tweet_id  in_reply_to_status_id  in_reply_to_user_id  \\\n",
       "6  890971913173991426                    NaN                  NaN   \n",
       "\n",
       "            timestamp                                             source  \\\n",
       "6 2017-07-28 16:27:12  <a href=\"http://twitter.com/download/iphone\" r...   \n",
       "\n",
       "                                                text  retweeted_status_id  \\\n",
       "6  Meet Jax. He enjoys ice cream so much he gets ...                  NaN   \n",
       "\n",
       "   retweeted_status_user_id retweeted_status_timestamp  \\\n",
       "6                       NaN                        NaN   \n",
       "\n",
       "                                       expanded_urls   ...     doggo  floofer  \\\n",
       "6  https://gofundme.com/ydvmve-surgery-for-jax,ht...   ...      None     None   \n",
       "\n",
       "  pupper puppo retweet_count favorite_count  \\\n",
       "6   None  None        2037.0        11681.0   \n",
       "\n",
       "                                            entities  rating  \\\n",
       "6  {u'symbols': [], u'user_mentions': [], u'hasht...     1.3   \n",
       "\n",
       "                                                urls hashtags  \n",
       "6  {u'url': u'https://t.co/Zr4hWfAs1H', u'indices...           \n",
       "\n",
       "[1 rows x 23 columns]"
      ]
     },
     "execution_count": 190,
     "metadata": {},
     "output_type": "execute_result"
    }
   ],
   "source": [
    "tweet_df[tweet_df['urls']!=''].head(1)"
   ]
  },
  {
   "cell_type": "markdown",
   "metadata": {},
   "source": [
    "The text in the `url` column is truncated, so I just choose one cell to print:"
   ]
  },
  {
   "cell_type": "code",
   "execution_count": 191,
   "metadata": {},
   "outputs": [
    {
     "data": {
      "text/plain": [
       "\"{u'url': u'https://t.co/Zr4hWfAs1H', u'indices': [117, 140], u'expanded_url': u'https://gofundme.com/ydvmve-surgery-for-jax', u'display_url': u'gofundme.com/ydvmve-surgery\\\\u2026'}|\""
      ]
     },
     "execution_count": 191,
     "metadata": {},
     "output_type": "execute_result"
    }
   ],
   "source": [
    "tweet_df.loc[6,'urls']"
   ]
  },
  {
   "cell_type": "markdown",
   "metadata": {},
   "source": [
    "I don't think I'll use this data.\n",
    "\n",
    "**Define**\n",
    "\n",
    "I remove `urls` column.\n",
    "\n",
    "**Code**"
   ]
  },
  {
   "cell_type": "code",
   "execution_count": 192,
   "metadata": {},
   "outputs": [],
   "source": [
    "tweet_df.drop('urls',axis=1,inplace=True)"
   ]
  },
  {
   "cell_type": "markdown",
   "metadata": {},
   "source": [
    "**Test**"
   ]
  },
  {
   "cell_type": "code",
   "execution_count": 193,
   "metadata": {},
   "outputs": [
    {
     "name": "stdout",
     "output_type": "stream",
     "text": [
      "<class 'pandas.core.frame.DataFrame'>\n",
      "Int64Index: 2356 entries, 0 to 2298\n",
      "Data columns (total 22 columns):\n",
      "tweet_id                      2115 non-null object\n",
      "in_reply_to_status_id         23 non-null float64\n",
      "in_reply_to_user_id           23 non-null float64\n",
      "timestamp                     2115 non-null datetime64[ns]\n",
      "source                        2115 non-null object\n",
      "text                          2115 non-null object\n",
      "retweeted_status_id           0 non-null float64\n",
      "retweeted_status_user_id      0 non-null float64\n",
      "retweeted_status_timestamp    0 non-null object\n",
      "expanded_urls                 2115 non-null object\n",
      "rating_numerator              2115 non-null float64\n",
      "rating_denominator            2115 non-null float64\n",
      "name                          2034 non-null object\n",
      "doggo                         2115 non-null object\n",
      "floofer                       2115 non-null object\n",
      "pupper                        2115 non-null object\n",
      "puppo                         2115 non-null object\n",
      "retweet_count                 2115 non-null float64\n",
      "favorite_count                2115 non-null float64\n",
      "entities                      2112 non-null object\n",
      "rating                        2115 non-null float64\n",
      "hashtags                      2351 non-null object\n",
      "dtypes: datetime64[ns](1), float64(9), object(12)\n",
      "memory usage: 503.3+ KB\n"
     ]
    }
   ],
   "source": [
    "tweet_df.info()"
   ]
  },
  {
   "cell_type": "markdown",
   "metadata": {},
   "source": [
    "**Define**\n",
    "\n",
    "I extract hashtags from the 'hashtags' dictionaries, and store them in the `hastags` column.\n",
    "\n",
    "**Code**"
   ]
  },
  {
   "cell_type": "code",
   "execution_count": 197,
   "metadata": {},
   "outputs": [],
   "source": [
    "import ast\n",
    "\n",
    "for i in range (tweet_df.shape[0]):\n",
    "    if (tweet_df.loc[i,'hashtags']!='')&pd.notnull(tweet_df.loc[i,'hashtags']): #making sure cell has dictionary\n",
    "        st=''                                                         #this string will store hashtag(s)\n",
    "        for j in range(len(tweet_df.loc[i,'hashtags'].split('|'))-1): #iterate through the dictionaries\n",
    "            dic=ast.literal_eval(tweet_df.loc[i,'hashtags'].split('|')[j])  #convert string to dictionary\n",
    "            st+=dic['text']+'|'                     #create string of pipe-delimited hashtags\n",
    "        tweet_df.loc[i,'hashtags']=st               #replace 'hashtag' cell with string\n",
    "        "
   ]
  },
  {
   "cell_type": "markdown",
   "metadata": {},
   "source": [
    "**Test**"
   ]
  },
  {
   "cell_type": "code",
   "execution_count": null,
   "metadata": {},
   "outputs": [],
   "source": [
    "tweet_df.head(30)"
   ]
  },
  {
   "cell_type": "markdown",
   "metadata": {},
   "source": [
    "The `hashtags` column is not stored in a useful way - it's a string where each hashtag is separated from the next by a comma. I need to separate these hashtags, and then store each hashtag on a different row. I could either do this in the main dataframe (tweet_df) or I could just create an aditional hashtag dataframe. The main advantage if I go the second route is that I won't have duplicated tweet_ids in the main table, which rows will just repeat a lot of the same data (also, when doing visualizations, I will need to use a lot of group_by clauses if the data is all duplicated in this way). So I create an extra table and then I drop the `entities` column from tweet_df.\n",
    "\n",
    "**Define**\n",
    "\n",
    "Create a new dataframe with `tweet_id` and `hashtag` columns. For each tweet_id, extract hashtags from twitter_df['hashtags']. Once this is done, delete twitter_df['entities'] and save hashtag table to a new .csv file.\n",
    "\n",
    "**Code**"
   ]
  },
  {
   "cell_type": "code",
   "execution_count": 200,
   "metadata": {},
   "outputs": [],
   "source": [
    "hashtag_table=[]\n",
    "\n",
    "temp_df=tweet_df[(tweet_df['hashtags']!='')&pd.notnull(tweet_df['hashtags'])]\n",
    "\n",
    "for i in temp_df.index:\n",
    "    tweet_df.loc[i,'hashtags']=str(tweet_df.loc[i,'hashtags'])\n",
    "    hashtag_list=tweet_df.loc[i,'hashtags'].split('|')[0:-1]\n",
    "    for j in range(len(hashtag_list)):\n",
    "        hashtag_table.append({'tweet_id':str(tweet_df.loc[i,'tweet_id']),'hashtag':hashtag_list[j]})  \n",
    "        \n",
    "hashtag_df=pd.DataFrame(hashtag_table)\n"
   ]
  },
  {
   "cell_type": "markdown",
   "metadata": {},
   "source": [
    "**Test**"
   ]
  },
  {
   "cell_type": "code",
   "execution_count": 201,
   "metadata": {},
   "outputs": [
    {
     "data": {
      "text/html": [
       "<div>\n",
       "<style scoped>\n",
       "    .dataframe tbody tr th:only-of-type {\n",
       "        vertical-align: middle;\n",
       "    }\n",
       "\n",
       "    .dataframe tbody tr th {\n",
       "        vertical-align: top;\n",
       "    }\n",
       "\n",
       "    .dataframe thead th {\n",
       "        text-align: right;\n",
       "    }\n",
       "</style>\n",
       "<table border=\"1\" class=\"dataframe\">\n",
       "  <thead>\n",
       "    <tr style=\"text-align: right;\">\n",
       "      <th></th>\n",
       "      <th>hashtag</th>\n",
       "      <th>tweet_id</th>\n",
       "    </tr>\n",
       "  </thead>\n",
       "  <tbody>\n",
       "    <tr>\n",
       "      <th>0</th>\n",
       "      <td>BarkWeek</td>\n",
       "      <td>891327558926688256</td>\n",
       "    </tr>\n",
       "    <tr>\n",
       "      <th>1</th>\n",
       "      <td>BarkWeek</td>\n",
       "      <td>891087950875897856</td>\n",
       "    </tr>\n",
       "    <tr>\n",
       "      <th>2</th>\n",
       "      <td>BarkWeek</td>\n",
       "      <td>890609185150312448</td>\n",
       "    </tr>\n",
       "    <tr>\n",
       "      <th>3</th>\n",
       "      <td>BarkWeek</td>\n",
       "      <td>890006608113172480</td>\n",
       "    </tr>\n",
       "    <tr>\n",
       "      <th>4</th>\n",
       "      <td>BarkWeek</td>\n",
       "      <td>889531135344209921</td>\n",
       "    </tr>\n",
       "    <tr>\n",
       "      <th>5</th>\n",
       "      <td>BarkWeek</td>\n",
       "      <td>889278841981685760</td>\n",
       "    </tr>\n",
       "    <tr>\n",
       "      <th>6</th>\n",
       "      <td>Canada150</td>\n",
       "      <td>881268444196462592</td>\n",
       "    </tr>\n",
       "    <tr>\n",
       "      <th>7</th>\n",
       "      <td>PrideMonthPuppo</td>\n",
       "      <td>878776093423087618</td>\n",
       "    </tr>\n",
       "    <tr>\n",
       "      <th>8</th>\n",
       "      <td>PrideMonth</td>\n",
       "      <td>878776093423087618</td>\n",
       "    </tr>\n",
       "    <tr>\n",
       "      <th>9</th>\n",
       "      <td>PrideMonth</td>\n",
       "      <td>874012996292530176</td>\n",
       "    </tr>\n",
       "    <tr>\n",
       "      <th>10</th>\n",
       "      <td>dogsatpollingstations</td>\n",
       "      <td>872820683541237760</td>\n",
       "    </tr>\n",
       "    <tr>\n",
       "      <th>11</th>\n",
       "      <td>PrideMonth</td>\n",
       "      <td>872620804844003328</td>\n",
       "    </tr>\n",
       "    <tr>\n",
       "      <th>12</th>\n",
       "      <td>PrideMonth</td>\n",
       "      <td>871879754684805121</td>\n",
       "    </tr>\n",
       "    <tr>\n",
       "      <th>13</th>\n",
       "      <td>ScienceMarch</td>\n",
       "      <td>855851453814013952</td>\n",
       "    </tr>\n",
       "    <tr>\n",
       "      <th>14</th>\n",
       "      <td>K9VeteransDay</td>\n",
       "      <td>841439858740625411</td>\n",
       "    </tr>\n",
       "    <tr>\n",
       "      <th>15</th>\n",
       "      <td>WKCDogShow</td>\n",
       "      <td>831315979191906304</td>\n",
       "    </tr>\n",
       "    <tr>\n",
       "      <th>16</th>\n",
       "      <td>BellLetsTalk</td>\n",
       "      <td>824325613288833024</td>\n",
       "    </tr>\n",
       "    <tr>\n",
       "      <th>17</th>\n",
       "      <td>WomensMarch</td>\n",
       "      <td>822872901745569793</td>\n",
       "    </tr>\n",
       "    <tr>\n",
       "      <th>18</th>\n",
       "      <td>ImWithThor</td>\n",
       "      <td>796125600683540480</td>\n",
       "    </tr>\n",
       "    <tr>\n",
       "      <th>19</th>\n",
       "      <td>BarkWeek</td>\n",
       "      <td>748705597323898880</td>\n",
       "    </tr>\n",
       "    <tr>\n",
       "      <th>20</th>\n",
       "      <td>BarkWeek</td>\n",
       "      <td>748337862848962560</td>\n",
       "    </tr>\n",
       "    <tr>\n",
       "      <th>21</th>\n",
       "      <td>BarkWeek</td>\n",
       "      <td>747844099428986880</td>\n",
       "    </tr>\n",
       "    <tr>\n",
       "      <th>22</th>\n",
       "      <td>FinalFur</td>\n",
       "      <td>716439118184652801</td>\n",
       "    </tr>\n",
       "    <tr>\n",
       "      <th>23</th>\n",
       "      <td>notallpuppers</td>\n",
       "      <td>690959652130045952</td>\n",
       "    </tr>\n",
       "    <tr>\n",
       "      <th>24</th>\n",
       "      <td>NoDaysOff</td>\n",
       "      <td>669680153564442624</td>\n",
       "    </tr>\n",
       "    <tr>\n",
       "      <th>25</th>\n",
       "      <td>swole</td>\n",
       "      <td>669680153564442624</td>\n",
       "    </tr>\n",
       "  </tbody>\n",
       "</table>\n",
       "</div>"
      ],
      "text/plain": [
       "                  hashtag            tweet_id\n",
       "0                BarkWeek  891327558926688256\n",
       "1                BarkWeek  891087950875897856\n",
       "2                BarkWeek  890609185150312448\n",
       "3                BarkWeek  890006608113172480\n",
       "4                BarkWeek  889531135344209921\n",
       "5                BarkWeek  889278841981685760\n",
       "6               Canada150  881268444196462592\n",
       "7         PrideMonthPuppo  878776093423087618\n",
       "8              PrideMonth  878776093423087618\n",
       "9              PrideMonth  874012996292530176\n",
       "10  dogsatpollingstations  872820683541237760\n",
       "11             PrideMonth  872620804844003328\n",
       "12             PrideMonth  871879754684805121\n",
       "13           ScienceMarch  855851453814013952\n",
       "14          K9VeteransDay  841439858740625411\n",
       "15             WKCDogShow  831315979191906304\n",
       "16           BellLetsTalk  824325613288833024\n",
       "17            WomensMarch  822872901745569793\n",
       "18             ImWithThor  796125600683540480\n",
       "19               BarkWeek  748705597323898880\n",
       "20               BarkWeek  748337862848962560\n",
       "21               BarkWeek  747844099428986880\n",
       "22               FinalFur  716439118184652801\n",
       "23          notallpuppers  690959652130045952\n",
       "24              NoDaysOff  669680153564442624\n",
       "25                  swole  669680153564442624"
      ]
     },
     "execution_count": 201,
     "metadata": {},
     "output_type": "execute_result"
    }
   ],
   "source": [
    "hashtag_df.head(30)"
   ]
  },
  {
   "cell_type": "markdown",
   "metadata": {},
   "source": [
    "I save `hashtag_df` to a new .csv file and drop `entities` column from `tweet_df`:"
   ]
  },
  {
   "cell_type": "code",
   "execution_count": 202,
   "metadata": {},
   "outputs": [],
   "source": [
    "hashtag_df.to_csv('hashtags.csv',index=False)\n",
    "\n",
    "tweet_df.drop('entities',axis=1,inplace=True)"
   ]
  },
  {
   "cell_type": "markdown",
   "metadata": {},
   "source": [
    "**Define**\n",
    "\n",
    "I collapse the four columns that indicate dog stage into `dog_stage` column\n",
    "\n",
    "**Code**\n"
   ]
  },
  {
   "cell_type": "code",
   "execution_count": 203,
   "metadata": {},
   "outputs": [],
   "source": [
    "for i in range(tweet_df.shape[0]):\n",
    "    st=''\n",
    "    for stage in ['doggo','floofer','pupper','puppo']:\n",
    "        if tweet_df.loc[i,stage]!='None':\n",
    "            try:\n",
    "                st+=tweet_df.loc[i,stage]+'|'\n",
    "            except TypeError:                   #tweet_df.loc[i,stage] is null\n",
    "                pass\n",
    "    tweet_df.loc[i,'dog_stage']=st    "
   ]
  },
  {
   "cell_type": "markdown",
   "metadata": {},
   "source": [
    "**Test**"
   ]
  },
  {
   "cell_type": "code",
   "execution_count": 204,
   "metadata": {},
   "outputs": [
    {
     "name": "stdout",
     "output_type": "stream",
     "text": [
      "All dog stages have been extracted successfully\n"
     ]
    }
   ],
   "source": [
    "k=1\n",
    "rows=[]\n",
    "for i in range(tweet_df.shape[0]):\n",
    "    count=0\n",
    "    if pd.isnull(tweet_df.loc[i,'doggo']):\n",
    "        l=len(tweet_df.loc[i,'dog_stage'].split('|'))\n",
    "        if len(tweet_df.loc[i,'dog_stage'].split('|'))!=1:\n",
    "            k=0\n",
    "            rows.append(i)\n",
    "    else:\n",
    "        for stage in ['doggo','floofer','pupper','puppo']:\n",
    "            if tweet_df.loc[i,stage]!='None':\n",
    "                count+=1\n",
    "        l=len(tweet_df.loc[i,'dog_stage'].split('|'))\n",
    "        if count!=l-1:\n",
    "            k=0\n",
    "            rows.append(i)     \n",
    "                \n",
    "if k==1:\n",
    "    print 'All dog stages have been extracted successfully'\n",
    "else: \n",
    "    print \"Some dog stages have not been extracted properly. Please check the rows with the following indexes: \"\n",
    "    print rows"
   ]
  },
  {
   "cell_type": "markdown",
   "metadata": {},
   "source": [
    "I drop the columns that record values instead of variables:"
   ]
  },
  {
   "cell_type": "code",
   "execution_count": 205,
   "metadata": {},
   "outputs": [],
   "source": [
    "tweet_df.drop(['doggo','floofer','pupper','puppo'], axis=1, inplace=True)"
   ]
  },
  {
   "cell_type": "markdown",
   "metadata": {},
   "source": [
    "Let's also drop the three columns that have only null values, and any rows where tweet_id is null. We can then save the resulting clean(er) dataframe as a csv file.\n",
    "\n",
    "**NOTE TO REVIEWER:** It has been suggested in the previous review that I should join the predictions_df dataframe to tweet_df before saving it in the master table. However, I think this is not a good idea. It seems to me that this move actually \"untidies\" the master table, since now we are storing more than one kind of observation on each row of the dataframe: a breed prediction based on a dog pic is a very different observation from a tweet posting. So the data regarding the tweet should be kept in a different table than the data regarding the breed prediction. This is the only reason I don't join predictions_df to tweet_df at this stage. "
   ]
  },
  {
   "cell_type": "code",
   "execution_count": 206,
   "metadata": {},
   "outputs": [],
   "source": [
    "tweet_df.drop(['retweeted_status_id','retweeted_status_user_id','retweeted_status_timestamp'], axis=1, inplace=True)\n",
    "tweet_df.dropna(subset=['tweet_id'],axis=0,inplace=True)\n",
    "tweet_df=tweet_df.reset_index()\n",
    "\n",
    "tweet_df.to_csv('twitter_archive_master.csv',index=False)"
   ]
  },
  {
   "cell_type": "markdown",
   "metadata": {},
   "source": [
    "I now turn to predictions_df. The main issue I identified here was that most columns represent values and not variables. \n",
    "\n",
    "**Define**\n",
    "\n",
    "Collapse p1, p2, and p3 into `dog_breed`. Collapse p1_conf, p2_conf, and p3_conf into `likelihood`. And collapse p1_dog, p2_dog, and p3_dog into `is_dog`.\n",
    "\n",
    "**Code**"
   ]
  },
  {
   "cell_type": "code",
   "execution_count": 207,
   "metadata": {
    "scrolled": false
   },
   "outputs": [],
   "source": [
    "lst=[]\n",
    "\n",
    "for i in range(predictions_df.shape[0]):\n",
    "    dic={}\n",
    "    dic['tweet_id']=predictions_df.loc[i,'tweet_id']\n",
    "    dic['jpg_url']=predictions_df.loc[i,'jpg_url']\n",
    "    dic['img_num']=predictions_df.loc[i,'img_num']\n",
    "    dic['dog_breed']=predictions_df.loc[i,'p1']\n",
    "    dic['likelihood']=predictions_df.loc[i,'p1_conf']\n",
    "    dic['is_dog']=predictions_df.loc[i,'p1_dog']\n",
    "    lst.append(dic)\n",
    "    \n",
    "    dic={}\n",
    "    dic['tweet_id']=predictions_df.loc[i,'tweet_id']\n",
    "    dic['jpg_url']=predictions_df.loc[i,'jpg_url']\n",
    "    dic['img_num']=predictions_df.loc[i,'img_num']\n",
    "    dic['dog_breed']=predictions_df.loc[i,'p2']\n",
    "    dic['likelihood']=predictions_df.loc[i,'p2_conf']\n",
    "    dic['is_dog']=predictions_df.loc[i,'p2_dog']\n",
    "    lst.append(dic)\n",
    "    \n",
    "    dic={}\n",
    "    dic['tweet_id']=predictions_df.loc[i,'tweet_id']\n",
    "    dic['jpg_url']=predictions_df.loc[i,'jpg_url']\n",
    "    dic['img_num']=predictions_df.loc[i,'img_num']\n",
    "    dic['dog_breed']=predictions_df.loc[i,'p3']\n",
    "    dic['likelihood']=predictions_df.loc[i,'p3_conf']\n",
    "    dic['is_dog']=predictions_df.loc[i,'p3_dog']\n",
    "    lst.append(dic)\n",
    "    \n",
    "predictions_df=pd.DataFrame(lst)"
   ]
  },
  {
   "cell_type": "markdown",
   "metadata": {},
   "source": [
    "**Test** (NOTE FOR REVIEWER: not sure how to make this test more reliable - so that it catches more possible errors)"
   ]
  },
  {
   "cell_type": "code",
   "execution_count": 208,
   "metadata": {},
   "outputs": [
    {
     "data": {
      "text/html": [
       "<div>\n",
       "<style scoped>\n",
       "    .dataframe tbody tr th:only-of-type {\n",
       "        vertical-align: middle;\n",
       "    }\n",
       "\n",
       "    .dataframe tbody tr th {\n",
       "        vertical-align: top;\n",
       "    }\n",
       "\n",
       "    .dataframe thead th {\n",
       "        text-align: right;\n",
       "    }\n",
       "</style>\n",
       "<table border=\"1\" class=\"dataframe\">\n",
       "  <thead>\n",
       "    <tr style=\"text-align: right;\">\n",
       "      <th></th>\n",
       "      <th>dog_breed</th>\n",
       "      <th>img_num</th>\n",
       "      <th>is_dog</th>\n",
       "      <th>jpg_url</th>\n",
       "      <th>likelihood</th>\n",
       "      <th>tweet_id</th>\n",
       "    </tr>\n",
       "  </thead>\n",
       "  <tbody>\n",
       "    <tr>\n",
       "      <th>0</th>\n",
       "      <td>Welsh_springer_spaniel</td>\n",
       "      <td>1</td>\n",
       "      <td>True</td>\n",
       "      <td>https://pbs.twimg.com/media/CT4udn0WwAA0aMy.jpg</td>\n",
       "      <td>0.465074</td>\n",
       "      <td>666020888022790149</td>\n",
       "    </tr>\n",
       "    <tr>\n",
       "      <th>1</th>\n",
       "      <td>collie</td>\n",
       "      <td>1</td>\n",
       "      <td>True</td>\n",
       "      <td>https://pbs.twimg.com/media/CT4udn0WwAA0aMy.jpg</td>\n",
       "      <td>0.156665</td>\n",
       "      <td>666020888022790149</td>\n",
       "    </tr>\n",
       "    <tr>\n",
       "      <th>2</th>\n",
       "      <td>Shetland_sheepdog</td>\n",
       "      <td>1</td>\n",
       "      <td>True</td>\n",
       "      <td>https://pbs.twimg.com/media/CT4udn0WwAA0aMy.jpg</td>\n",
       "      <td>0.061428</td>\n",
       "      <td>666020888022790149</td>\n",
       "    </tr>\n",
       "    <tr>\n",
       "      <th>3</th>\n",
       "      <td>redbone</td>\n",
       "      <td>1</td>\n",
       "      <td>True</td>\n",
       "      <td>https://pbs.twimg.com/media/CT42GRgUYAA5iDo.jpg</td>\n",
       "      <td>0.506826</td>\n",
       "      <td>666029285002620928</td>\n",
       "    </tr>\n",
       "    <tr>\n",
       "      <th>4</th>\n",
       "      <td>miniature_pinscher</td>\n",
       "      <td>1</td>\n",
       "      <td>True</td>\n",
       "      <td>https://pbs.twimg.com/media/CT42GRgUYAA5iDo.jpg</td>\n",
       "      <td>0.074192</td>\n",
       "      <td>666029285002620928</td>\n",
       "    </tr>\n",
       "    <tr>\n",
       "      <th>5</th>\n",
       "      <td>Rhodesian_ridgeback</td>\n",
       "      <td>1</td>\n",
       "      <td>True</td>\n",
       "      <td>https://pbs.twimg.com/media/CT42GRgUYAA5iDo.jpg</td>\n",
       "      <td>0.072010</td>\n",
       "      <td>666029285002620928</td>\n",
       "    </tr>\n",
       "    <tr>\n",
       "      <th>6</th>\n",
       "      <td>German_shepherd</td>\n",
       "      <td>1</td>\n",
       "      <td>True</td>\n",
       "      <td>https://pbs.twimg.com/media/CT4521TWwAEvMyu.jpg</td>\n",
       "      <td>0.596461</td>\n",
       "      <td>666033412701032449</td>\n",
       "    </tr>\n",
       "    <tr>\n",
       "      <th>7</th>\n",
       "      <td>malinois</td>\n",
       "      <td>1</td>\n",
       "      <td>True</td>\n",
       "      <td>https://pbs.twimg.com/media/CT4521TWwAEvMyu.jpg</td>\n",
       "      <td>0.138584</td>\n",
       "      <td>666033412701032449</td>\n",
       "    </tr>\n",
       "    <tr>\n",
       "      <th>8</th>\n",
       "      <td>bloodhound</td>\n",
       "      <td>1</td>\n",
       "      <td>True</td>\n",
       "      <td>https://pbs.twimg.com/media/CT4521TWwAEvMyu.jpg</td>\n",
       "      <td>0.116197</td>\n",
       "      <td>666033412701032449</td>\n",
       "    </tr>\n",
       "    <tr>\n",
       "      <th>9</th>\n",
       "      <td>Rhodesian_ridgeback</td>\n",
       "      <td>1</td>\n",
       "      <td>True</td>\n",
       "      <td>https://pbs.twimg.com/media/CT5Dr8HUEAA-lEu.jpg</td>\n",
       "      <td>0.408143</td>\n",
       "      <td>666044226329800704</td>\n",
       "    </tr>\n",
       "    <tr>\n",
       "      <th>10</th>\n",
       "      <td>redbone</td>\n",
       "      <td>1</td>\n",
       "      <td>True</td>\n",
       "      <td>https://pbs.twimg.com/media/CT5Dr8HUEAA-lEu.jpg</td>\n",
       "      <td>0.360687</td>\n",
       "      <td>666044226329800704</td>\n",
       "    </tr>\n",
       "    <tr>\n",
       "      <th>11</th>\n",
       "      <td>miniature_pinscher</td>\n",
       "      <td>1</td>\n",
       "      <td>True</td>\n",
       "      <td>https://pbs.twimg.com/media/CT5Dr8HUEAA-lEu.jpg</td>\n",
       "      <td>0.222752</td>\n",
       "      <td>666044226329800704</td>\n",
       "    </tr>\n",
       "    <tr>\n",
       "      <th>12</th>\n",
       "      <td>miniature_pinscher</td>\n",
       "      <td>1</td>\n",
       "      <td>True</td>\n",
       "      <td>https://pbs.twimg.com/media/CT5IQmsXIAAKY4A.jpg</td>\n",
       "      <td>0.560311</td>\n",
       "      <td>666049248165822465</td>\n",
       "    </tr>\n",
       "    <tr>\n",
       "      <th>13</th>\n",
       "      <td>Rottweiler</td>\n",
       "      <td>1</td>\n",
       "      <td>True</td>\n",
       "      <td>https://pbs.twimg.com/media/CT5IQmsXIAAKY4A.jpg</td>\n",
       "      <td>0.243682</td>\n",
       "      <td>666049248165822465</td>\n",
       "    </tr>\n",
       "    <tr>\n",
       "      <th>14</th>\n",
       "      <td>Doberman</td>\n",
       "      <td>1</td>\n",
       "      <td>True</td>\n",
       "      <td>https://pbs.twimg.com/media/CT5IQmsXIAAKY4A.jpg</td>\n",
       "      <td>0.154629</td>\n",
       "      <td>666049248165822465</td>\n",
       "    </tr>\n",
       "    <tr>\n",
       "      <th>15</th>\n",
       "      <td>Bernese_mountain_dog</td>\n",
       "      <td>1</td>\n",
       "      <td>True</td>\n",
       "      <td>https://pbs.twimg.com/media/CT5Jof1WUAEuVxN.jpg</td>\n",
       "      <td>0.651137</td>\n",
       "      <td>666050758794694657</td>\n",
       "    </tr>\n",
       "    <tr>\n",
       "      <th>16</th>\n",
       "      <td>English_springer</td>\n",
       "      <td>1</td>\n",
       "      <td>True</td>\n",
       "      <td>https://pbs.twimg.com/media/CT5Jof1WUAEuVxN.jpg</td>\n",
       "      <td>0.263788</td>\n",
       "      <td>666050758794694657</td>\n",
       "    </tr>\n",
       "    <tr>\n",
       "      <th>17</th>\n",
       "      <td>Greater_Swiss_Mountain_dog</td>\n",
       "      <td>1</td>\n",
       "      <td>True</td>\n",
       "      <td>https://pbs.twimg.com/media/CT5Jof1WUAEuVxN.jpg</td>\n",
       "      <td>0.016199</td>\n",
       "      <td>666050758794694657</td>\n",
       "    </tr>\n",
       "    <tr>\n",
       "      <th>18</th>\n",
       "      <td>box_turtle</td>\n",
       "      <td>1</td>\n",
       "      <td>False</td>\n",
       "      <td>https://pbs.twimg.com/media/CT5KoJ1WoAAJash.jpg</td>\n",
       "      <td>0.933012</td>\n",
       "      <td>666051853826850816</td>\n",
       "    </tr>\n",
       "    <tr>\n",
       "      <th>19</th>\n",
       "      <td>mud_turtle</td>\n",
       "      <td>1</td>\n",
       "      <td>False</td>\n",
       "      <td>https://pbs.twimg.com/media/CT5KoJ1WoAAJash.jpg</td>\n",
       "      <td>0.045885</td>\n",
       "      <td>666051853826850816</td>\n",
       "    </tr>\n",
       "  </tbody>\n",
       "</table>\n",
       "</div>"
      ],
      "text/plain": [
       "                     dog_breed  img_num  is_dog  \\\n",
       "0       Welsh_springer_spaniel        1    True   \n",
       "1                       collie        1    True   \n",
       "2            Shetland_sheepdog        1    True   \n",
       "3                      redbone        1    True   \n",
       "4           miniature_pinscher        1    True   \n",
       "5          Rhodesian_ridgeback        1    True   \n",
       "6              German_shepherd        1    True   \n",
       "7                     malinois        1    True   \n",
       "8                   bloodhound        1    True   \n",
       "9          Rhodesian_ridgeback        1    True   \n",
       "10                     redbone        1    True   \n",
       "11          miniature_pinscher        1    True   \n",
       "12          miniature_pinscher        1    True   \n",
       "13                  Rottweiler        1    True   \n",
       "14                    Doberman        1    True   \n",
       "15        Bernese_mountain_dog        1    True   \n",
       "16            English_springer        1    True   \n",
       "17  Greater_Swiss_Mountain_dog        1    True   \n",
       "18                  box_turtle        1   False   \n",
       "19                  mud_turtle        1   False   \n",
       "\n",
       "                                            jpg_url  likelihood  \\\n",
       "0   https://pbs.twimg.com/media/CT4udn0WwAA0aMy.jpg    0.465074   \n",
       "1   https://pbs.twimg.com/media/CT4udn0WwAA0aMy.jpg    0.156665   \n",
       "2   https://pbs.twimg.com/media/CT4udn0WwAA0aMy.jpg    0.061428   \n",
       "3   https://pbs.twimg.com/media/CT42GRgUYAA5iDo.jpg    0.506826   \n",
       "4   https://pbs.twimg.com/media/CT42GRgUYAA5iDo.jpg    0.074192   \n",
       "5   https://pbs.twimg.com/media/CT42GRgUYAA5iDo.jpg    0.072010   \n",
       "6   https://pbs.twimg.com/media/CT4521TWwAEvMyu.jpg    0.596461   \n",
       "7   https://pbs.twimg.com/media/CT4521TWwAEvMyu.jpg    0.138584   \n",
       "8   https://pbs.twimg.com/media/CT4521TWwAEvMyu.jpg    0.116197   \n",
       "9   https://pbs.twimg.com/media/CT5Dr8HUEAA-lEu.jpg    0.408143   \n",
       "10  https://pbs.twimg.com/media/CT5Dr8HUEAA-lEu.jpg    0.360687   \n",
       "11  https://pbs.twimg.com/media/CT5Dr8HUEAA-lEu.jpg    0.222752   \n",
       "12  https://pbs.twimg.com/media/CT5IQmsXIAAKY4A.jpg    0.560311   \n",
       "13  https://pbs.twimg.com/media/CT5IQmsXIAAKY4A.jpg    0.243682   \n",
       "14  https://pbs.twimg.com/media/CT5IQmsXIAAKY4A.jpg    0.154629   \n",
       "15  https://pbs.twimg.com/media/CT5Jof1WUAEuVxN.jpg    0.651137   \n",
       "16  https://pbs.twimg.com/media/CT5Jof1WUAEuVxN.jpg    0.263788   \n",
       "17  https://pbs.twimg.com/media/CT5Jof1WUAEuVxN.jpg    0.016199   \n",
       "18  https://pbs.twimg.com/media/CT5KoJ1WoAAJash.jpg    0.933012   \n",
       "19  https://pbs.twimg.com/media/CT5KoJ1WoAAJash.jpg    0.045885   \n",
       "\n",
       "              tweet_id  \n",
       "0   666020888022790149  \n",
       "1   666020888022790149  \n",
       "2   666020888022790149  \n",
       "3   666029285002620928  \n",
       "4   666029285002620928  \n",
       "5   666029285002620928  \n",
       "6   666033412701032449  \n",
       "7   666033412701032449  \n",
       "8   666033412701032449  \n",
       "9   666044226329800704  \n",
       "10  666044226329800704  \n",
       "11  666044226329800704  \n",
       "12  666049248165822465  \n",
       "13  666049248165822465  \n",
       "14  666049248165822465  \n",
       "15  666050758794694657  \n",
       "16  666050758794694657  \n",
       "17  666050758794694657  \n",
       "18  666051853826850816  \n",
       "19  666051853826850816  "
      ]
     },
     "execution_count": 208,
     "metadata": {},
     "output_type": "execute_result"
    }
   ],
   "source": [
    "predictions_df.head(20)"
   ]
  },
  {
   "cell_type": "markdown",
   "metadata": {},
   "source": [
    "I save `predictions_df` to its own .csv file:"
   ]
  },
  {
   "cell_type": "code",
   "execution_count": 241,
   "metadata": {},
   "outputs": [],
   "source": [
    "predictions_df.to_csv('image_predictions.csv',index=False)"
   ]
  },
  {
   "cell_type": "markdown",
   "metadata": {},
   "source": [
    "### Visualisations and Insights\n",
    "\n",
    "I will now move on to a brief investigation of the dataset. Questions:\n",
    "most common dog name\n",
    "most retweeted?\n",
    "most liked (favorited)?\n",
    "most common hashtag?\n",
    "highest grade?\n",
    "is there a relationship between grade and retweet? grade and like? retweet and like? dog stage and grade? dog stage and like?\n",
    "dates: what day of the week is the most common for posting? what time of the day? \n",
    "\n",
    "I look first at what is the most common dog name. "
   ]
  },
  {
   "cell_type": "code",
   "execution_count": 209,
   "metadata": {
    "scrolled": false
   },
   "outputs": [
    {
     "data": {
      "text/plain": [
       "Charlie    11\n",
       "Lucy       11\n",
       "Cooper     10\n",
       "Oliver     10\n",
       "Tucker      9\n",
       "Penny       9\n",
       "Lola        8\n",
       "Sadie       8\n",
       "Winston     8\n",
       "Toby        7\n",
       "Name: name, dtype: int64"
      ]
     },
     "execution_count": 209,
     "metadata": {},
     "output_type": "execute_result"
    }
   ],
   "source": [
    "tweet_df[tweet_df['name']!='None']['name'].value_counts().head(10)"
   ]
  },
  {
   "cell_type": "markdown",
   "metadata": {},
   "source": [
    "I next look at the distribution of retweets for each post:"
   ]
  },
  {
   "cell_type": "code",
   "execution_count": 210,
   "metadata": {},
   "outputs": [
    {
     "data": {
      "text/plain": [
       "Text(0.5,1,'Retweets')"
      ]
     },
     "execution_count": 210,
     "metadata": {},
     "output_type": "execute_result"
    },
    {
     "data": {
      "image/png": "[encoded data removed]",
      "text/plain": [
       "<Figure size 864x576 with 1 Axes>"
      ]
     },
     "metadata": {
      "needs_background": "light"
     },
     "output_type": "display_data"
    }
   ],
   "source": [
    "import matplotlib.pyplot as plt\n",
    "import seaborn\n",
    "%matplotlib inline\n",
    "import numpy as np\n",
    "from numpy.polynomial.polynomial import polyfit\n",
    "\n",
    "\n",
    "plt.figure(figsize=(12,8))\n",
    "plt.hist(tweet_df['retweet_count'].dropna(),bins=100)\n",
    "plt.title('Retweets')"
   ]
  },
  {
   "cell_type": "markdown",
   "metadata": {},
   "source": [
    "This chart is not that illuminating because of the outliers. About 30 posts have more than 20,000 retweets. "
   ]
  },
  {
   "cell_type": "code",
   "execution_count": 211,
   "metadata": {},
   "outputs": [
    {
     "data": {
      "text/plain": [
       "829     84241.0\n",
       "868     62399.0\n",
       "421     59893.0\n",
       "327     48056.0\n",
       "60      43708.0\n",
       "352     40285.0\n",
       "423     38523.0\n",
       "115     35692.0\n",
       "1539    33952.0\n",
       "1601    32908.0\n",
       "674     31630.0\n",
       "142     31027.0\n",
       "359     29851.0\n",
       "475     26379.0\n",
       "99      26268.0\n",
       "502     24550.0\n",
       "131     23779.0\n",
       "1400    23265.0\n",
       "866     23007.0\n",
       "417     22936.0\n",
       "735     22745.0\n",
       "351     20763.0\n",
       "1515    20253.0\n",
       "38      20192.0\n",
       "1033    19548.0\n",
       "719     19004.0\n",
       "68      18886.0\n",
       "314     18793.0\n",
       "7       18609.0\n",
       "156     18359.0\n",
       "Name: retweet_count, dtype: float64"
      ]
     },
     "execution_count": 211,
     "metadata": {},
     "output_type": "execute_result"
    }
   ],
   "source": [
    "tweet_df.sort_values('retweet_count',ascending=False)['retweet_count'].head(30)"
   ]
  },
  {
   "cell_type": "markdown",
   "metadata": {},
   "source": [
    "I leave those very popular tweets out and I chart the rest:"
   ]
  },
  {
   "cell_type": "code",
   "execution_count": 212,
   "metadata": {
    "scrolled": false
   },
   "outputs": [
    {
     "data": {
      "text/plain": [
       "Text(0.5,1,'Retweets')"
      ]
     },
     "execution_count": 212,
     "metadata": {},
     "output_type": "execute_result"
    },
    {
     "data": {
      "image/png": "[encoded data removed]",
      "text/plain": [
       "<Figure size 864x576 with 1 Axes>"
      ]
     },
     "metadata": {
      "needs_background": "light"
     },
     "output_type": "display_data"
    }
   ],
   "source": [
    "plt.figure(figsize=(12,8))\n",
    "plt.hist(tweet_df['retweet_count'].dropna(),bins=500)\n",
    "plt.xlim(0,20000)\n",
    "plt.xticks(np.arange(0, 20000, 2000))\n",
    "plt.title('Retweets')"
   ]
  },
  {
   "cell_type": "markdown",
   "metadata": {
    "collapsed": true
   },
   "source": [
    "Next I look at the distribution of the number of likes:"
   ]
  },
  {
   "cell_type": "code",
   "execution_count": 213,
   "metadata": {},
   "outputs": [
    {
     "data": {
      "text/plain": [
       "Text(0.5,1,'Likes')"
      ]
     },
     "execution_count": 213,
     "metadata": {},
     "output_type": "execute_result"
    },
    {
     "data": {
      "image/png": "[encoded data removed]",
      "text/plain": [
       "<Figure size 864x576 with 1 Axes>"
      ]
     },
     "metadata": {
      "needs_background": "light"
     },
     "output_type": "display_data"
    }
   ],
   "source": [
    "plt.figure(figsize=(12,8))\n",
    "plt.hist(tweet_df['favorite_count'].dropna(),bins=100)\n",
    "plt.title('Likes')"
   ]
  },
  {
   "cell_type": "markdown",
   "metadata": {},
   "source": [
    "We have the same problem here. So I remove the outliers and draw the chart again:"
   ]
  },
  {
   "cell_type": "code",
   "execution_count": 214,
   "metadata": {
    "scrolled": true
   },
   "outputs": [
    {
     "data": {
      "text/plain": [
       "829     165048.0\n",
       "327     141186.0\n",
       "115     122604.0\n",
       "868     122061.0\n",
       "421     121184.0\n",
       "60      104586.0\n",
       "352      92416.0\n",
       "142      91211.0\n",
       "1539     82407.0\n",
       "99       82298.0\n",
       "423      80846.0\n",
       "68       78865.0\n",
       "1601     77897.0\n",
       "34       76478.0\n",
       "131      75257.0\n",
       "38       72096.0\n",
       "282      70960.0\n",
       "22       68169.0\n",
       "106      65539.0\n",
       "7        64574.0\n",
       "289      56252.0\n",
       "359      55537.0\n",
       "314      55413.0\n",
       "475      53733.0\n",
       "674      52801.0\n",
       "116      52769.0\n",
       "901      51734.0\n",
       "50       49937.0\n",
       "51       48824.0\n",
       "502      48670.0\n",
       "Name: favorite_count, dtype: float64"
      ]
     },
     "execution_count": 214,
     "metadata": {},
     "output_type": "execute_result"
    }
   ],
   "source": [
    "tweet_df.sort_values('favorite_count',ascending=False)['favorite_count'].head(30)"
   ]
  },
  {
   "cell_type": "code",
   "execution_count": 215,
   "metadata": {},
   "outputs": [
    {
     "data": {
      "text/plain": [
       "Text(0.5,1,'Likes')"
      ]
     },
     "execution_count": 215,
     "metadata": {},
     "output_type": "execute_result"
    },
    {
     "data": {
      "image/png": "[encoded data removed]",
      "text/plain": [
       "<Figure size 864x576 with 1 Axes>"
      ]
     },
     "metadata": {
      "needs_background": "light"
     },
     "output_type": "display_data"
    }
   ],
   "source": [
    "plt.figure(figsize=(12,8))\n",
    "plt.hist(tweet_df['favorite_count'].dropna(),bins=500)\n",
    "plt.xlim(0,50000)\n",
    "plt.xticks(np.arange(0, 50000, 5000))\n",
    "plt.title('Likes')"
   ]
  },
  {
   "cell_type": "markdown",
   "metadata": {},
   "source": [
    "Let's see the most retweeted tweet:"
   ]
  },
  {
   "cell_type": "code",
   "execution_count": 216,
   "metadata": {},
   "outputs": [
    {
     "name": "stdout",
     "output_type": "stream",
     "text": [
      "https://twitter.com/dog_rates/status/744234799360020481/video/1\n"
     ]
    }
   ],
   "source": [
    "max_retweet=tweet_df['favorite_count'].max()\n",
    "index=tweet_df[tweet_df['favorite_count']==max_retweet].index.values[0]\n",
    "print tweet_df.loc[index,'expanded_urls']"
   ]
  },
  {
   "cell_type": "markdown",
   "metadata": {},
   "source": [
    "(This is just another method to extract the same thing):"
   ]
  },
  {
   "cell_type": "code",
   "execution_count": 217,
   "metadata": {},
   "outputs": [
    {
     "name": "stdout",
     "output_type": "stream",
     "text": [
      "https://twitter.com/dog_rates/status/744234799360020481/video/1\n"
     ]
    }
   ],
   "source": [
    "print tweet_df.loc[tweet_df['retweet_count'].idxmax(),'expanded_urls']"
   ]
  },
  {
   "cell_type": "markdown",
   "metadata": {},
   "source": [
    "I look at the text for the most retweeted tweets:"
   ]
  },
  {
   "cell_type": "code",
   "execution_count": 218,
   "metadata": {},
   "outputs": [
    {
     "name": "stdout",
     "output_type": "stream",
     "text": [
      "Here's a doggo realizing you can stand in a pool. 13/10 enlightened af (vid by Tina Conrad) https://t.co/7wE9LTEXC4\n",
      "Here's a doggo blowing bubbles. It's downright legendary. 13/10 would watch on repeat forever (vid by Kent Duryee) https://t.co/YcXgHfp1EC\n",
      "This is Stephan. He just wants to help. 13/10 such a good boy https://t.co/DkBYaCAg2d\n",
      "Here's a super supportive puppo participating in the Toronto  #WomensMarch today. 13/10 https://t.co/nTz3FtorBc\n",
      "This is Duddles. He did an attempt. 13/10 someone help him (vid by Georgia Felici) https://t.co/UDT7ZkcTgY\n"
     ]
    }
   ],
   "source": [
    "for index in tweet_df['retweet_count'].sort_values(ascending=False).head().index:\n",
    "    print tweet_df.loc[index,'text']"
   ]
  },
  {
   "cell_type": "markdown",
   "metadata": {},
   "source": [
    "... and for the most liked tweets:"
   ]
  },
  {
   "cell_type": "code",
   "execution_count": 219,
   "metadata": {},
   "outputs": [
    {
     "name": "stdout",
     "output_type": "stream",
     "text": [
      "Here's a doggo realizing you can stand in a pool. 13/10 enlightened af (vid by Tina Conrad) https://t.co/7wE9LTEXC4\n",
      "Here's a super supportive puppo participating in the Toronto  #WomensMarch today. 13/10 https://t.co/nTz3FtorBc\n",
      "This is Jamesy. He gives a kiss to every other pupper he sees on his walk. 13/10 such passion, much tender https://t.co/wk7TfysWHr\n",
      "Here's a doggo blowing bubbles. It's downright legendary. 13/10 would watch on repeat forever (vid by Kent Duryee) https://t.co/YcXgHfp1EC\n",
      "This is Stephan. He just wants to help. 13/10 such a good boy https://t.co/DkBYaCAg2d\n"
     ]
    }
   ],
   "source": [
    "for index in tweet_df['favorite_count'].sort_values(ascending=False).head().index:\n",
    "    print tweet_df.loc[index,'text']"
   ]
  },
  {
   "cell_type": "markdown",
   "metadata": {},
   "source": [
    "Next I want to see if there is a correlation between the number of likes a tweet has and the number of times it has been retweeted. I use a simple scatterplot for this:"
   ]
  },
  {
   "cell_type": "code",
   "execution_count": 220,
   "metadata": {},
   "outputs": [
    {
     "data": {
      "text/plain": [
       "Text(0,0.5,'Likes')"
      ]
     },
     "execution_count": 220,
     "metadata": {},
     "output_type": "execute_result"
    },
    {
     "data": {
      "image/png": "[encoded data removed]",
      "text/plain": [
       "<Figure size 864x576 with 1 Axes>"
      ]
     },
     "metadata": {
      "needs_background": "light"
     },
     "output_type": "display_data"
    }
   ],
   "source": [
    "plt.figure(figsize=(12,8))\n",
    "\n",
    "plt.scatter(tweet_df['retweet_count'],tweet_df['favorite_count'],alpha=.6)\n",
    "plt.xlabel('Retweets')\n",
    "plt.ylabel('Likes')"
   ]
  },
  {
   "cell_type": "markdown",
   "metadata": {},
   "source": [
    "...and I zoom in to those tweets that have less than 6,000 retweets."
   ]
  },
  {
   "cell_type": "code",
   "execution_count": 221,
   "metadata": {},
   "outputs": [
    {
     "data": {
      "text/plain": [
       "[<matplotlib.lines.Line2D at 0x1a2b384b10>]"
      ]
     },
     "execution_count": 221,
     "metadata": {},
     "output_type": "execute_result"
    },
    {
     "data": {
      "image/png": "[encoded data removed]",
      "text/plain": [
       "<Figure size 864x576 with 1 Axes>"
      ]
     },
     "metadata": {
      "needs_background": "light"
     },
     "output_type": "display_data"
    }
   ],
   "source": [
    "small_df=tweet_df[tweet_df['retweet_count']<6000]\n",
    "plt.figure(figsize=(12,8))\n",
    "x=small_df['retweet_count']\n",
    "y=small_df['favorite_count']\n",
    "plt.scatter(x,y,alpha=.3)\n",
    "plt.xlabel('Retweets')\n",
    "plt.ylabel('Likes')\n",
    "\n",
    "b, m = polyfit(x, y, 1)\n",
    "plt.plot(x, b + m * x, '-',color='red')"
   ]
  },
  {
   "cell_type": "markdown",
   "metadata": {
    "collapsed": true
   },
   "source": [
    "Next I look at the most popular hashtags:"
   ]
  },
  {
   "cell_type": "code",
   "execution_count": 222,
   "metadata": {},
   "outputs": [
    {
     "data": {
      "text/plain": [
       "BarkWeek           9\n",
       "PrideMonth         4\n",
       "ImWithThor         1\n",
       "PrideMonthPuppo    1\n",
       "notallpuppers      1\n",
       "WomensMarch        1\n",
       "WKCDogShow         1\n",
       "ScienceMarch       1\n",
       "K9VeteransDay      1\n",
       "swole              1\n",
       "Name: hashtag, dtype: int64"
      ]
     },
     "execution_count": 222,
     "metadata": {},
     "output_type": "execute_result"
    }
   ],
   "source": [
    "hashtag_df['hashtag'].value_counts().head(10)"
   ]
  },
  {
   "cell_type": "markdown",
   "metadata": {},
   "source": [
    "Unfortunately, it looks like the data here is very sparse."
   ]
  },
  {
   "cell_type": "code",
   "execution_count": 223,
   "metadata": {},
   "outputs": [
    {
     "name": "stdout",
     "output_type": "stream",
     "text": [
      "<class 'pandas.core.frame.DataFrame'>\n",
      "RangeIndex: 26 entries, 0 to 25\n",
      "Data columns (total 2 columns):\n",
      "hashtag     26 non-null object\n",
      "tweet_id    26 non-null object\n",
      "dtypes: object(2)\n",
      "memory usage: 488.0+ bytes\n"
     ]
    }
   ],
   "source": [
    "hashtag_df.info()"
   ]
  },
  {
   "cell_type": "markdown",
   "metadata": {},
   "source": [
    "I create a `rating` column:"
   ]
  },
  {
   "cell_type": "code",
   "execution_count": 224,
   "metadata": {},
   "outputs": [],
   "source": [
    "tweet_df['rating_numerator']=tweet_df['rating_numerator'].astype(float)\n",
    "tweet_df['rating_denominator']=tweet_df['rating_denominator'].astype(float)\n",
    "temp_df=tweet_df.dropna(subset=['rating_denominator'],axis=0)\n",
    "\n",
    "for i in temp_df.index:\n",
    "    if tweet_df.loc[i,'rating_numerator'] is not None:\n",
    "        tweet_df.loc[i,'rating']=float(tweet_df.loc[i,'rating_numerator']/tweet_df.loc[i,'rating_denominator'])"
   ]
  },
  {
   "cell_type": "code",
   "execution_count": 225,
   "metadata": {
    "scrolled": true
   },
   "outputs": [
    {
     "data": {
      "text/plain": [
       "772     177.6\n",
       "1838     42.0\n",
       "270       1.4\n",
       "502       1.4\n",
       "321       1.4\n",
       "73        1.4\n",
       "584       1.4\n",
       "174       1.4\n",
       "32        1.4\n",
       "67        1.4\n",
       "480       1.4\n",
       "171       1.4\n",
       "351       1.4\n",
       "37        1.4\n",
       "342       1.4\n",
       "331       1.4\n",
       "273       1.4\n",
       "382       1.4\n",
       "51        1.4\n",
       "138       1.4\n",
       "336       1.4\n",
       "671       1.4\n",
       "162       1.4\n",
       "95        1.4\n",
       "154       1.4\n",
       "857       1.4\n",
       "607       1.4\n",
       "295       1.4\n",
       "722       1.4\n",
       "352       1.4\n",
       "Name: rating, dtype: float64"
      ]
     },
     "execution_count": 225,
     "metadata": {},
     "output_type": "execute_result"
    }
   ],
   "source": [
    "tweet_df.sort_values('rating',ascending=False)['rating'].head(30)"
   ]
  },
  {
   "cell_type": "markdown",
   "metadata": {},
   "source": [
    "The highest rating is just a play on the Declaration of Independence year, and the second highest rating belongs to Snoop Dog. So the highest authentic ratings are 1.4, which seem to be pretty common. Let's see if there is any relationship between ratings on the one hand, and retweets and likes on the other. First retweetsL"
   ]
  },
  {
   "cell_type": "code",
   "execution_count": 239,
   "metadata": {},
   "outputs": [
    {
     "data": {
      "text/plain": [
       "<matplotlib.collections.PathCollection at 0x1a2c5ae350>"
      ]
     },
     "execution_count": 239,
     "metadata": {},
     "output_type": "execute_result"
    },
    {
     "data": {
      "image/png": "[encoded data removed]",
      "text/plain": [
       "<Figure size 864x576 with 1 Axes>"
      ]
     },
     "metadata": {
      "needs_background": "light"
     },
     "output_type": "display_data"
    }
   ],
   "source": [
    "plt.figure(figsize=(12,8))\n",
    "temp_df=tweet_df.drop([772,1838],axis=0)\n",
    "plt.scatter(temp_df['rating'],temp_df['retweet_count'],alpha=.3)"
   ]
  },
  {
   "cell_type": "markdown",
   "metadata": {},
   "source": [
    "...then likes. "
   ]
  },
  {
   "cell_type": "code",
   "execution_count": 240,
   "metadata": {
    "scrolled": false
   },
   "outputs": [
    {
     "data": {
      "text/plain": [
       "Text(0.5,1,'Likes versus Ratings')"
      ]
     },
     "execution_count": 240,
     "metadata": {},
     "output_type": "execute_result"
    },
    {
     "data": {
      "image/png": "[encoded data removed]",
      "text/plain": [
       "<Figure size 576x432 with 1 Axes>"
      ]
     },
     "metadata": {
      "needs_background": "light"
     },
     "output_type": "display_data"
    }
   ],
   "source": [
    "plt.figure(figsize=(8,6))\n",
    "plt.scatter(temp_df['rating'],temp_df['favorite_count'],alpha=.3)\n",
    "plt.xlabel('Rating')\n",
    "plt.ylabel('Likes')\n",
    "plt.title('Likes versus Ratings')"
   ]
  },
  {
   "cell_type": "markdown",
   "metadata": {},
   "source": [
    "I look at the relationship between likes and ratings in a diffeent way - by checking the average number of likes for tweets with a certain rating:"
   ]
  },
  {
   "cell_type": "code",
   "execution_count": 228,
   "metadata": {
    "scrolled": true
   },
   "outputs": [
    {
     "data": {
      "text/html": [
       "<div>\n",
       "<style scoped>\n",
       "    .dataframe tbody tr th:only-of-type {\n",
       "        vertical-align: middle;\n",
       "    }\n",
       "\n",
       "    .dataframe tbody tr th {\n",
       "        vertical-align: top;\n",
       "    }\n",
       "\n",
       "    .dataframe thead th {\n",
       "        text-align: right;\n",
       "    }\n",
       "</style>\n",
       "<table border=\"1\" class=\"dataframe\">\n",
       "  <thead>\n",
       "    <tr style=\"text-align: right;\">\n",
       "      <th></th>\n",
       "      <th>rating</th>\n",
       "      <th>average_likes</th>\n",
       "    </tr>\n",
       "  </thead>\n",
       "  <tbody>\n",
       "    <tr>\n",
       "      <th>1</th>\n",
       "      <td>1.0</td>\n",
       "      <td>6848.250000</td>\n",
       "    </tr>\n",
       "    <tr>\n",
       "      <th>2</th>\n",
       "      <td>2.0</td>\n",
       "      <td>2375.700000</td>\n",
       "    </tr>\n",
       "    <tr>\n",
       "      <th>3</th>\n",
       "      <td>3.0</td>\n",
       "      <td>2301.157895</td>\n",
       "    </tr>\n",
       "    <tr>\n",
       "      <th>4</th>\n",
       "      <td>4.0</td>\n",
       "      <td>2639.400000</td>\n",
       "    </tr>\n",
       "    <tr>\n",
       "      <th>5</th>\n",
       "      <td>5.0</td>\n",
       "      <td>2535.878788</td>\n",
       "    </tr>\n",
       "    <tr>\n",
       "      <th>6</th>\n",
       "      <td>6.0</td>\n",
       "      <td>2614.031250</td>\n",
       "    </tr>\n",
       "    <tr>\n",
       "      <th>7</th>\n",
       "      <td>7.0</td>\n",
       "      <td>2909.666667</td>\n",
       "    </tr>\n",
       "    <tr>\n",
       "      <th>8</th>\n",
       "      <td>8.0</td>\n",
       "      <td>2320.591837</td>\n",
       "    </tr>\n",
       "    <tr>\n",
       "      <th>9</th>\n",
       "      <td>9.0</td>\n",
       "      <td>2454.358974</td>\n",
       "    </tr>\n",
       "    <tr>\n",
       "      <th>10</th>\n",
       "      <td>10.0</td>\n",
       "      <td>4092.173913</td>\n",
       "    </tr>\n",
       "    <tr>\n",
       "      <th>11</th>\n",
       "      <td>11.0</td>\n",
       "      <td>6634.952941</td>\n",
       "    </tr>\n",
       "    <tr>\n",
       "      <th>12</th>\n",
       "      <td>12.0</td>\n",
       "      <td>10702.713415</td>\n",
       "    </tr>\n",
       "    <tr>\n",
       "      <th>13</th>\n",
       "      <td>13.0</td>\n",
       "      <td>21946.725424</td>\n",
       "    </tr>\n",
       "    <tr>\n",
       "      <th>14</th>\n",
       "      <td>14.0</td>\n",
       "      <td>27928.292683</td>\n",
       "    </tr>\n",
       "  </tbody>\n",
       "</table>\n",
       "</div>"
      ],
      "text/plain": [
       "    rating  average_likes\n",
       "1      1.0    6848.250000\n",
       "2      2.0    2375.700000\n",
       "3      3.0    2301.157895\n",
       "4      4.0    2639.400000\n",
       "5      5.0    2535.878788\n",
       "6      6.0    2614.031250\n",
       "7      7.0    2909.666667\n",
       "8      8.0    2320.591837\n",
       "9      9.0    2454.358974\n",
       "10    10.0    4092.173913\n",
       "11    11.0    6634.952941\n",
       "12    12.0   10702.713415\n",
       "13    13.0   21946.725424\n",
       "14    14.0   27928.292683"
      ]
     },
     "execution_count": 228,
     "metadata": {},
     "output_type": "execute_result"
    }
   ],
   "source": [
    "temp_df=tweet_df.drop([782,1850],axis=0)\n",
    "\n",
    "for i in temp_df.index:\n",
    "    temp_df.loc[i,'rating']=int(temp_df.loc[i,'rating']*10)\n",
    "    \n",
    "# temp_df.sort_values('rating',ascending=False)['rating'].head(30)\n",
    "\n",
    "# temp_df['rating']=temp_df['rating'].astype(int)\n",
    "# temp_df.groupby('rating')['favorite_count'].count()\n",
    "temp_df=temp_df.groupby('rating')['favorite_count'].mean().to_frame('average_likes').reset_index().loc[1:14,]\n",
    "temp_df"
   ]
  },
  {
   "cell_type": "code",
   "execution_count": 229,
   "metadata": {},
   "outputs": [
    {
     "data": {
      "text/plain": [
       "Text(0.5,1,'Average Likes per Rating')"
      ]
     },
     "execution_count": 229,
     "metadata": {},
     "output_type": "execute_result"
    },
    {
     "data": {
      "image/png": "[encoded data removed]",
      "text/plain": [
       "<Figure size 864x576 with 1 Axes>"
      ]
     },
     "metadata": {
      "needs_background": "light"
     },
     "output_type": "display_data"
    }
   ],
   "source": [
    "import numpy as np \n",
    "plt.figure(figsize=(12,8))\n",
    "\n",
    "index=np.arange(temp_df.shape[0])\n",
    "labels=np.arange(1,15)\n",
    "# plt.bar(index,temp_df['average_likes'],align='edge',width=.6)\n",
    "\n",
    "plt.bar(index,temp_df['average_likes'],width=.3)\n",
    "plt.xticks(index, labels, fontsize=12, rotation=45)\n",
    "plt.xlabel('Rating')\n",
    "plt.ylabel('Average Likes')\n",
    "plt.title('Average Likes per Rating',fontsize=15)"
   ]
  },
  {
   "cell_type": "code",
   "execution_count": 230,
   "metadata": {},
   "outputs": [],
   "source": [
    "# temp_df=tweet_df.drop([979,2074],axis=0)\n",
    "\n",
    "# plt.figure(figsize=(12,8))\n",
    "# plt.scatter(temp_df['rating'],temp_df['favorite_count'],alpha=.3)\n",
    "# plt.ylim((0,25000))"
   ]
  },
  {
   "cell_type": "markdown",
   "metadata": {},
   "source": [
    "Next I look at the distribution of posts over time - first over months of the year, next over days in the week, and finally over the course of a day."
   ]
  },
  {
   "cell_type": "code",
   "execution_count": 231,
   "metadata": {},
   "outputs": [],
   "source": [
    "tweet_df['month_sent']=tweet_df['timestamp'].dt.month\n",
    "\n",
    "month_list=['January','February','March','April','May','June','July','August','September','October','November','December']\n",
    "for i in range(tweet_df.shape[0]):\n",
    "    tweet_df.loc[i,'month_sent']=month_list[int(tweet_df.loc[i,'month_sent'])-1]\n",
    "    \n",
    "tweet_df['day_sent']=tweet_df['timestamp'].dt.weekday\n",
    "\n",
    "weekday_list=['Monday','Tuesday','Wednesday','Thursday','Friday','Saturday','Sunday']\n",
    "for i in range(tweet_df.shape[0]):\n",
    "    tweet_df.loc[i,'day_sent']=weekday_list[tweet_df.loc[i,'day_sent']]\n",
    "    \n",
    "tweet_df['hour_sent']=tweet_df['timestamp'].dt.hour"
   ]
  },
  {
   "cell_type": "code",
   "execution_count": 232,
   "metadata": {
    "scrolled": false
   },
   "outputs": [
    {
     "data": {
      "text/plain": [
       "<BarContainer object of 12 artists>"
      ]
     },
     "execution_count": 232,
     "metadata": {},
     "output_type": "execute_result"
    },
    {
     "data": {
      "image/png": "[encoded data removed]",
      "text/plain": [
       "<Figure size 864x576 with 1 Axes>"
      ]
     },
     "metadata": {
      "needs_background": "light"
     },
     "output_type": "display_data"
    }
   ],
   "source": [
    "plt.figure(figsize=(12,8))\n",
    "serie=tweet_df['month_sent'].value_counts()\n",
    "serie=serie.reindex(['January','February','March','April','May','June','July','August','September','October','November','December'])\n",
    "serie\n",
    "index=np.arange(len(serie))\n",
    "labels=['January','February','March','April','May','June','July','August','September','October','November','December']\n",
    "plt.xticks(index, labels, fontsize=12, rotation=45)\n",
    "plt.bar(index,serie.values,align='edge',width=.6)\n"
   ]
  },
  {
   "cell_type": "markdown",
   "metadata": {},
   "source": [
    "November and December have an unusually high number of posts. This might be because the time interval contains more November and December months than other months. Let's check:"
   ]
  },
  {
   "cell_type": "code",
   "execution_count": 233,
   "metadata": {},
   "outputs": [
    {
     "name": "stdout",
     "output_type": "stream",
     "text": [
      "2015-11-15 22:32:08\n",
      "2017-08-01 16:23:56\n"
     ]
    }
   ],
   "source": [
    "print min(tweet_df['timestamp'])\n",
    "print max(tweet_df['timestamp'])"
   ]
  },
  {
   "cell_type": "markdown",
   "metadata": {},
   "source": [
    "It looks like November and December do indeed have a higher number of posts on average than other months - but the time range explains why August, September and October have a lower number of posts. Let's look only at the 2016 posts, to have a better sense of the distribution of posts per month."
   ]
  },
  {
   "cell_type": "code",
   "execution_count": 234,
   "metadata": {},
   "outputs": [
    {
     "data": {
      "text/plain": [
       "<BarContainer object of 12 artists>"
      ]
     },
     "execution_count": 234,
     "metadata": {},
     "output_type": "execute_result"
    },
    {
     "data": {
      "image/png": "[encoded data removed]",
      "text/plain": [
       "<Figure size 864x576 with 1 Axes>"
      ]
     },
     "metadata": {
      "needs_background": "light"
     },
     "output_type": "display_data"
    }
   ],
   "source": [
    "plt.figure(figsize=(12,8))\n",
    "criterion=(tweet_df['timestamp']>'2016-01-01 00:00:01') & (tweet_df['timestamp']<'2016-12-31 23:59:59')\n",
    "temp_df=tweet_df[criterion]\n",
    "serie=temp_df['month_sent'].value_counts()\n",
    "serie=serie.reindex(['January','February','March','April','May','June','July','August','September','October','November','December'])\n",
    "serie\n",
    "index=np.arange(len(serie))\n",
    "labels=['January','February','March','April','May','June','July','August','September','October','November','December']\n",
    "plt.xticks(index, labels, fontsize=12, rotation=45)\n",
    "plt.bar(index,serie.values,align='edge',width=.6)\n"
   ]
  },
  {
   "cell_type": "code",
   "execution_count": 235,
   "metadata": {},
   "outputs": [
    {
     "name": "stdout",
     "output_type": "stream",
     "text": [
      "Monday       351\n",
      "Tuesday      316\n",
      "Wednesday    314\n",
      "Thursday     299\n",
      "Friday       295\n",
      "Saturday     271\n",
      "Sunday       269\n",
      "Name: day_sent, dtype: int64\n"
     ]
    },
    {
     "data": {
      "text/plain": [
       "<BarContainer object of 7 artists>"
      ]
     },
     "execution_count": 235,
     "metadata": {},
     "output_type": "execute_result"
    },
    {
     "data": {
      "image/png": "[encoded data removed]",
      "text/plain": [
       "<Figure size 864x576 with 1 Axes>"
      ]
     },
     "metadata": {
      "needs_background": "light"
     },
     "output_type": "display_data"
    }
   ],
   "source": [
    "plt.figure(figsize=(12,8))\n",
    "serie=tweet_df['day_sent'].value_counts()\n",
    "print serie\n",
    "\n",
    "serie=serie.reindex(['Monday','Tuesday','Wednesday','Thursday','Friday','Saturday','Sunday'])\n",
    "\n",
    "index=np.arange(len(serie))\n",
    "labels=['Monday','Tuesday','Wednesday','Thursday','Friday','Saturday','Sunday']\n",
    "plt.xticks(index, labels, fontsize=12, rotation=45)\n",
    "plt.bar(index,serie.values,align='edge',width=.4)\n"
   ]
  },
  {
   "cell_type": "code",
   "execution_count": 236,
   "metadata": {},
   "outputs": [
    {
     "data": {
      "text/plain": [
       "Text(0.5,1,'Distribution of Tweets Over the Course of A Day')"
      ]
     },
     "execution_count": 236,
     "metadata": {},
     "output_type": "execute_result"
    },
    {
     "data": {
      "image/png": "[encoded data removed]",
      "text/plain": [
       "<Figure size 864x576 with 1 Axes>"
      ]
     },
     "metadata": {
      "needs_background": "light"
     },
     "output_type": "display_data"
    }
   ],
   "source": [
    "plt.figure(figsize=(12,8))\n",
    "serie=tweet_df['hour_sent'].value_counts()\n",
    "# print serie\n",
    "# serie=serie.reindex(['0','1','2','3','4','5','6','13','14','15','16','17','18','19','20','21','22','23'])\n",
    "serie=serie.reindex([0,1,2,3,4,5,6,13,14,15,16,17,18,19,20,21,22,23])\n",
    "\n",
    "ind=np.arange(len(serie))\n",
    "\n",
    "labels=serie.index\n",
    "plt.xticks(ind,labels, fontsize=12, rotation=45)\n",
    "plt.bar(ind,serie.values,align='edge',width=.4)\n",
    "plt.xlabel('Hour of Day')\n",
    "plt.ylabel('Number of Posts')\n",
    "plt.title('Distribution of Tweets Over the Course of A Day',fontsize=16)\n"
   ]
  },
  {
   "cell_type": "markdown",
   "metadata": {},
   "source": [
    "The distribution of tweets over the course of a day is a little odd. Either the owner of this account is a night owl, or he lives in a different timezone than the one recorded in the tweet's timestamps. An internet search reveals that the owner, Matt Nelson, lives in West Virginia, and that the timestamps indicate West Coast times. I adjust the times to the East Coast, and I draw the bar chart once more:"
   ]
  },
  {
   "cell_type": "code",
   "execution_count": 237,
   "metadata": {},
   "outputs": [
    {
     "name": "stdout",
     "output_type": "stream",
     "text": [
      "4     289\n",
      "3     262\n",
      "5     223\n",
      "19    204\n",
      "6     185\n",
      "20    172\n",
      "2     115\n",
      "21    109\n",
      "7     100\n",
      "18     96\n",
      "22     87\n",
      "23     85\n",
      "1      73\n",
      "0      73\n",
      "8      27\n",
      "17      9\n",
      "9       4\n",
      "16      2\n",
      "Name: hour_sent, dtype: int64\n"
     ]
    },
    {
     "data": {
      "text/plain": [
       "Text(0.5,1,'Distribution of Tweets Over the Course of A Day')"
      ]
     },
     "execution_count": 237,
     "metadata": {},
     "output_type": "execute_result"
    },
    {
     "data": {
      "image/png": "[encoded data removed]",
      "text/plain": [
       "<Figure size 864x576 with 1 Axes>"
      ]
     },
     "metadata": {
      "needs_background": "light"
     },
     "output_type": "display_data"
    }
   ],
   "source": [
    "import datetime\n",
    "tweet_df['timestamp']=tweet_df['timestamp']+datetime.timedelta(hours=3)\n",
    "tweet_df['hour_sent']=tweet_df['timestamp'].dt.hour\n",
    "\n",
    "plt.figure(figsize=(12,8))\n",
    "serie=tweet_df['hour_sent'].value_counts()\n",
    "print serie\n",
    "# serie=serie.reindex(['0','1','2','3','4','5','6','13','14','15','16','17','18','19','20','21','22','23'])\n",
    "serie=serie.reindex([0,1,2,3,4,5,6,7,8,9,10,11,12,13,14,15,16,17,18,19,20,21,22,23])\n",
    "\n",
    "ind=np.arange(len(serie))\n",
    "\n",
    "labels=serie.index\n",
    "plt.xticks(ind,labels, fontsize=12, rotation=45)\n",
    "plt.bar(ind,serie.values,align='edge',width=.4)\n",
    "plt.xlabel('Hour of Day')\n",
    "plt.ylabel('Number of Posts')\n",
    "plt.title('Distribution of Tweets Over the Course of A Day',fontsize=16)"
   ]
  },
  {
   "cell_type": "markdown",
   "metadata": {},
   "source": [
    "Even after correcting for the timezone difference, it looks like Matt Nelson is a night owl - most of his tweets are posted in the evening or very late at night. (Or he schedules his tweets at very late hours). "
   ]
  },
  {
   "cell_type": "code",
   "execution_count": 238,
   "metadata": {},
   "outputs": [
    {
     "name": "stdout",
     "output_type": "stream",
     "text": [
      "<class 'pandas.core.frame.DataFrame'>\n",
      "RangeIndex: 2115 entries, 0 to 2114\n",
      "Data columns (total 19 columns):\n",
      "index                    2115 non-null int64\n",
      "tweet_id                 2115 non-null object\n",
      "in_reply_to_status_id    23 non-null float64\n",
      "in_reply_to_user_id      23 non-null float64\n",
      "timestamp                2115 non-null datetime64[ns]\n",
      "source                   2115 non-null object\n",
      "text                     2115 non-null object\n",
      "expanded_urls            2115 non-null object\n",
      "rating_numerator         2115 non-null float64\n",
      "rating_denominator       2115 non-null float64\n",
      "name                     2034 non-null object\n",
      "retweet_count            2115 non-null float64\n",
      "favorite_count           2115 non-null float64\n",
      "rating                   2115 non-null float64\n",
      "hashtags                 2110 non-null object\n",
      "dog_stage                2115 non-null object\n",
      "month_sent               2115 non-null object\n",
      "day_sent                 2115 non-null object\n",
      "hour_sent                2115 non-null int64\n",
      "dtypes: datetime64[ns](1), float64(7), int64(2), object(9)\n",
      "memory usage: 314.0+ KB\n"
     ]
    }
   ],
   "source": [
    "tweet_df.info()"
   ]
  }
 ],
 "metadata": {
  "celltoolbar": "Raw Cell Format",
  "kernelspec": {
   "display_name": "Python 2",
   "language": "python",
   "name": "python2"
  },
  "language_info": {
   "codemirror_mode": {
    "name": "ipython",
    "version": 2
   },
   "file_extension": ".py",
   "mimetype": "text/x-python",
   "name": "python",
   "nbconvert_exporter": "python",
   "pygments_lexer": "ipython2",
   "version": "2.7.15"
  }
 },
 "nbformat": 4,
 "nbformat_minor": 2
}
